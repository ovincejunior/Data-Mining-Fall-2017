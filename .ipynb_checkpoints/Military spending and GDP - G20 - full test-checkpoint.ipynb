{
 "cells": [
  {
   "cell_type": "code",
   "execution_count": 1,
   "metadata": {
    "collapsed": true
   },
   "outputs": [],
   "source": [
    "#Upload packages \n",
    "\n",
    "import pandas as pd\n",
    "import numpy as np      #need to check why I import this????\n",
    "import matplotlib.pyplot as plt\n",
    "\n",
    "\n",
    "###Visualization\n",
    "import seaborn as sns\n",
    "plt.style.use('ggplot')\n",
    "\n",
    "#plt.style.use('fivethirtyeight')\n",
    "#from IPython.display import display ##need to check why????\n"
   ]
  },
  {
   "cell_type": "code",
   "execution_count": 3,
   "metadata": {
    "collapsed": true
   },
   "outputs": [],
   "source": [
    "pd.set_option('display.notebook_repr_html', True)\n",
    "pd.set_option('display.precision', 2)"
   ]
  },
  {
   "cell_type": "code",
   "execution_count": 4,
   "metadata": {
    "collapsed": true
   },
   "outputs": [],
   "source": [
    "%matplotlib inline"
   ]
  },
  {
   "cell_type": "code",
   "execution_count": null,
   "metadata": {
    "collapsed": true
   },
   "outputs": [],
   "source": [
    "# Make the graphs a bit prettier, and bigger\n",
    "#pd.set_option('matplotlib.pyplot.style', 'ggplot')\n",
    "\n",
    "\n",
    "#pd.set_option('display.mpl_style', 'default') \n",
    "#this is deprecated. need to check the suggesting one above"
   ]
  },
  {
   "cell_type": "code",
   "execution_count": 109,
   "metadata": {
    "collapsed": true
   },
   "outputs": [],
   "source": [
    "##Creation of dataframes \n",
    "\n",
    "#GDP growth- in percentage  \n",
    "GDP_growth2 = pd.read_csv('GDP_growth2.csv', index_col=0)\n",
    "\n",
    "#GDP (constant 2010) - in million of USD\n",
    "GDP_constant2 = pd.read_csv('GDP_constant2.csv', index_col='country')\n",
    "GDP_constant2 = GDP_constant2.div(float(1000000))\n",
    "\n",
    "#GDP per capita - in USD \n",
    "GDP_per_capita2 = pd.read_csv('GDP_per_capita2.csv', index_col=0)\n",
    "\n",
    "#Military spending share of GDP - in percentage   ??????? I MIGHT NOT USE THIS ONE ????? (CONVERT IT IN FLOAT)\n",
    "#military_spending_GDP2 = pd.read_csv('military_spending_GDP2.csv', index_col=0)\n",
    "\n",
    "\n",
    "#Military spending per capita - in USD\n",
    "military_spending_per_capita2 = pd.read_csv('military_spending_per_capita2.csv', index_col=0)\n",
    "\n",
    "\n",
    "#GDP (constant 2010) - in million of USD\n",
    "military_spending2 = pd.read_csv('military_spending2.csv', index_col='country')"
   ]
  },
  {
   "cell_type": "code",
   "execution_count": null,
   "metadata": {
    "collapsed": true
   },
   "outputs": [],
   "source": [
    "#index_col='year', names = [x for x in range(2012,2016+1)],"
   ]
  },
  {
   "cell_type": "code",
   "execution_count": 6,
   "metadata": {},
   "outputs": [
    {
     "data": {
      "text/plain": [
       "Index(['Australia', 'Argentina', 'Brazil', 'Canada', 'China', 'France',\n",
       "       'Germany', 'India', 'Italy', 'Indonesia', 'Japan', 'Mexico',\n",
       "       'Russian Federation', 'Saudi Arabia', 'South Africa', 'United States',\n",
       "       'South Korea', 'Turkey', 'United Kingdom'],\n",
       "      dtype='object', name='country')"
      ]
     },
     "execution_count": 6,
     "metadata": {},
     "output_type": "execute_result"
    }
   ],
   "source": [
    "GDP_constant2.index"
   ]
  },
  {
   "cell_type": "code",
   "execution_count": 104,
   "metadata": {},
   "outputs": [
    {
     "data": {
      "text/plain": [
       "Index(['2012', '2013', '2014', '2015', '2016'], dtype='object')"
      ]
     },
     "execution_count": 104,
     "metadata": {},
     "output_type": "execute_result"
    }
   ],
   "source": [
    "military_spending2.T.index"
   ]
  },
  {
   "cell_type": "code",
   "execution_count": 8,
   "metadata": {},
   "outputs": [
    {
     "data": {
      "text/plain": [
       "<matplotlib.axes._subplots.AxesSubplot at 0x1bdaba02550>"
      ]
     },
     "execution_count": 8,
     "metadata": {},
     "output_type": "execute_result"
    },
    {
     "data": {
      "image/png": "[encoded data removed]",
      "text/plain": [
       "<matplotlib.figure.Figure at 0x1bdab9ee668>"
      ]
     },
     "metadata": {},
     "output_type": "display_data"
    }
   ],
   "source": [
    "military_spending_per_capita2.loc['Brazil'].plot()"
   ]
  },
  {
   "cell_type": "code",
   "execution_count": 61,
   "metadata": {},
   "outputs": [
    {
     "data": {
      "text/html": [
       "<div>\n",
       "<style>\n",
       "    .dataframe thead tr:only-child th {\n",
       "        text-align: right;\n",
       "    }\n",
       "\n",
       "    .dataframe thead th {\n",
       "        text-align: left;\n",
       "    }\n",
       "\n",
       "    .dataframe tbody tr th {\n",
       "        vertical-align: top;\n",
       "    }\n",
       "</style>\n",
       "<table border=\"1\" class=\"dataframe\">\n",
       "  <thead>\n",
       "    <tr style=\"text-align: right;\">\n",
       "      <th></th>\n",
       "      <th>2012</th>\n",
       "      <th>2013</th>\n",
       "      <th>2014</th>\n",
       "      <th>2015</th>\n",
       "      <th>2016</th>\n",
       "    </tr>\n",
       "    <tr>\n",
       "      <th>year</th>\n",
       "      <th></th>\n",
       "      <th></th>\n",
       "      <th></th>\n",
       "      <th></th>\n",
       "      <th></th>\n",
       "    </tr>\n",
       "  </thead>\n",
       "  <tbody>\n",
       "    <tr>\n",
       "      <th>Turkey</th>\n",
       "      <td>239.9</td>\n",
       "      <td>244.8</td>\n",
       "      <td>229.2</td>\n",
       "      <td>201.9</td>\n",
       "      <td>185.9</td>\n",
       "    </tr>\n",
       "    <tr>\n",
       "      <th>United Kingdom</th>\n",
       "      <td>920.1</td>\n",
       "      <td>889.1</td>\n",
       "      <td>920.0</td>\n",
       "      <td>832.3</td>\n",
       "      <td>741.3</td>\n",
       "    </tr>\n",
       "    <tr>\n",
       "      <th>Mexico</th>\n",
       "      <td>57.2</td>\n",
       "      <td>63.3</td>\n",
       "      <td>69.1</td>\n",
       "      <td>60.9</td>\n",
       "      <td>46.8</td>\n",
       "    </tr>\n",
       "  </tbody>\n",
       "</table>\n",
       "</div>"
      ],
      "text/plain": [
       "                 2012   2013   2014   2015   2016\n",
       "year                                             \n",
       "Turkey          239.9  244.8  229.2  201.9  185.9\n",
       "United Kingdom  920.1  889.1  920.0  832.3  741.3\n",
       "Mexico           57.2   63.3   69.1   60.9   46.8"
      ]
     },
     "execution_count": 61,
     "metadata": {},
     "output_type": "execute_result"
    }
   ],
   "source": [
    "military_spending_per_capita2.tail(3)"
   ]
  },
  {
   "cell_type": "code",
   "execution_count": 64,
   "metadata": {},
   "outputs": [
    {
     "data": {
      "text/plain": [
       "2012    167.9\n",
       "2013    160.9\n",
       "2014    158.5\n",
       "2015    118.4\n",
       "2016    113.0\n",
       "Name: Brazil, dtype: float64"
      ]
     },
     "execution_count": 64,
     "metadata": {},
     "output_type": "execute_result"
    }
   ],
   "source": [
    "military_spending_per_capita2.loc['Brazil']"
   ]
  },
  {
   "cell_type": "code",
   "execution_count": 63,
   "metadata": {},
   "outputs": [
    {
     "data": {
      "text/html": [
       "<div>\n",
       "<style>\n",
       "    .dataframe thead tr:only-child th {\n",
       "        text-align: right;\n",
       "    }\n",
       "\n",
       "    .dataframe thead th {\n",
       "        text-align: left;\n",
       "    }\n",
       "\n",
       "    .dataframe tbody tr th {\n",
       "        vertical-align: top;\n",
       "    }\n",
       "</style>\n",
       "<table border=\"1\" class=\"dataframe\">\n",
       "  <thead>\n",
       "    <tr style=\"text-align: right;\">\n",
       "      <th></th>\n",
       "      <th>2012</th>\n",
       "      <th>2013</th>\n",
       "      <th>2014</th>\n",
       "      <th>2015</th>\n",
       "      <th>2016</th>\n",
       "    </tr>\n",
       "    <tr>\n",
       "      <th>year</th>\n",
       "      <th></th>\n",
       "      <th></th>\n",
       "      <th></th>\n",
       "      <th></th>\n",
       "      <th></th>\n",
       "    </tr>\n",
       "  </thead>\n",
       "  <tbody>\n",
       "    <tr>\n",
       "      <th>Argentina</th>\n",
       "      <td>4776</td>\n",
       "      <td>5351</td>\n",
       "      <td>5536</td>\n",
       "      <td>5483</td>\n",
       "      <td>6164</td>\n",
       "    </tr>\n",
       "    <tr>\n",
       "      <th>Australia</th>\n",
       "      <td>20275</td>\n",
       "      <td>20099</td>\n",
       "      <td>21814</td>\n",
       "      <td>24040</td>\n",
       "      <td>24371</td>\n",
       "    </tr>\n",
       "    <tr>\n",
       "      <th>Brazil</th>\n",
       "      <td>24574</td>\n",
       "      <td>24708</td>\n",
       "      <td>25201</td>\n",
       "      <td>24618</td>\n",
       "      <td>22839</td>\n",
       "    </tr>\n",
       "    <tr>\n",
       "      <th>Canada</th>\n",
       "      <td>16619</td>\n",
       "      <td>15362</td>\n",
       "      <td>15613</td>\n",
       "      <td>15317</td>\n",
       "      <td>15505</td>\n",
       "    </tr>\n",
       "  </tbody>\n",
       "</table>\n",
       "</div>"
      ],
      "text/plain": [
       "            2012   2013   2014   2015   2016\n",
       "year                                        \n",
       "Argentina   4776   5351   5536   5483   6164\n",
       "Australia  20275  20099  21814  24040  24371\n",
       "Brazil     24574  24708  25201  24618  22839\n",
       "Canada     16619  15362  15613  15317  15505"
      ]
     },
     "execution_count": 63,
     "metadata": {},
     "output_type": "execute_result"
    }
   ],
   "source": [
    "military_spending2.head(4)"
   ]
  },
  {
   "cell_type": "code",
   "execution_count": 7,
   "metadata": {
    "collapsed": true
   },
   "outputs": [],
   "source": [
    "#Concatenate the dataframes \n",
    "\n",
    "#1. GDP and military spending \n",
    "GDP = GDP_constant2.T\n",
    "MS = military_spending2.T\n",
    "frames = [GDP, MS]\n",
    "GDP_MS = pd.concat(frames, keys=['GDP', 'Military'], names = ['variables', 'year'])\n",
    "\n",
    "###I WILL CONSIDER RENAMES IF NECESSARY\n",
    "\n",
    "#GDP = GDP_constant2.T.rename(index={0:'year'}, columns={1:\"Countries\"}) ### ??? Might need to delete this piece of rename????\n",
    "#MS = military_spending2.T.rename(index={0:'year'}, columns={1:\"Countries\"}) \n",
    "\n",
    "#df.rename(index={0:'Date'}, columns={1:'SM'}, inplace=True)\n",
    "##STILL DONT GET THE OUTPUT FORGDP.columns - the name is year. weird!\n"
   ]
  },
  {
   "cell_type": "code",
   "execution_count": 8,
   "metadata": {},
   "outputs": [
    {
     "data": {
      "text/html": [
       "<div>\n",
       "<style>\n",
       "    .dataframe thead tr:only-child th {\n",
       "        text-align: right;\n",
       "    }\n",
       "\n",
       "    .dataframe thead th {\n",
       "        text-align: left;\n",
       "    }\n",
       "\n",
       "    .dataframe tbody tr th {\n",
       "        vertical-align: top;\n",
       "    }\n",
       "</style>\n",
       "<table border=\"1\" class=\"dataframe\">\n",
       "  <thead>\n",
       "    <tr style=\"text-align: right;\">\n",
       "      <th></th>\n",
       "      <th></th>\n",
       "      <th>Argentina</th>\n",
       "      <th>Australia</th>\n",
       "      <th>Brazil</th>\n",
       "      <th>Canada</th>\n",
       "      <th>China</th>\n",
       "      <th>France</th>\n",
       "      <th>Germany</th>\n",
       "      <th>India</th>\n",
       "      <th>Indonesia</th>\n",
       "      <th>Italy</th>\n",
       "      <th>Japan</th>\n",
       "      <th>Mexico</th>\n",
       "      <th>Russian Federation</th>\n",
       "      <th>Saudi Arabia</th>\n",
       "      <th>South Africa</th>\n",
       "      <th>South Korea</th>\n",
       "      <th>Turkey</th>\n",
       "      <th>United Kingdom</th>\n",
       "      <th>United States</th>\n",
       "    </tr>\n",
       "    <tr>\n",
       "      <th>variables</th>\n",
       "      <th>year</th>\n",
       "      <th></th>\n",
       "      <th></th>\n",
       "      <th></th>\n",
       "      <th></th>\n",
       "      <th></th>\n",
       "      <th></th>\n",
       "      <th></th>\n",
       "      <th></th>\n",
       "      <th></th>\n",
       "      <th></th>\n",
       "      <th></th>\n",
       "      <th></th>\n",
       "      <th></th>\n",
       "      <th></th>\n",
       "      <th></th>\n",
       "      <th></th>\n",
       "      <th></th>\n",
       "      <th></th>\n",
       "      <th></th>\n",
       "    </tr>\n",
       "  </thead>\n",
       "  <tbody>\n",
       "    <tr>\n",
       "      <th rowspan=\"5\" valign=\"top\">GDP</th>\n",
       "      <th>2012</th>\n",
       "      <td>444000.0</td>\n",
       "      <td>1.21e+06</td>\n",
       "      <td>2.34e+06</td>\n",
       "      <td>1.69e+06</td>\n",
       "      <td>7.21e+06</td>\n",
       "      <td>2.71e+06</td>\n",
       "      <td>3.56e+06</td>\n",
       "      <td>1.86e+06</td>\n",
       "      <td>8.50e+05</td>\n",
       "      <td>2.08e+06</td>\n",
       "      <td>5.78e+06</td>\n",
       "      <td>1.14e+06</td>\n",
       "      <td>1.65e+06</td>\n",
       "      <td>612000.0</td>\n",
       "      <td>396000.0</td>\n",
       "      <td>1.16e+06</td>\n",
       "      <td>8.99e+05</td>\n",
       "      <td>2.50e+06</td>\n",
       "      <td>1.55e+07</td>\n",
       "    </tr>\n",
       "    <tr>\n",
       "      <th>2013</th>\n",
       "      <td>455000.0</td>\n",
       "      <td>1.24e+06</td>\n",
       "      <td>2.41e+06</td>\n",
       "      <td>1.74e+06</td>\n",
       "      <td>7.77e+06</td>\n",
       "      <td>2.72e+06</td>\n",
       "      <td>3.58e+06</td>\n",
       "      <td>1.98e+06</td>\n",
       "      <td>8.97e+05</td>\n",
       "      <td>2.04e+06</td>\n",
       "      <td>5.89e+06</td>\n",
       "      <td>1.15e+06</td>\n",
       "      <td>1.67e+06</td>\n",
       "      <td>629000.0</td>\n",
       "      <td>406000.0</td>\n",
       "      <td>1.19e+06</td>\n",
       "      <td>9.75e+05</td>\n",
       "      <td>2.55e+06</td>\n",
       "      <td>1.58e+07</td>\n",
       "    </tr>\n",
       "    <tr>\n",
       "      <th>2014</th>\n",
       "      <td>444000.0</td>\n",
       "      <td>1.28e+06</td>\n",
       "      <td>2.42e+06</td>\n",
       "      <td>1.78e+06</td>\n",
       "      <td>8.33e+06</td>\n",
       "      <td>2.75e+06</td>\n",
       "      <td>3.63e+06</td>\n",
       "      <td>2.13e+06</td>\n",
       "      <td>9.42e+05</td>\n",
       "      <td>2.04e+06</td>\n",
       "      <td>5.91e+06</td>\n",
       "      <td>1.18e+06</td>\n",
       "      <td>1.68e+06</td>\n",
       "      <td>652000.0</td>\n",
       "      <td>413000.0</td>\n",
       "      <td>1.23e+06</td>\n",
       "      <td>1.03e+06</td>\n",
       "      <td>2.62e+06</td>\n",
       "      <td>1.62e+07</td>\n",
       "    </tr>\n",
       "    <tr>\n",
       "      <th>2015</th>\n",
       "      <td>455000.0</td>\n",
       "      <td>1.31e+06</td>\n",
       "      <td>2.33e+06</td>\n",
       "      <td>1.80e+06</td>\n",
       "      <td>8.91e+06</td>\n",
       "      <td>2.78e+06</td>\n",
       "      <td>3.70e+06</td>\n",
       "      <td>2.30e+06</td>\n",
       "      <td>9.88e+05</td>\n",
       "      <td>2.06e+06</td>\n",
       "      <td>5.99e+06</td>\n",
       "      <td>1.21e+06</td>\n",
       "      <td>1.63e+06</td>\n",
       "      <td>679000.0</td>\n",
       "      <td>418000.0</td>\n",
       "      <td>1.27e+06</td>\n",
       "      <td>1.09e+06</td>\n",
       "      <td>2.68e+06</td>\n",
       "      <td>1.66e+07</td>\n",
       "    </tr>\n",
       "    <tr>\n",
       "      <th>2016</th>\n",
       "      <td>445000.0</td>\n",
       "      <td>1.34e+06</td>\n",
       "      <td>2.25e+06</td>\n",
       "      <td>1.82e+06</td>\n",
       "      <td>9.51e+06</td>\n",
       "      <td>2.81e+06</td>\n",
       "      <td>3.77e+06</td>\n",
       "      <td>2.46e+06</td>\n",
       "      <td>1.04e+06</td>\n",
       "      <td>2.08e+06</td>\n",
       "      <td>6.05e+06</td>\n",
       "      <td>1.24e+06</td>\n",
       "      <td>1.63e+06</td>\n",
       "      <td>691000.0</td>\n",
       "      <td>420000.0</td>\n",
       "      <td>1.30e+06</td>\n",
       "      <td>1.12e+06</td>\n",
       "      <td>2.73e+06</td>\n",
       "      <td>1.69e+07</td>\n",
       "    </tr>\n",
       "    <tr>\n",
       "      <th rowspan=\"5\" valign=\"top\">Military</th>\n",
       "      <th>2012</th>\n",
       "      <td>4776.0</td>\n",
       "      <td>2.03e+04</td>\n",
       "      <td>2.46e+04</td>\n",
       "      <td>1.66e+04</td>\n",
       "      <td>1.69e+05</td>\n",
       "      <td>5.26e+04</td>\n",
       "      <td>4.12e+04</td>\n",
       "      <td>4.88e+04</td>\n",
       "      <td>5.51e+03</td>\n",
       "      <td>2.96e+04</td>\n",
       "      <td>4.11e+04</td>\n",
       "      <td>6.43e+03</td>\n",
       "      <td>5.48e+04</td>\n",
       "      <td>61352.0</td>\n",
       "      <td>3389.0</td>\n",
       "      <td>3.29e+04</td>\n",
       "      <td>1.49e+04</td>\n",
       "      <td>5.89e+04</td>\n",
       "      <td>7.07e+05</td>\n",
       "    </tr>\n",
       "    <tr>\n",
       "      <th>2013</th>\n",
       "      <td>5351.0</td>\n",
       "      <td>2.01e+04</td>\n",
       "      <td>2.47e+04</td>\n",
       "      <td>1.54e+04</td>\n",
       "      <td>1.85e+05</td>\n",
       "      <td>5.24e+04</td>\n",
       "      <td>3.88e+04</td>\n",
       "      <td>4.84e+04</td>\n",
       "      <td>7.41e+03</td>\n",
       "      <td>2.84e+04</td>\n",
       "      <td>4.09e+04</td>\n",
       "      <td>6.75e+03</td>\n",
       "      <td>5.75e+04</td>\n",
       "      <td>70313.0</td>\n",
       "      <td>3467.0</td>\n",
       "      <td>3.39e+04</td>\n",
       "      <td>1.53e+04</td>\n",
       "      <td>5.64e+04</td>\n",
       "      <td>6.51e+05</td>\n",
       "    </tr>\n",
       "    <tr>\n",
       "      <th>2014</th>\n",
       "      <td>5536.0</td>\n",
       "      <td>2.18e+04</td>\n",
       "      <td>2.52e+04</td>\n",
       "      <td>1.56e+04</td>\n",
       "      <td>2.01e+05</td>\n",
       "      <td>5.32e+04</td>\n",
       "      <td>3.86e+04</td>\n",
       "      <td>5.08e+04</td>\n",
       "      <td>6.53e+03</td>\n",
       "      <td>2.64e+04</td>\n",
       "      <td>4.12e+04</td>\n",
       "      <td>7.46e+03</td>\n",
       "      <td>6.16e+04</td>\n",
       "      <td>82527.0</td>\n",
       "      <td>3464.0</td>\n",
       "      <td>3.50e+04</td>\n",
       "      <td>1.54e+04</td>\n",
       "      <td>5.49e+04</td>\n",
       "      <td>6.11e+05</td>\n",
       "    </tr>\n",
       "    <tr>\n",
       "      <th>2015</th>\n",
       "      <td>5483.0</td>\n",
       "      <td>2.40e+04</td>\n",
       "      <td>2.46e+04</td>\n",
       "      <td>1.53e+04</td>\n",
       "      <td>2.14e+05</td>\n",
       "      <td>5.53e+04</td>\n",
       "      <td>3.98e+04</td>\n",
       "      <td>5.13e+04</td>\n",
       "      <td>7.64e+03</td>\n",
       "      <td>2.53e+04</td>\n",
       "      <td>4.11e+04</td>\n",
       "      <td>7.74e+03</td>\n",
       "      <td>6.64e+04</td>\n",
       "      <td>87186.0</td>\n",
       "      <td>3460.0</td>\n",
       "      <td>3.64e+04</td>\n",
       "      <td>1.59e+04</td>\n",
       "      <td>5.39e+04</td>\n",
       "      <td>5.96e+05</td>\n",
       "    </tr>\n",
       "    <tr>\n",
       "      <th>2016</th>\n",
       "      <td>6164.0</td>\n",
       "      <td>2.44e+04</td>\n",
       "      <td>2.28e+04</td>\n",
       "      <td>1.55e+04</td>\n",
       "      <td>2.26e+05</td>\n",
       "      <td>5.57e+04</td>\n",
       "      <td>4.10e+04</td>\n",
       "      <td>5.56e+04</td>\n",
       "      <td>7.78e+03</td>\n",
       "      <td>2.80e+04</td>\n",
       "      <td>4.16e+04</td>\n",
       "      <td>6.89e+03</td>\n",
       "      <td>7.03e+04</td>\n",
       "      <td>61358.0</td>\n",
       "      <td>3424.0</td>\n",
       "      <td>3.73e+04</td>\n",
       "      <td>1.50e+04</td>\n",
       "      <td>5.42e+04</td>\n",
       "      <td>6.06e+05</td>\n",
       "    </tr>\n",
       "  </tbody>\n",
       "</table>\n",
       "</div>"
      ],
      "text/plain": [
       "                Argentina  Australia    Brazil    Canada     China    France  \\\n",
       "variables year                                                                 \n",
       "GDP       2012   444000.0   1.21e+06  2.34e+06  1.69e+06  7.21e+06  2.71e+06   \n",
       "          2013   455000.0   1.24e+06  2.41e+06  1.74e+06  7.77e+06  2.72e+06   \n",
       "          2014   444000.0   1.28e+06  2.42e+06  1.78e+06  8.33e+06  2.75e+06   \n",
       "          2015   455000.0   1.31e+06  2.33e+06  1.80e+06  8.91e+06  2.78e+06   \n",
       "          2016   445000.0   1.34e+06  2.25e+06  1.82e+06  9.51e+06  2.81e+06   \n",
       "Military  2012     4776.0   2.03e+04  2.46e+04  1.66e+04  1.69e+05  5.26e+04   \n",
       "          2013     5351.0   2.01e+04  2.47e+04  1.54e+04  1.85e+05  5.24e+04   \n",
       "          2014     5536.0   2.18e+04  2.52e+04  1.56e+04  2.01e+05  5.32e+04   \n",
       "          2015     5483.0   2.40e+04  2.46e+04  1.53e+04  2.14e+05  5.53e+04   \n",
       "          2016     6164.0   2.44e+04  2.28e+04  1.55e+04  2.26e+05  5.57e+04   \n",
       "\n",
       "                 Germany     India  Indonesia     Italy     Japan    Mexico  \\\n",
       "variables year                                                                \n",
       "GDP       2012  3.56e+06  1.86e+06   8.50e+05  2.08e+06  5.78e+06  1.14e+06   \n",
       "          2013  3.58e+06  1.98e+06   8.97e+05  2.04e+06  5.89e+06  1.15e+06   \n",
       "          2014  3.63e+06  2.13e+06   9.42e+05  2.04e+06  5.91e+06  1.18e+06   \n",
       "          2015  3.70e+06  2.30e+06   9.88e+05  2.06e+06  5.99e+06  1.21e+06   \n",
       "          2016  3.77e+06  2.46e+06   1.04e+06  2.08e+06  6.05e+06  1.24e+06   \n",
       "Military  2012  4.12e+04  4.88e+04   5.51e+03  2.96e+04  4.11e+04  6.43e+03   \n",
       "          2013  3.88e+04  4.84e+04   7.41e+03  2.84e+04  4.09e+04  6.75e+03   \n",
       "          2014  3.86e+04  5.08e+04   6.53e+03  2.64e+04  4.12e+04  7.46e+03   \n",
       "          2015  3.98e+04  5.13e+04   7.64e+03  2.53e+04  4.11e+04  7.74e+03   \n",
       "          2016  4.10e+04  5.56e+04   7.78e+03  2.80e+04  4.16e+04  6.89e+03   \n",
       "\n",
       "                Russian Federation  Saudi Arabia  South Africa  South Korea  \\\n",
       "variables year                                                                \n",
       "GDP       2012            1.65e+06      612000.0      396000.0     1.16e+06   \n",
       "          2013            1.67e+06      629000.0      406000.0     1.19e+06   \n",
       "          2014            1.68e+06      652000.0      413000.0     1.23e+06   \n",
       "          2015            1.63e+06      679000.0      418000.0     1.27e+06   \n",
       "          2016            1.63e+06      691000.0      420000.0     1.30e+06   \n",
       "Military  2012            5.48e+04       61352.0        3389.0     3.29e+04   \n",
       "          2013            5.75e+04       70313.0        3467.0     3.39e+04   \n",
       "          2014            6.16e+04       82527.0        3464.0     3.50e+04   \n",
       "          2015            6.64e+04       87186.0        3460.0     3.64e+04   \n",
       "          2016            7.03e+04       61358.0        3424.0     3.73e+04   \n",
       "\n",
       "                  Turkey  United Kingdom  United States  \n",
       "variables year                                           \n",
       "GDP       2012  8.99e+05        2.50e+06       1.55e+07  \n",
       "          2013  9.75e+05        2.55e+06       1.58e+07  \n",
       "          2014  1.03e+06        2.62e+06       1.62e+07  \n",
       "          2015  1.09e+06        2.68e+06       1.66e+07  \n",
       "          2016  1.12e+06        2.73e+06       1.69e+07  \n",
       "Military  2012  1.49e+04        5.89e+04       7.07e+05  \n",
       "          2013  1.53e+04        5.64e+04       6.51e+05  \n",
       "          2014  1.54e+04        5.49e+04       6.11e+05  \n",
       "          2015  1.59e+04        5.39e+04       5.96e+05  \n",
       "          2016  1.50e+04        5.42e+04       6.06e+05  "
      ]
     },
     "execution_count": 8,
     "metadata": {},
     "output_type": "execute_result"
    }
   ],
   "source": [
    "GDP_MS\n",
    "\n",
    "###STILL CHECK THE DATA COHERENCE \n",
    "#run MS GDP"
   ]
  },
  {
   "cell_type": "code",
   "execution_count": 109,
   "metadata": {},
   "outputs": [
    {
     "data": {
      "text/plain": [
       "MultiIndex(levels=[['GDP', 'Military'], ['2012', '2013', '2014', '2015', '2016']],\n",
       "           labels=[[0, 0, 0, 0, 0, 1, 1, 1, 1, 1], [0, 1, 2, 3, 4, 0, 1, 2, 3, 4]],\n",
       "           names=['variables', 'year'])"
      ]
     },
     "execution_count": 109,
     "metadata": {},
     "output_type": "execute_result"
    }
   ],
   "source": [
    "GDP_MS.index"
   ]
  },
  {
   "cell_type": "code",
   "execution_count": 120,
   "metadata": {},
   "outputs": [
    {
     "data": {
      "text/plain": [
       "Index(['Argentina', 'Australia', 'Brazil', 'Canada', 'China', 'France',\n",
       "       'Germany', 'India', 'Indonesia', 'Italy', 'Japan', 'Mexico',\n",
       "       'Russian Federation', 'Saudi Arabia', 'South Africa', 'South Korea',\n",
       "       'Turkey', 'United Kingdom', 'United States'],\n",
       "      dtype='object')"
      ]
     },
     "execution_count": 120,
     "metadata": {},
     "output_type": "execute_result"
    }
   ],
   "source": [
    "GDP_MS.columns"
   ]
  },
  {
   "cell_type": "code",
   "execution_count": 9,
   "metadata": {
    "collapsed": true
   },
   "outputs": [],
   "source": [
    "GDP_MS_reset = GDP_MS.reset_index()"
   ]
  },
  {
   "cell_type": "code",
   "execution_count": 10,
   "metadata": {},
   "outputs": [
    {
     "data": {
      "text/html": [
       "<div>\n",
       "<style>\n",
       "    .dataframe thead tr:only-child th {\n",
       "        text-align: right;\n",
       "    }\n",
       "\n",
       "    .dataframe thead th {\n",
       "        text-align: left;\n",
       "    }\n",
       "\n",
       "    .dataframe tbody tr th {\n",
       "        vertical-align: top;\n",
       "    }\n",
       "</style>\n",
       "<table border=\"1\" class=\"dataframe\">\n",
       "  <thead>\n",
       "    <tr style=\"text-align: right;\">\n",
       "      <th></th>\n",
       "      <th>variables</th>\n",
       "      <th>year</th>\n",
       "      <th>Argentina</th>\n",
       "      <th>Australia</th>\n",
       "      <th>Brazil</th>\n",
       "      <th>Canada</th>\n",
       "      <th>China</th>\n",
       "      <th>France</th>\n",
       "      <th>Germany</th>\n",
       "      <th>India</th>\n",
       "      <th>...</th>\n",
       "      <th>Italy</th>\n",
       "      <th>Japan</th>\n",
       "      <th>Mexico</th>\n",
       "      <th>Russian Federation</th>\n",
       "      <th>Saudi Arabia</th>\n",
       "      <th>South Africa</th>\n",
       "      <th>South Korea</th>\n",
       "      <th>Turkey</th>\n",
       "      <th>United Kingdom</th>\n",
       "      <th>United States</th>\n",
       "    </tr>\n",
       "  </thead>\n",
       "  <tbody>\n",
       "    <tr>\n",
       "      <th>0</th>\n",
       "      <td>GDP</td>\n",
       "      <td>2012</td>\n",
       "      <td>444000.0</td>\n",
       "      <td>1.21e+06</td>\n",
       "      <td>2.34e+06</td>\n",
       "      <td>1.69e+06</td>\n",
       "      <td>7.21e+06</td>\n",
       "      <td>2.71e+06</td>\n",
       "      <td>3.56e+06</td>\n",
       "      <td>1.86e+06</td>\n",
       "      <td>...</td>\n",
       "      <td>2.08e+06</td>\n",
       "      <td>5.78e+06</td>\n",
       "      <td>1.14e+06</td>\n",
       "      <td>1.65e+06</td>\n",
       "      <td>612000.0</td>\n",
       "      <td>396000.0</td>\n",
       "      <td>1.16e+06</td>\n",
       "      <td>8.99e+05</td>\n",
       "      <td>2.50e+06</td>\n",
       "      <td>1.55e+07</td>\n",
       "    </tr>\n",
       "    <tr>\n",
       "      <th>1</th>\n",
       "      <td>GDP</td>\n",
       "      <td>2013</td>\n",
       "      <td>455000.0</td>\n",
       "      <td>1.24e+06</td>\n",
       "      <td>2.41e+06</td>\n",
       "      <td>1.74e+06</td>\n",
       "      <td>7.77e+06</td>\n",
       "      <td>2.72e+06</td>\n",
       "      <td>3.58e+06</td>\n",
       "      <td>1.98e+06</td>\n",
       "      <td>...</td>\n",
       "      <td>2.04e+06</td>\n",
       "      <td>5.89e+06</td>\n",
       "      <td>1.15e+06</td>\n",
       "      <td>1.67e+06</td>\n",
       "      <td>629000.0</td>\n",
       "      <td>406000.0</td>\n",
       "      <td>1.19e+06</td>\n",
       "      <td>9.75e+05</td>\n",
       "      <td>2.55e+06</td>\n",
       "      <td>1.58e+07</td>\n",
       "    </tr>\n",
       "    <tr>\n",
       "      <th>2</th>\n",
       "      <td>GDP</td>\n",
       "      <td>2014</td>\n",
       "      <td>444000.0</td>\n",
       "      <td>1.28e+06</td>\n",
       "      <td>2.42e+06</td>\n",
       "      <td>1.78e+06</td>\n",
       "      <td>8.33e+06</td>\n",
       "      <td>2.75e+06</td>\n",
       "      <td>3.63e+06</td>\n",
       "      <td>2.13e+06</td>\n",
       "      <td>...</td>\n",
       "      <td>2.04e+06</td>\n",
       "      <td>5.91e+06</td>\n",
       "      <td>1.18e+06</td>\n",
       "      <td>1.68e+06</td>\n",
       "      <td>652000.0</td>\n",
       "      <td>413000.0</td>\n",
       "      <td>1.23e+06</td>\n",
       "      <td>1.03e+06</td>\n",
       "      <td>2.62e+06</td>\n",
       "      <td>1.62e+07</td>\n",
       "    </tr>\n",
       "  </tbody>\n",
       "</table>\n",
       "<p>3 rows × 21 columns</p>\n",
       "</div>"
      ],
      "text/plain": [
       "  variables  year  Argentina  Australia    Brazil    Canada     China  \\\n",
       "0       GDP  2012   444000.0   1.21e+06  2.34e+06  1.69e+06  7.21e+06   \n",
       "1       GDP  2013   455000.0   1.24e+06  2.41e+06  1.74e+06  7.77e+06   \n",
       "2       GDP  2014   444000.0   1.28e+06  2.42e+06  1.78e+06  8.33e+06   \n",
       "\n",
       "     France   Germany     India      ...           Italy     Japan    Mexico  \\\n",
       "0  2.71e+06  3.56e+06  1.86e+06      ...        2.08e+06  5.78e+06  1.14e+06   \n",
       "1  2.72e+06  3.58e+06  1.98e+06      ...        2.04e+06  5.89e+06  1.15e+06   \n",
       "2  2.75e+06  3.63e+06  2.13e+06      ...        2.04e+06  5.91e+06  1.18e+06   \n",
       "\n",
       "   Russian Federation  Saudi Arabia  South Africa  South Korea    Turkey  \\\n",
       "0            1.65e+06      612000.0      396000.0     1.16e+06  8.99e+05   \n",
       "1            1.67e+06      629000.0      406000.0     1.19e+06  9.75e+05   \n",
       "2            1.68e+06      652000.0      413000.0     1.23e+06  1.03e+06   \n",
       "\n",
       "   United Kingdom  United States  \n",
       "0        2.50e+06       1.55e+07  \n",
       "1        2.55e+06       1.58e+07  \n",
       "2        2.62e+06       1.62e+07  \n",
       "\n",
       "[3 rows x 21 columns]"
      ]
     },
     "execution_count": 10,
     "metadata": {},
     "output_type": "execute_result"
    }
   ],
   "source": [
    "GDP_MS_reset.head(3)"
   ]
  },
  {
   "cell_type": "code",
   "execution_count": 11,
   "metadata": {
    "collapsed": true
   },
   "outputs": [],
   "source": [
    "GDP2 = GDP_MS_reset.set_index(['variables', 'year'])"
   ]
  },
  {
   "cell_type": "code",
   "execution_count": 12,
   "metadata": {},
   "outputs": [
    {
     "data": {
      "text/html": [
       "<div>\n",
       "<style>\n",
       "    .dataframe thead tr:only-child th {\n",
       "        text-align: right;\n",
       "    }\n",
       "\n",
       "    .dataframe thead th {\n",
       "        text-align: left;\n",
       "    }\n",
       "\n",
       "    .dataframe tbody tr th {\n",
       "        vertical-align: top;\n",
       "    }\n",
       "</style>\n",
       "<table border=\"1\" class=\"dataframe\">\n",
       "  <thead>\n",
       "    <tr style=\"text-align: right;\">\n",
       "      <th></th>\n",
       "      <th></th>\n",
       "      <th>Argentina</th>\n",
       "      <th>Australia</th>\n",
       "      <th>Brazil</th>\n",
       "      <th>Canada</th>\n",
       "      <th>China</th>\n",
       "      <th>France</th>\n",
       "      <th>Germany</th>\n",
       "      <th>India</th>\n",
       "      <th>Indonesia</th>\n",
       "      <th>Italy</th>\n",
       "      <th>Japan</th>\n",
       "      <th>Mexico</th>\n",
       "      <th>Russian Federation</th>\n",
       "      <th>Saudi Arabia</th>\n",
       "      <th>South Africa</th>\n",
       "      <th>South Korea</th>\n",
       "      <th>Turkey</th>\n",
       "      <th>United Kingdom</th>\n",
       "      <th>United States</th>\n",
       "    </tr>\n",
       "    <tr>\n",
       "      <th>variables</th>\n",
       "      <th>year</th>\n",
       "      <th></th>\n",
       "      <th></th>\n",
       "      <th></th>\n",
       "      <th></th>\n",
       "      <th></th>\n",
       "      <th></th>\n",
       "      <th></th>\n",
       "      <th></th>\n",
       "      <th></th>\n",
       "      <th></th>\n",
       "      <th></th>\n",
       "      <th></th>\n",
       "      <th></th>\n",
       "      <th></th>\n",
       "      <th></th>\n",
       "      <th></th>\n",
       "      <th></th>\n",
       "      <th></th>\n",
       "      <th></th>\n",
       "    </tr>\n",
       "  </thead>\n",
       "  <tbody>\n",
       "    <tr>\n",
       "      <th rowspan=\"5\" valign=\"top\">GDP</th>\n",
       "      <th>2012</th>\n",
       "      <td>444000.0</td>\n",
       "      <td>1.21e+06</td>\n",
       "      <td>2.34e+06</td>\n",
       "      <td>1.69e+06</td>\n",
       "      <td>7.21e+06</td>\n",
       "      <td>2.71e+06</td>\n",
       "      <td>3.56e+06</td>\n",
       "      <td>1.86e+06</td>\n",
       "      <td>8.50e+05</td>\n",
       "      <td>2.08e+06</td>\n",
       "      <td>5.78e+06</td>\n",
       "      <td>1.14e+06</td>\n",
       "      <td>1.65e+06</td>\n",
       "      <td>612000.0</td>\n",
       "      <td>396000.0</td>\n",
       "      <td>1.16e+06</td>\n",
       "      <td>8.99e+05</td>\n",
       "      <td>2.50e+06</td>\n",
       "      <td>1.55e+07</td>\n",
       "    </tr>\n",
       "    <tr>\n",
       "      <th>2013</th>\n",
       "      <td>455000.0</td>\n",
       "      <td>1.24e+06</td>\n",
       "      <td>2.41e+06</td>\n",
       "      <td>1.74e+06</td>\n",
       "      <td>7.77e+06</td>\n",
       "      <td>2.72e+06</td>\n",
       "      <td>3.58e+06</td>\n",
       "      <td>1.98e+06</td>\n",
       "      <td>8.97e+05</td>\n",
       "      <td>2.04e+06</td>\n",
       "      <td>5.89e+06</td>\n",
       "      <td>1.15e+06</td>\n",
       "      <td>1.67e+06</td>\n",
       "      <td>629000.0</td>\n",
       "      <td>406000.0</td>\n",
       "      <td>1.19e+06</td>\n",
       "      <td>9.75e+05</td>\n",
       "      <td>2.55e+06</td>\n",
       "      <td>1.58e+07</td>\n",
       "    </tr>\n",
       "    <tr>\n",
       "      <th>2014</th>\n",
       "      <td>444000.0</td>\n",
       "      <td>1.28e+06</td>\n",
       "      <td>2.42e+06</td>\n",
       "      <td>1.78e+06</td>\n",
       "      <td>8.33e+06</td>\n",
       "      <td>2.75e+06</td>\n",
       "      <td>3.63e+06</td>\n",
       "      <td>2.13e+06</td>\n",
       "      <td>9.42e+05</td>\n",
       "      <td>2.04e+06</td>\n",
       "      <td>5.91e+06</td>\n",
       "      <td>1.18e+06</td>\n",
       "      <td>1.68e+06</td>\n",
       "      <td>652000.0</td>\n",
       "      <td>413000.0</td>\n",
       "      <td>1.23e+06</td>\n",
       "      <td>1.03e+06</td>\n",
       "      <td>2.62e+06</td>\n",
       "      <td>1.62e+07</td>\n",
       "    </tr>\n",
       "    <tr>\n",
       "      <th>2015</th>\n",
       "      <td>455000.0</td>\n",
       "      <td>1.31e+06</td>\n",
       "      <td>2.33e+06</td>\n",
       "      <td>1.80e+06</td>\n",
       "      <td>8.91e+06</td>\n",
       "      <td>2.78e+06</td>\n",
       "      <td>3.70e+06</td>\n",
       "      <td>2.30e+06</td>\n",
       "      <td>9.88e+05</td>\n",
       "      <td>2.06e+06</td>\n",
       "      <td>5.99e+06</td>\n",
       "      <td>1.21e+06</td>\n",
       "      <td>1.63e+06</td>\n",
       "      <td>679000.0</td>\n",
       "      <td>418000.0</td>\n",
       "      <td>1.27e+06</td>\n",
       "      <td>1.09e+06</td>\n",
       "      <td>2.68e+06</td>\n",
       "      <td>1.66e+07</td>\n",
       "    </tr>\n",
       "    <tr>\n",
       "      <th>2016</th>\n",
       "      <td>445000.0</td>\n",
       "      <td>1.34e+06</td>\n",
       "      <td>2.25e+06</td>\n",
       "      <td>1.82e+06</td>\n",
       "      <td>9.51e+06</td>\n",
       "      <td>2.81e+06</td>\n",
       "      <td>3.77e+06</td>\n",
       "      <td>2.46e+06</td>\n",
       "      <td>1.04e+06</td>\n",
       "      <td>2.08e+06</td>\n",
       "      <td>6.05e+06</td>\n",
       "      <td>1.24e+06</td>\n",
       "      <td>1.63e+06</td>\n",
       "      <td>691000.0</td>\n",
       "      <td>420000.0</td>\n",
       "      <td>1.30e+06</td>\n",
       "      <td>1.12e+06</td>\n",
       "      <td>2.73e+06</td>\n",
       "      <td>1.69e+07</td>\n",
       "    </tr>\n",
       "    <tr>\n",
       "      <th rowspan=\"5\" valign=\"top\">Military</th>\n",
       "      <th>2012</th>\n",
       "      <td>4776.0</td>\n",
       "      <td>2.03e+04</td>\n",
       "      <td>2.46e+04</td>\n",
       "      <td>1.66e+04</td>\n",
       "      <td>1.69e+05</td>\n",
       "      <td>5.26e+04</td>\n",
       "      <td>4.12e+04</td>\n",
       "      <td>4.88e+04</td>\n",
       "      <td>5.51e+03</td>\n",
       "      <td>2.96e+04</td>\n",
       "      <td>4.11e+04</td>\n",
       "      <td>6.43e+03</td>\n",
       "      <td>5.48e+04</td>\n",
       "      <td>61352.0</td>\n",
       "      <td>3389.0</td>\n",
       "      <td>3.29e+04</td>\n",
       "      <td>1.49e+04</td>\n",
       "      <td>5.89e+04</td>\n",
       "      <td>7.07e+05</td>\n",
       "    </tr>\n",
       "    <tr>\n",
       "      <th>2013</th>\n",
       "      <td>5351.0</td>\n",
       "      <td>2.01e+04</td>\n",
       "      <td>2.47e+04</td>\n",
       "      <td>1.54e+04</td>\n",
       "      <td>1.85e+05</td>\n",
       "      <td>5.24e+04</td>\n",
       "      <td>3.88e+04</td>\n",
       "      <td>4.84e+04</td>\n",
       "      <td>7.41e+03</td>\n",
       "      <td>2.84e+04</td>\n",
       "      <td>4.09e+04</td>\n",
       "      <td>6.75e+03</td>\n",
       "      <td>5.75e+04</td>\n",
       "      <td>70313.0</td>\n",
       "      <td>3467.0</td>\n",
       "      <td>3.39e+04</td>\n",
       "      <td>1.53e+04</td>\n",
       "      <td>5.64e+04</td>\n",
       "      <td>6.51e+05</td>\n",
       "    </tr>\n",
       "    <tr>\n",
       "      <th>2014</th>\n",
       "      <td>5536.0</td>\n",
       "      <td>2.18e+04</td>\n",
       "      <td>2.52e+04</td>\n",
       "      <td>1.56e+04</td>\n",
       "      <td>2.01e+05</td>\n",
       "      <td>5.32e+04</td>\n",
       "      <td>3.86e+04</td>\n",
       "      <td>5.08e+04</td>\n",
       "      <td>6.53e+03</td>\n",
       "      <td>2.64e+04</td>\n",
       "      <td>4.12e+04</td>\n",
       "      <td>7.46e+03</td>\n",
       "      <td>6.16e+04</td>\n",
       "      <td>82527.0</td>\n",
       "      <td>3464.0</td>\n",
       "      <td>3.50e+04</td>\n",
       "      <td>1.54e+04</td>\n",
       "      <td>5.49e+04</td>\n",
       "      <td>6.11e+05</td>\n",
       "    </tr>\n",
       "    <tr>\n",
       "      <th>2015</th>\n",
       "      <td>5483.0</td>\n",
       "      <td>2.40e+04</td>\n",
       "      <td>2.46e+04</td>\n",
       "      <td>1.53e+04</td>\n",
       "      <td>2.14e+05</td>\n",
       "      <td>5.53e+04</td>\n",
       "      <td>3.98e+04</td>\n",
       "      <td>5.13e+04</td>\n",
       "      <td>7.64e+03</td>\n",
       "      <td>2.53e+04</td>\n",
       "      <td>4.11e+04</td>\n",
       "      <td>7.74e+03</td>\n",
       "      <td>6.64e+04</td>\n",
       "      <td>87186.0</td>\n",
       "      <td>3460.0</td>\n",
       "      <td>3.64e+04</td>\n",
       "      <td>1.59e+04</td>\n",
       "      <td>5.39e+04</td>\n",
       "      <td>5.96e+05</td>\n",
       "    </tr>\n",
       "    <tr>\n",
       "      <th>2016</th>\n",
       "      <td>6164.0</td>\n",
       "      <td>2.44e+04</td>\n",
       "      <td>2.28e+04</td>\n",
       "      <td>1.55e+04</td>\n",
       "      <td>2.26e+05</td>\n",
       "      <td>5.57e+04</td>\n",
       "      <td>4.10e+04</td>\n",
       "      <td>5.56e+04</td>\n",
       "      <td>7.78e+03</td>\n",
       "      <td>2.80e+04</td>\n",
       "      <td>4.16e+04</td>\n",
       "      <td>6.89e+03</td>\n",
       "      <td>7.03e+04</td>\n",
       "      <td>61358.0</td>\n",
       "      <td>3424.0</td>\n",
       "      <td>3.73e+04</td>\n",
       "      <td>1.50e+04</td>\n",
       "      <td>5.42e+04</td>\n",
       "      <td>6.06e+05</td>\n",
       "    </tr>\n",
       "  </tbody>\n",
       "</table>\n",
       "</div>"
      ],
      "text/plain": [
       "                Argentina  Australia    Brazil    Canada     China    France  \\\n",
       "variables year                                                                 \n",
       "GDP       2012   444000.0   1.21e+06  2.34e+06  1.69e+06  7.21e+06  2.71e+06   \n",
       "          2013   455000.0   1.24e+06  2.41e+06  1.74e+06  7.77e+06  2.72e+06   \n",
       "          2014   444000.0   1.28e+06  2.42e+06  1.78e+06  8.33e+06  2.75e+06   \n",
       "          2015   455000.0   1.31e+06  2.33e+06  1.80e+06  8.91e+06  2.78e+06   \n",
       "          2016   445000.0   1.34e+06  2.25e+06  1.82e+06  9.51e+06  2.81e+06   \n",
       "Military  2012     4776.0   2.03e+04  2.46e+04  1.66e+04  1.69e+05  5.26e+04   \n",
       "          2013     5351.0   2.01e+04  2.47e+04  1.54e+04  1.85e+05  5.24e+04   \n",
       "          2014     5536.0   2.18e+04  2.52e+04  1.56e+04  2.01e+05  5.32e+04   \n",
       "          2015     5483.0   2.40e+04  2.46e+04  1.53e+04  2.14e+05  5.53e+04   \n",
       "          2016     6164.0   2.44e+04  2.28e+04  1.55e+04  2.26e+05  5.57e+04   \n",
       "\n",
       "                 Germany     India  Indonesia     Italy     Japan    Mexico  \\\n",
       "variables year                                                                \n",
       "GDP       2012  3.56e+06  1.86e+06   8.50e+05  2.08e+06  5.78e+06  1.14e+06   \n",
       "          2013  3.58e+06  1.98e+06   8.97e+05  2.04e+06  5.89e+06  1.15e+06   \n",
       "          2014  3.63e+06  2.13e+06   9.42e+05  2.04e+06  5.91e+06  1.18e+06   \n",
       "          2015  3.70e+06  2.30e+06   9.88e+05  2.06e+06  5.99e+06  1.21e+06   \n",
       "          2016  3.77e+06  2.46e+06   1.04e+06  2.08e+06  6.05e+06  1.24e+06   \n",
       "Military  2012  4.12e+04  4.88e+04   5.51e+03  2.96e+04  4.11e+04  6.43e+03   \n",
       "          2013  3.88e+04  4.84e+04   7.41e+03  2.84e+04  4.09e+04  6.75e+03   \n",
       "          2014  3.86e+04  5.08e+04   6.53e+03  2.64e+04  4.12e+04  7.46e+03   \n",
       "          2015  3.98e+04  5.13e+04   7.64e+03  2.53e+04  4.11e+04  7.74e+03   \n",
       "          2016  4.10e+04  5.56e+04   7.78e+03  2.80e+04  4.16e+04  6.89e+03   \n",
       "\n",
       "                Russian Federation  Saudi Arabia  South Africa  South Korea  \\\n",
       "variables year                                                                \n",
       "GDP       2012            1.65e+06      612000.0      396000.0     1.16e+06   \n",
       "          2013            1.67e+06      629000.0      406000.0     1.19e+06   \n",
       "          2014            1.68e+06      652000.0      413000.0     1.23e+06   \n",
       "          2015            1.63e+06      679000.0      418000.0     1.27e+06   \n",
       "          2016            1.63e+06      691000.0      420000.0     1.30e+06   \n",
       "Military  2012            5.48e+04       61352.0        3389.0     3.29e+04   \n",
       "          2013            5.75e+04       70313.0        3467.0     3.39e+04   \n",
       "          2014            6.16e+04       82527.0        3464.0     3.50e+04   \n",
       "          2015            6.64e+04       87186.0        3460.0     3.64e+04   \n",
       "          2016            7.03e+04       61358.0        3424.0     3.73e+04   \n",
       "\n",
       "                  Turkey  United Kingdom  United States  \n",
       "variables year                                           \n",
       "GDP       2012  8.99e+05        2.50e+06       1.55e+07  \n",
       "          2013  9.75e+05        2.55e+06       1.58e+07  \n",
       "          2014  1.03e+06        2.62e+06       1.62e+07  \n",
       "          2015  1.09e+06        2.68e+06       1.66e+07  \n",
       "          2016  1.12e+06        2.73e+06       1.69e+07  \n",
       "Military  2012  1.49e+04        5.89e+04       7.07e+05  \n",
       "          2013  1.53e+04        5.64e+04       6.51e+05  \n",
       "          2014  1.54e+04        5.49e+04       6.11e+05  \n",
       "          2015  1.59e+04        5.39e+04       5.96e+05  \n",
       "          2016  1.50e+04        5.42e+04       6.06e+05  "
      ]
     },
     "execution_count": 12,
     "metadata": {},
     "output_type": "execute_result"
    }
   ],
   "source": [
    "GDP2"
   ]
  },
  {
   "cell_type": "code",
   "execution_count": 15,
   "metadata": {
    "collapsed": true
   },
   "outputs": [],
   "source": [
    "GDP_pivot = GDP_MS_reset.pivot_table(index=['variables', 'year'])"
   ]
  },
  {
   "cell_type": "code",
   "execution_count": 16,
   "metadata": {},
   "outputs": [
    {
     "data": {
      "text/html": [
       "<div>\n",
       "<style>\n",
       "    .dataframe thead tr:only-child th {\n",
       "        text-align: right;\n",
       "    }\n",
       "\n",
       "    .dataframe thead th {\n",
       "        text-align: left;\n",
       "    }\n",
       "\n",
       "    .dataframe tbody tr th {\n",
       "        vertical-align: top;\n",
       "    }\n",
       "</style>\n",
       "<table border=\"1\" class=\"dataframe\">\n",
       "  <thead>\n",
       "    <tr style=\"text-align: right;\">\n",
       "      <th></th>\n",
       "      <th></th>\n",
       "      <th>Argentina</th>\n",
       "      <th>Australia</th>\n",
       "      <th>Brazil</th>\n",
       "      <th>Canada</th>\n",
       "      <th>China</th>\n",
       "      <th>France</th>\n",
       "      <th>Germany</th>\n",
       "      <th>India</th>\n",
       "      <th>Indonesia</th>\n",
       "      <th>Italy</th>\n",
       "      <th>Japan</th>\n",
       "      <th>Mexico</th>\n",
       "      <th>Russian Federation</th>\n",
       "      <th>Saudi Arabia</th>\n",
       "      <th>South Africa</th>\n",
       "      <th>South Korea</th>\n",
       "      <th>Turkey</th>\n",
       "      <th>United Kingdom</th>\n",
       "      <th>United States</th>\n",
       "    </tr>\n",
       "    <tr>\n",
       "      <th>variables</th>\n",
       "      <th>year</th>\n",
       "      <th></th>\n",
       "      <th></th>\n",
       "      <th></th>\n",
       "      <th></th>\n",
       "      <th></th>\n",
       "      <th></th>\n",
       "      <th></th>\n",
       "      <th></th>\n",
       "      <th></th>\n",
       "      <th></th>\n",
       "      <th></th>\n",
       "      <th></th>\n",
       "      <th></th>\n",
       "      <th></th>\n",
       "      <th></th>\n",
       "      <th></th>\n",
       "      <th></th>\n",
       "      <th></th>\n",
       "      <th></th>\n",
       "    </tr>\n",
       "  </thead>\n",
       "  <tbody>\n",
       "    <tr>\n",
       "      <th rowspan=\"5\" valign=\"top\">GDP</th>\n",
       "      <th>2012</th>\n",
       "      <td>444000.0</td>\n",
       "      <td>1.21e+06</td>\n",
       "      <td>2.34e+06</td>\n",
       "      <td>1.69e+06</td>\n",
       "      <td>7.21e+06</td>\n",
       "      <td>2.71e+06</td>\n",
       "      <td>3.56e+06</td>\n",
       "      <td>1.86e+06</td>\n",
       "      <td>8.50e+05</td>\n",
       "      <td>2.08e+06</td>\n",
       "      <td>5.78e+06</td>\n",
       "      <td>1.14e+06</td>\n",
       "      <td>1.65e+06</td>\n",
       "      <td>612000.0</td>\n",
       "      <td>396000.0</td>\n",
       "      <td>1.16e+06</td>\n",
       "      <td>8.99e+05</td>\n",
       "      <td>2.50e+06</td>\n",
       "      <td>1.55e+07</td>\n",
       "    </tr>\n",
       "    <tr>\n",
       "      <th>2013</th>\n",
       "      <td>455000.0</td>\n",
       "      <td>1.24e+06</td>\n",
       "      <td>2.41e+06</td>\n",
       "      <td>1.74e+06</td>\n",
       "      <td>7.77e+06</td>\n",
       "      <td>2.72e+06</td>\n",
       "      <td>3.58e+06</td>\n",
       "      <td>1.98e+06</td>\n",
       "      <td>8.97e+05</td>\n",
       "      <td>2.04e+06</td>\n",
       "      <td>5.89e+06</td>\n",
       "      <td>1.15e+06</td>\n",
       "      <td>1.67e+06</td>\n",
       "      <td>629000.0</td>\n",
       "      <td>406000.0</td>\n",
       "      <td>1.19e+06</td>\n",
       "      <td>9.75e+05</td>\n",
       "      <td>2.55e+06</td>\n",
       "      <td>1.58e+07</td>\n",
       "    </tr>\n",
       "    <tr>\n",
       "      <th>2014</th>\n",
       "      <td>444000.0</td>\n",
       "      <td>1.28e+06</td>\n",
       "      <td>2.42e+06</td>\n",
       "      <td>1.78e+06</td>\n",
       "      <td>8.33e+06</td>\n",
       "      <td>2.75e+06</td>\n",
       "      <td>3.63e+06</td>\n",
       "      <td>2.13e+06</td>\n",
       "      <td>9.42e+05</td>\n",
       "      <td>2.04e+06</td>\n",
       "      <td>5.91e+06</td>\n",
       "      <td>1.18e+06</td>\n",
       "      <td>1.68e+06</td>\n",
       "      <td>652000.0</td>\n",
       "      <td>413000.0</td>\n",
       "      <td>1.23e+06</td>\n",
       "      <td>1.03e+06</td>\n",
       "      <td>2.62e+06</td>\n",
       "      <td>1.62e+07</td>\n",
       "    </tr>\n",
       "    <tr>\n",
       "      <th>2015</th>\n",
       "      <td>455000.0</td>\n",
       "      <td>1.31e+06</td>\n",
       "      <td>2.33e+06</td>\n",
       "      <td>1.80e+06</td>\n",
       "      <td>8.91e+06</td>\n",
       "      <td>2.78e+06</td>\n",
       "      <td>3.70e+06</td>\n",
       "      <td>2.30e+06</td>\n",
       "      <td>9.88e+05</td>\n",
       "      <td>2.06e+06</td>\n",
       "      <td>5.99e+06</td>\n",
       "      <td>1.21e+06</td>\n",
       "      <td>1.63e+06</td>\n",
       "      <td>679000.0</td>\n",
       "      <td>418000.0</td>\n",
       "      <td>1.27e+06</td>\n",
       "      <td>1.09e+06</td>\n",
       "      <td>2.68e+06</td>\n",
       "      <td>1.66e+07</td>\n",
       "    </tr>\n",
       "    <tr>\n",
       "      <th>2016</th>\n",
       "      <td>445000.0</td>\n",
       "      <td>1.34e+06</td>\n",
       "      <td>2.25e+06</td>\n",
       "      <td>1.82e+06</td>\n",
       "      <td>9.51e+06</td>\n",
       "      <td>2.81e+06</td>\n",
       "      <td>3.77e+06</td>\n",
       "      <td>2.46e+06</td>\n",
       "      <td>1.04e+06</td>\n",
       "      <td>2.08e+06</td>\n",
       "      <td>6.05e+06</td>\n",
       "      <td>1.24e+06</td>\n",
       "      <td>1.63e+06</td>\n",
       "      <td>691000.0</td>\n",
       "      <td>420000.0</td>\n",
       "      <td>1.30e+06</td>\n",
       "      <td>1.12e+06</td>\n",
       "      <td>2.73e+06</td>\n",
       "      <td>1.69e+07</td>\n",
       "    </tr>\n",
       "    <tr>\n",
       "      <th rowspan=\"5\" valign=\"top\">Military</th>\n",
       "      <th>2012</th>\n",
       "      <td>4776.0</td>\n",
       "      <td>2.03e+04</td>\n",
       "      <td>2.46e+04</td>\n",
       "      <td>1.66e+04</td>\n",
       "      <td>1.69e+05</td>\n",
       "      <td>5.26e+04</td>\n",
       "      <td>4.12e+04</td>\n",
       "      <td>4.88e+04</td>\n",
       "      <td>5.51e+03</td>\n",
       "      <td>2.96e+04</td>\n",
       "      <td>4.11e+04</td>\n",
       "      <td>6.43e+03</td>\n",
       "      <td>5.48e+04</td>\n",
       "      <td>61352.0</td>\n",
       "      <td>3389.0</td>\n",
       "      <td>3.29e+04</td>\n",
       "      <td>1.49e+04</td>\n",
       "      <td>5.89e+04</td>\n",
       "      <td>7.07e+05</td>\n",
       "    </tr>\n",
       "    <tr>\n",
       "      <th>2013</th>\n",
       "      <td>5351.0</td>\n",
       "      <td>2.01e+04</td>\n",
       "      <td>2.47e+04</td>\n",
       "      <td>1.54e+04</td>\n",
       "      <td>1.85e+05</td>\n",
       "      <td>5.24e+04</td>\n",
       "      <td>3.88e+04</td>\n",
       "      <td>4.84e+04</td>\n",
       "      <td>7.41e+03</td>\n",
       "      <td>2.84e+04</td>\n",
       "      <td>4.09e+04</td>\n",
       "      <td>6.75e+03</td>\n",
       "      <td>5.75e+04</td>\n",
       "      <td>70313.0</td>\n",
       "      <td>3467.0</td>\n",
       "      <td>3.39e+04</td>\n",
       "      <td>1.53e+04</td>\n",
       "      <td>5.64e+04</td>\n",
       "      <td>6.51e+05</td>\n",
       "    </tr>\n",
       "    <tr>\n",
       "      <th>2014</th>\n",
       "      <td>5536.0</td>\n",
       "      <td>2.18e+04</td>\n",
       "      <td>2.52e+04</td>\n",
       "      <td>1.56e+04</td>\n",
       "      <td>2.01e+05</td>\n",
       "      <td>5.32e+04</td>\n",
       "      <td>3.86e+04</td>\n",
       "      <td>5.08e+04</td>\n",
       "      <td>6.53e+03</td>\n",
       "      <td>2.64e+04</td>\n",
       "      <td>4.12e+04</td>\n",
       "      <td>7.46e+03</td>\n",
       "      <td>6.16e+04</td>\n",
       "      <td>82527.0</td>\n",
       "      <td>3464.0</td>\n",
       "      <td>3.50e+04</td>\n",
       "      <td>1.54e+04</td>\n",
       "      <td>5.49e+04</td>\n",
       "      <td>6.11e+05</td>\n",
       "    </tr>\n",
       "    <tr>\n",
       "      <th>2015</th>\n",
       "      <td>5483.0</td>\n",
       "      <td>2.40e+04</td>\n",
       "      <td>2.46e+04</td>\n",
       "      <td>1.53e+04</td>\n",
       "      <td>2.14e+05</td>\n",
       "      <td>5.53e+04</td>\n",
       "      <td>3.98e+04</td>\n",
       "      <td>5.13e+04</td>\n",
       "      <td>7.64e+03</td>\n",
       "      <td>2.53e+04</td>\n",
       "      <td>4.11e+04</td>\n",
       "      <td>7.74e+03</td>\n",
       "      <td>6.64e+04</td>\n",
       "      <td>87186.0</td>\n",
       "      <td>3460.0</td>\n",
       "      <td>3.64e+04</td>\n",
       "      <td>1.59e+04</td>\n",
       "      <td>5.39e+04</td>\n",
       "      <td>5.96e+05</td>\n",
       "    </tr>\n",
       "    <tr>\n",
       "      <th>2016</th>\n",
       "      <td>6164.0</td>\n",
       "      <td>2.44e+04</td>\n",
       "      <td>2.28e+04</td>\n",
       "      <td>1.55e+04</td>\n",
       "      <td>2.26e+05</td>\n",
       "      <td>5.57e+04</td>\n",
       "      <td>4.10e+04</td>\n",
       "      <td>5.56e+04</td>\n",
       "      <td>7.78e+03</td>\n",
       "      <td>2.80e+04</td>\n",
       "      <td>4.16e+04</td>\n",
       "      <td>6.89e+03</td>\n",
       "      <td>7.03e+04</td>\n",
       "      <td>61358.0</td>\n",
       "      <td>3424.0</td>\n",
       "      <td>3.73e+04</td>\n",
       "      <td>1.50e+04</td>\n",
       "      <td>5.42e+04</td>\n",
       "      <td>6.06e+05</td>\n",
       "    </tr>\n",
       "  </tbody>\n",
       "</table>\n",
       "</div>"
      ],
      "text/plain": [
       "                Argentina  Australia    Brazil    Canada     China    France  \\\n",
       "variables year                                                                 \n",
       "GDP       2012   444000.0   1.21e+06  2.34e+06  1.69e+06  7.21e+06  2.71e+06   \n",
       "          2013   455000.0   1.24e+06  2.41e+06  1.74e+06  7.77e+06  2.72e+06   \n",
       "          2014   444000.0   1.28e+06  2.42e+06  1.78e+06  8.33e+06  2.75e+06   \n",
       "          2015   455000.0   1.31e+06  2.33e+06  1.80e+06  8.91e+06  2.78e+06   \n",
       "          2016   445000.0   1.34e+06  2.25e+06  1.82e+06  9.51e+06  2.81e+06   \n",
       "Military  2012     4776.0   2.03e+04  2.46e+04  1.66e+04  1.69e+05  5.26e+04   \n",
       "          2013     5351.0   2.01e+04  2.47e+04  1.54e+04  1.85e+05  5.24e+04   \n",
       "          2014     5536.0   2.18e+04  2.52e+04  1.56e+04  2.01e+05  5.32e+04   \n",
       "          2015     5483.0   2.40e+04  2.46e+04  1.53e+04  2.14e+05  5.53e+04   \n",
       "          2016     6164.0   2.44e+04  2.28e+04  1.55e+04  2.26e+05  5.57e+04   \n",
       "\n",
       "                 Germany     India  Indonesia     Italy     Japan    Mexico  \\\n",
       "variables year                                                                \n",
       "GDP       2012  3.56e+06  1.86e+06   8.50e+05  2.08e+06  5.78e+06  1.14e+06   \n",
       "          2013  3.58e+06  1.98e+06   8.97e+05  2.04e+06  5.89e+06  1.15e+06   \n",
       "          2014  3.63e+06  2.13e+06   9.42e+05  2.04e+06  5.91e+06  1.18e+06   \n",
       "          2015  3.70e+06  2.30e+06   9.88e+05  2.06e+06  5.99e+06  1.21e+06   \n",
       "          2016  3.77e+06  2.46e+06   1.04e+06  2.08e+06  6.05e+06  1.24e+06   \n",
       "Military  2012  4.12e+04  4.88e+04   5.51e+03  2.96e+04  4.11e+04  6.43e+03   \n",
       "          2013  3.88e+04  4.84e+04   7.41e+03  2.84e+04  4.09e+04  6.75e+03   \n",
       "          2014  3.86e+04  5.08e+04   6.53e+03  2.64e+04  4.12e+04  7.46e+03   \n",
       "          2015  3.98e+04  5.13e+04   7.64e+03  2.53e+04  4.11e+04  7.74e+03   \n",
       "          2016  4.10e+04  5.56e+04   7.78e+03  2.80e+04  4.16e+04  6.89e+03   \n",
       "\n",
       "                Russian Federation  Saudi Arabia  South Africa  South Korea  \\\n",
       "variables year                                                                \n",
       "GDP       2012            1.65e+06      612000.0      396000.0     1.16e+06   \n",
       "          2013            1.67e+06      629000.0      406000.0     1.19e+06   \n",
       "          2014            1.68e+06      652000.0      413000.0     1.23e+06   \n",
       "          2015            1.63e+06      679000.0      418000.0     1.27e+06   \n",
       "          2016            1.63e+06      691000.0      420000.0     1.30e+06   \n",
       "Military  2012            5.48e+04       61352.0        3389.0     3.29e+04   \n",
       "          2013            5.75e+04       70313.0        3467.0     3.39e+04   \n",
       "          2014            6.16e+04       82527.0        3464.0     3.50e+04   \n",
       "          2015            6.64e+04       87186.0        3460.0     3.64e+04   \n",
       "          2016            7.03e+04       61358.0        3424.0     3.73e+04   \n",
       "\n",
       "                  Turkey  United Kingdom  United States  \n",
       "variables year                                           \n",
       "GDP       2012  8.99e+05        2.50e+06       1.55e+07  \n",
       "          2013  9.75e+05        2.55e+06       1.58e+07  \n",
       "          2014  1.03e+06        2.62e+06       1.62e+07  \n",
       "          2015  1.09e+06        2.68e+06       1.66e+07  \n",
       "          2016  1.12e+06        2.73e+06       1.69e+07  \n",
       "Military  2012  1.49e+04        5.89e+04       7.07e+05  \n",
       "          2013  1.53e+04        5.64e+04       6.51e+05  \n",
       "          2014  1.54e+04        5.49e+04       6.11e+05  \n",
       "          2015  1.59e+04        5.39e+04       5.96e+05  \n",
       "          2016  1.50e+04        5.42e+04       6.06e+05  "
      ]
     },
     "execution_count": 16,
     "metadata": {},
     "output_type": "execute_result"
    }
   ],
   "source": [
    "GDP_pivot ###WILL DIG MORE ON pivot tables"
   ]
  },
  {
   "cell_type": "code",
   "execution_count": 20,
   "metadata": {},
   "outputs": [
    {
     "data": {
      "text/plain": [
       "448600.0"
      ]
     },
     "execution_count": 20,
     "metadata": {},
     "output_type": "execute_result"
    }
   ],
   "source": [
    "GDP_pivot['Argentina'].loc['GDP'].mean()"
   ]
  },
  {
   "cell_type": "code",
   "execution_count": 136,
   "metadata": {},
   "outputs": [
    {
     "data": {
      "text/plain": [
       "MultiIndex(levels=[['GDP', 'Military'], ['2012', '2013', '2014', '2015', '2016']],\n",
       "           labels=[[0, 0, 0, 0, 0, 1, 1, 1, 1, 1], [0, 1, 2, 3, 4, 0, 1, 2, 3, 4]],\n",
       "           names=['variables', 'year'])"
      ]
     },
     "execution_count": 136,
     "metadata": {},
     "output_type": "execute_result"
    }
   ],
   "source": [
    "GDP2.index"
   ]
  },
  {
   "cell_type": "code",
   "execution_count": 137,
   "metadata": {},
   "outputs": [
    {
     "data": {
      "text/plain": [
       "Index(['Argentina', 'Australia', 'Brazil', 'Canada', 'China', 'France',\n",
       "       'Germany', 'India', 'Indonesia', 'Italy', 'Japan', 'Mexico',\n",
       "       'Russian Federation', 'Saudi Arabia', 'South Africa', 'South Korea',\n",
       "       'Turkey', 'United Kingdom', 'United States'],\n",
       "      dtype='object')"
      ]
     },
     "execution_count": 137,
     "metadata": {},
     "output_type": "execute_result"
    }
   ],
   "source": [
    "GDP2.columns"
   ]
  },
  {
   "cell_type": "code",
   "execution_count": 139,
   "metadata": {},
   "outputs": [
    {
     "data": {
      "text/html": [
       "<div>\n",
       "<style>\n",
       "    .dataframe thead tr:only-child th {\n",
       "        text-align: right;\n",
       "    }\n",
       "\n",
       "    .dataframe thead th {\n",
       "        text-align: left;\n",
       "    }\n",
       "\n",
       "    .dataframe tbody tr th {\n",
       "        vertical-align: top;\n",
       "    }\n",
       "</style>\n",
       "<table border=\"1\" class=\"dataframe\">\n",
       "  <thead>\n",
       "    <tr style=\"text-align: right;\">\n",
       "      <th></th>\n",
       "      <th>Argentina</th>\n",
       "      <th>Australia</th>\n",
       "      <th>Brazil</th>\n",
       "      <th>Canada</th>\n",
       "      <th>China</th>\n",
       "      <th>France</th>\n",
       "      <th>Germany</th>\n",
       "      <th>India</th>\n",
       "      <th>Indonesia</th>\n",
       "      <th>Italy</th>\n",
       "      <th>Japan</th>\n",
       "      <th>Mexico</th>\n",
       "      <th>Russian Federation</th>\n",
       "      <th>Saudi Arabia</th>\n",
       "      <th>South Africa</th>\n",
       "      <th>South Korea</th>\n",
       "      <th>Turkey</th>\n",
       "      <th>United Kingdom</th>\n",
       "      <th>United States</th>\n",
       "    </tr>\n",
       "  </thead>\n",
       "  <tbody>\n",
       "    <tr>\n",
       "      <th>count</th>\n",
       "      <td>5.00</td>\n",
       "      <td>5.00e+00</td>\n",
       "      <td>5.00e+00</td>\n",
       "      <td>5.00e+00</td>\n",
       "      <td>5.00e+00</td>\n",
       "      <td>5.00e+00</td>\n",
       "      <td>5.00e+00</td>\n",
       "      <td>5.00e+00</td>\n",
       "      <td>5.00e+00</td>\n",
       "      <td>5.00e+00</td>\n",
       "      <td>5.00e+00</td>\n",
       "      <td>5.00e+00</td>\n",
       "      <td>5.00e+00</td>\n",
       "      <td>5.00</td>\n",
       "      <td>5.00</td>\n",
       "      <td>5.00e+00</td>\n",
       "      <td>5.00e+00</td>\n",
       "      <td>5.00e+00</td>\n",
       "      <td>5.00e+00</td>\n",
       "    </tr>\n",
       "    <tr>\n",
       "      <th>mean</th>\n",
       "      <td>448600.00</td>\n",
       "      <td>1.28e+06</td>\n",
       "      <td>2.35e+06</td>\n",
       "      <td>1.77e+06</td>\n",
       "      <td>8.35e+06</td>\n",
       "      <td>2.75e+06</td>\n",
       "      <td>3.65e+06</td>\n",
       "      <td>2.15e+06</td>\n",
       "      <td>9.43e+05</td>\n",
       "      <td>2.06e+06</td>\n",
       "      <td>5.92e+06</td>\n",
       "      <td>1.18e+06</td>\n",
       "      <td>1.65e+06</td>\n",
       "      <td>652600.00</td>\n",
       "      <td>410600.00</td>\n",
       "      <td>1.23e+06</td>\n",
       "      <td>1.02e+06</td>\n",
       "      <td>2.62e+06</td>\n",
       "      <td>1.62e+07</td>\n",
       "    </tr>\n",
       "    <tr>\n",
       "      <th>std</th>\n",
       "      <td>5856.62</td>\n",
       "      <td>5.22e+04</td>\n",
       "      <td>6.89e+04</td>\n",
       "      <td>5.18e+04</td>\n",
       "      <td>9.08e+05</td>\n",
       "      <td>4.16e+04</td>\n",
       "      <td>8.70e+04</td>\n",
       "      <td>2.41e+05</td>\n",
       "      <td>7.45e+04</td>\n",
       "      <td>2.00e+04</td>\n",
       "      <td>1.03e+05</td>\n",
       "      <td>4.16e+04</td>\n",
       "      <td>2.28e+04</td>\n",
       "      <td>33080.21</td>\n",
       "      <td>9787.75</td>\n",
       "      <td>5.70e+04</td>\n",
       "      <td>8.89e+04</td>\n",
       "      <td>9.34e+04</td>\n",
       "      <td>5.70e+05</td>\n",
       "    </tr>\n",
       "    <tr>\n",
       "      <th>min</th>\n",
       "      <td>444000.00</td>\n",
       "      <td>1.21e+06</td>\n",
       "      <td>2.25e+06</td>\n",
       "      <td>1.69e+06</td>\n",
       "      <td>7.21e+06</td>\n",
       "      <td>2.71e+06</td>\n",
       "      <td>3.56e+06</td>\n",
       "      <td>1.86e+06</td>\n",
       "      <td>8.50e+05</td>\n",
       "      <td>2.04e+06</td>\n",
       "      <td>5.78e+06</td>\n",
       "      <td>1.14e+06</td>\n",
       "      <td>1.63e+06</td>\n",
       "      <td>612000.00</td>\n",
       "      <td>396000.00</td>\n",
       "      <td>1.16e+06</td>\n",
       "      <td>8.99e+05</td>\n",
       "      <td>2.50e+06</td>\n",
       "      <td>1.55e+07</td>\n",
       "    </tr>\n",
       "    <tr>\n",
       "      <th>25%</th>\n",
       "      <td>444000.00</td>\n",
       "      <td>1.24e+06</td>\n",
       "      <td>2.33e+06</td>\n",
       "      <td>1.74e+06</td>\n",
       "      <td>7.77e+06</td>\n",
       "      <td>2.72e+06</td>\n",
       "      <td>3.58e+06</td>\n",
       "      <td>1.98e+06</td>\n",
       "      <td>8.97e+05</td>\n",
       "      <td>2.04e+06</td>\n",
       "      <td>5.89e+06</td>\n",
       "      <td>1.15e+06</td>\n",
       "      <td>1.63e+06</td>\n",
       "      <td>629000.00</td>\n",
       "      <td>406000.00</td>\n",
       "      <td>1.19e+06</td>\n",
       "      <td>9.75e+05</td>\n",
       "      <td>2.55e+06</td>\n",
       "      <td>1.58e+07</td>\n",
       "    </tr>\n",
       "    <tr>\n",
       "      <th>50%</th>\n",
       "      <td>445000.00</td>\n",
       "      <td>1.28e+06</td>\n",
       "      <td>2.34e+06</td>\n",
       "      <td>1.78e+06</td>\n",
       "      <td>8.33e+06</td>\n",
       "      <td>2.75e+06</td>\n",
       "      <td>3.63e+06</td>\n",
       "      <td>2.13e+06</td>\n",
       "      <td>9.42e+05</td>\n",
       "      <td>2.06e+06</td>\n",
       "      <td>5.91e+06</td>\n",
       "      <td>1.18e+06</td>\n",
       "      <td>1.65e+06</td>\n",
       "      <td>652000.00</td>\n",
       "      <td>413000.00</td>\n",
       "      <td>1.23e+06</td>\n",
       "      <td>1.03e+06</td>\n",
       "      <td>2.62e+06</td>\n",
       "      <td>1.62e+07</td>\n",
       "    </tr>\n",
       "    <tr>\n",
       "      <th>75%</th>\n",
       "      <td>455000.00</td>\n",
       "      <td>1.31e+06</td>\n",
       "      <td>2.41e+06</td>\n",
       "      <td>1.80e+06</td>\n",
       "      <td>8.91e+06</td>\n",
       "      <td>2.78e+06</td>\n",
       "      <td>3.70e+06</td>\n",
       "      <td>2.30e+06</td>\n",
       "      <td>9.88e+05</td>\n",
       "      <td>2.08e+06</td>\n",
       "      <td>5.99e+06</td>\n",
       "      <td>1.21e+06</td>\n",
       "      <td>1.67e+06</td>\n",
       "      <td>679000.00</td>\n",
       "      <td>418000.00</td>\n",
       "      <td>1.27e+06</td>\n",
       "      <td>1.09e+06</td>\n",
       "      <td>2.68e+06</td>\n",
       "      <td>1.66e+07</td>\n",
       "    </tr>\n",
       "    <tr>\n",
       "      <th>max</th>\n",
       "      <td>455000.00</td>\n",
       "      <td>1.34e+06</td>\n",
       "      <td>2.42e+06</td>\n",
       "      <td>1.82e+06</td>\n",
       "      <td>9.51e+06</td>\n",
       "      <td>2.81e+06</td>\n",
       "      <td>3.77e+06</td>\n",
       "      <td>2.46e+06</td>\n",
       "      <td>1.04e+06</td>\n",
       "      <td>2.08e+06</td>\n",
       "      <td>6.05e+06</td>\n",
       "      <td>1.24e+06</td>\n",
       "      <td>1.68e+06</td>\n",
       "      <td>691000.00</td>\n",
       "      <td>420000.00</td>\n",
       "      <td>1.30e+06</td>\n",
       "      <td>1.12e+06</td>\n",
       "      <td>2.73e+06</td>\n",
       "      <td>1.69e+07</td>\n",
       "    </tr>\n",
       "  </tbody>\n",
       "</table>\n",
       "</div>"
      ],
      "text/plain": [
       "       Argentina  Australia    Brazil    Canada     China    France   Germany  \\\n",
       "count       5.00   5.00e+00  5.00e+00  5.00e+00  5.00e+00  5.00e+00  5.00e+00   \n",
       "mean   448600.00   1.28e+06  2.35e+06  1.77e+06  8.35e+06  2.75e+06  3.65e+06   \n",
       "std      5856.62   5.22e+04  6.89e+04  5.18e+04  9.08e+05  4.16e+04  8.70e+04   \n",
       "min    444000.00   1.21e+06  2.25e+06  1.69e+06  7.21e+06  2.71e+06  3.56e+06   \n",
       "25%    444000.00   1.24e+06  2.33e+06  1.74e+06  7.77e+06  2.72e+06  3.58e+06   \n",
       "50%    445000.00   1.28e+06  2.34e+06  1.78e+06  8.33e+06  2.75e+06  3.63e+06   \n",
       "75%    455000.00   1.31e+06  2.41e+06  1.80e+06  8.91e+06  2.78e+06  3.70e+06   \n",
       "max    455000.00   1.34e+06  2.42e+06  1.82e+06  9.51e+06  2.81e+06  3.77e+06   \n",
       "\n",
       "          India  Indonesia     Italy     Japan    Mexico  Russian Federation  \\\n",
       "count  5.00e+00   5.00e+00  5.00e+00  5.00e+00  5.00e+00            5.00e+00   \n",
       "mean   2.15e+06   9.43e+05  2.06e+06  5.92e+06  1.18e+06            1.65e+06   \n",
       "std    2.41e+05   7.45e+04  2.00e+04  1.03e+05  4.16e+04            2.28e+04   \n",
       "min    1.86e+06   8.50e+05  2.04e+06  5.78e+06  1.14e+06            1.63e+06   \n",
       "25%    1.98e+06   8.97e+05  2.04e+06  5.89e+06  1.15e+06            1.63e+06   \n",
       "50%    2.13e+06   9.42e+05  2.06e+06  5.91e+06  1.18e+06            1.65e+06   \n",
       "75%    2.30e+06   9.88e+05  2.08e+06  5.99e+06  1.21e+06            1.67e+06   \n",
       "max    2.46e+06   1.04e+06  2.08e+06  6.05e+06  1.24e+06            1.68e+06   \n",
       "\n",
       "       Saudi Arabia  South Africa  South Korea    Turkey  United Kingdom  \\\n",
       "count          5.00          5.00     5.00e+00  5.00e+00        5.00e+00   \n",
       "mean      652600.00     410600.00     1.23e+06  1.02e+06        2.62e+06   \n",
       "std        33080.21       9787.75     5.70e+04  8.89e+04        9.34e+04   \n",
       "min       612000.00     396000.00     1.16e+06  8.99e+05        2.50e+06   \n",
       "25%       629000.00     406000.00     1.19e+06  9.75e+05        2.55e+06   \n",
       "50%       652000.00     413000.00     1.23e+06  1.03e+06        2.62e+06   \n",
       "75%       679000.00     418000.00     1.27e+06  1.09e+06        2.68e+06   \n",
       "max       691000.00     420000.00     1.30e+06  1.12e+06        2.73e+06   \n",
       "\n",
       "       United States  \n",
       "count       5.00e+00  \n",
       "mean        1.62e+07  \n",
       "std         5.70e+05  \n",
       "min         1.55e+07  \n",
       "25%         1.58e+07  \n",
       "50%         1.62e+07  \n",
       "75%         1.66e+07  \n",
       "max         1.69e+07  "
      ]
     },
     "execution_count": 139,
     "metadata": {},
     "output_type": "execute_result"
    }
   ],
   "source": [
    "GDP2.loc['GDP'].describe()"
   ]
  },
  {
   "cell_type": "code",
   "execution_count": 142,
   "metadata": {
    "collapsed": true
   },
   "outputs": [],
   "source": [
    "stat2 = GDP2.loc['Military'].describe()"
   ]
  },
  {
   "cell_type": "code",
   "execution_count": 145,
   "metadata": {},
   "outputs": [
    {
     "data": {
      "text/plain": [
       "Argentina               4159.05\n",
       "Australia              16843.08\n",
       "Brazil                 18404.30\n",
       "Canada                 11830.04\n",
       "China                 152093.75\n",
       "France                 40573.90\n",
       "Germany                30060.44\n",
       "India                  38607.42\n",
       "Indonesia               5351.49\n",
       "Italy                  20851.38\n",
       "Japan                  30912.66\n",
       "Mexico                  5359.19\n",
       "Russian Federation     47400.96\n",
       "Saudi Arabia           55902.42\n",
       "South Africa            2585.44\n",
       "South Korea            26540.60\n",
       "Turkey                 11523.52\n",
       "United Kingdom         42005.46\n",
       "United States         481312.74\n",
       "dtype: float64"
      ]
     },
     "execution_count": 145,
     "metadata": {},
     "output_type": "execute_result"
    }
   ],
   "source": [
    "stat2.mean()"
   ]
  },
  {
   "cell_type": "code",
   "execution_count": null,
   "metadata": {
    "collapsed": true
   },
   "outputs": [],
   "source": []
  },
  {
   "cell_type": "markdown",
   "metadata": {
    "collapsed": true
   },
   "source": [
    "# Comparison of a country military spending to that country GDP\n",
    "\n",
    "Explain the different methods used here\n",
    "1. percentage\n",
    "2. correlation - will work on it"
   ]
  },
  {
   "cell_type": "code",
   "execution_count": 121,
   "metadata": {},
   "outputs": [
    {
     "data": {
      "text/plain": [
       "Argentina             4.44e+05\n",
       "Australia             1.21e+06\n",
       "Brazil                2.34e+06\n",
       "Canada                1.69e+06\n",
       "China                 7.21e+06\n",
       "France                2.71e+06\n",
       "Germany               3.56e+06\n",
       "India                 1.86e+06\n",
       "Indonesia             8.50e+05\n",
       "Italy                 2.08e+06\n",
       "Japan                 5.78e+06\n",
       "Mexico                1.14e+06\n",
       "Russian Federation    1.65e+06\n",
       "Saudi Arabia          6.12e+05\n",
       "South Africa          3.96e+05\n",
       "South Korea           1.16e+06\n",
       "Turkey                8.99e+05\n",
       "United Kingdom        2.50e+06\n",
       "United States         1.55e+07\n",
       "Name: (GDP, 2012), dtype: float64"
      ]
     },
     "execution_count": 121,
     "metadata": {},
     "output_type": "execute_result"
    }
   ],
   "source": [
    "GDP_MS.loc['GDP', '2012']"
   ]
  },
  {
   "cell_type": "code",
   "execution_count": null,
   "metadata": {
    "collapsed": true
   },
   "outputs": [],
   "source": [
    "#percentage for a year \n",
    "\n"
   ]
  },
  {
   "cell_type": "code",
   "execution_count": 118,
   "metadata": {},
   "outputs": [
    {
     "data": {
      "text/plain": [
       "444000.0"
      ]
     },
     "execution_count": 118,
     "metadata": {},
     "output_type": "execute_result"
    }
   ],
   "source": [
    "GDP_MS.loc[\"GDP\", '2012']['Argentina']"
   ]
  },
  {
   "cell_type": "code",
   "execution_count": 119,
   "metadata": {},
   "outputs": [
    {
     "data": {
      "text/plain": [
       "4776.0"
      ]
     },
     "execution_count": 119,
     "metadata": {},
     "output_type": "execute_result"
    }
   ],
   "source": [
    "GDP_MS.loc['Military', '2012']['Argentina']"
   ]
  },
  {
   "cell_type": "code",
   "execution_count": 73,
   "metadata": {
    "collapsed": true
   },
   "outputs": [],
   "source": [
    "Perc_MS_GDP = (GDP_MS.loc['Military', '2012']['Argentina'] / GDP_MS.loc[\"GDP\", '2012']['Argentina'])*100\n",
    "\n",
    "#I could round - chech later "
   ]
  },
  {
   "cell_type": "code",
   "execution_count": 74,
   "metadata": {},
   "outputs": [
    {
     "data": {
      "text/plain": [
       "1.0756756756756758"
      ]
     },
     "execution_count": 74,
     "metadata": {},
     "output_type": "execute_result"
    }
   ],
   "source": [
    "Perc_MS_GDP"
   ]
  },
  {
   "cell_type": "code",
   "execution_count": 116,
   "metadata": {
    "collapsed": true
   },
   "outputs": [],
   "source": [
    "def percentage_MS_GDP(GDP, Military):\n",
    "    percent_MS_GDP = (GDP_MS.loc['Military', '2012'] / GDP_MS.loc[\"GDP\", '2012'])*100\n",
    "    return percent_MS_GDP"
   ]
  },
  {
   "cell_type": "code",
   "execution_count": 122,
   "metadata": {
    "collapsed": true
   },
   "outputs": [],
   "source": [
    "def percentage_MS_GDP0(GDP, Military):\n",
    "    percent_MS_GDP = (GDP_MS.loc['Military'] / GDP_MS.loc[\"GDP\"])*100\n",
    "    return percent_MS_GDP"
   ]
  },
  {
   "cell_type": "code",
   "execution_count": 126,
   "metadata": {},
   "outputs": [
    {
     "data": {
      "text/html": [
       "<div>\n",
       "<style>\n",
       "    .dataframe thead tr:only-child th {\n",
       "        text-align: right;\n",
       "    }\n",
       "\n",
       "    .dataframe thead th {\n",
       "        text-align: left;\n",
       "    }\n",
       "\n",
       "    .dataframe tbody tr th {\n",
       "        vertical-align: top;\n",
       "    }\n",
       "</style>\n",
       "<table border=\"1\" class=\"dataframe\">\n",
       "  <thead>\n",
       "    <tr style=\"text-align: right;\">\n",
       "      <th></th>\n",
       "      <th>Argentina</th>\n",
       "      <th>Australia</th>\n",
       "      <th>Brazil</th>\n",
       "      <th>Canada</th>\n",
       "      <th>China</th>\n",
       "      <th>France</th>\n",
       "      <th>Germany</th>\n",
       "      <th>India</th>\n",
       "      <th>Indonesia</th>\n",
       "      <th>Italy</th>\n",
       "      <th>Japan</th>\n",
       "      <th>Mexico</th>\n",
       "      <th>Russian Federation</th>\n",
       "      <th>Saudi Arabia</th>\n",
       "      <th>South Africa</th>\n",
       "      <th>South Korea</th>\n",
       "      <th>Turkey</th>\n",
       "      <th>United Kingdom</th>\n",
       "      <th>United States</th>\n",
       "    </tr>\n",
       "    <tr>\n",
       "      <th>year</th>\n",
       "      <th></th>\n",
       "      <th></th>\n",
       "      <th></th>\n",
       "      <th></th>\n",
       "      <th></th>\n",
       "      <th></th>\n",
       "      <th></th>\n",
       "      <th></th>\n",
       "      <th></th>\n",
       "      <th></th>\n",
       "      <th></th>\n",
       "      <th></th>\n",
       "      <th></th>\n",
       "      <th></th>\n",
       "      <th></th>\n",
       "      <th></th>\n",
       "      <th></th>\n",
       "      <th></th>\n",
       "      <th></th>\n",
       "    </tr>\n",
       "  </thead>\n",
       "  <tbody>\n",
       "    <tr>\n",
       "      <th>2012</th>\n",
       "      <td>1.08</td>\n",
       "      <td>1.68</td>\n",
       "      <td>1.05</td>\n",
       "      <td>0.98</td>\n",
       "      <td>2.35</td>\n",
       "      <td>1.94</td>\n",
       "      <td>1.16</td>\n",
       "      <td>2.62</td>\n",
       "      <td>0.65</td>\n",
       "      <td>1.42</td>\n",
       "      <td>0.71</td>\n",
       "      <td>0.56</td>\n",
       "      <td>3.32</td>\n",
       "      <td>10.02</td>\n",
       "      <td>0.86</td>\n",
       "      <td>2.83</td>\n",
       "      <td>1.66</td>\n",
       "      <td>2.36</td>\n",
       "      <td>4.56</td>\n",
       "    </tr>\n",
       "    <tr>\n",
       "      <th>2013</th>\n",
       "      <td>1.18</td>\n",
       "      <td>1.62</td>\n",
       "      <td>1.03</td>\n",
       "      <td>0.88</td>\n",
       "      <td>2.38</td>\n",
       "      <td>1.93</td>\n",
       "      <td>1.08</td>\n",
       "      <td>2.45</td>\n",
       "      <td>0.83</td>\n",
       "      <td>1.39</td>\n",
       "      <td>0.70</td>\n",
       "      <td>0.59</td>\n",
       "      <td>3.44</td>\n",
       "      <td>11.18</td>\n",
       "      <td>0.85</td>\n",
       "      <td>2.85</td>\n",
       "      <td>1.57</td>\n",
       "      <td>2.21</td>\n",
       "      <td>4.12</td>\n",
       "    </tr>\n",
       "    <tr>\n",
       "      <th>2014</th>\n",
       "      <td>1.25</td>\n",
       "      <td>1.70</td>\n",
       "      <td>1.04</td>\n",
       "      <td>0.88</td>\n",
       "      <td>2.41</td>\n",
       "      <td>1.93</td>\n",
       "      <td>1.06</td>\n",
       "      <td>2.39</td>\n",
       "      <td>0.69</td>\n",
       "      <td>1.29</td>\n",
       "      <td>0.70</td>\n",
       "      <td>0.63</td>\n",
       "      <td>3.67</td>\n",
       "      <td>12.66</td>\n",
       "      <td>0.84</td>\n",
       "      <td>2.84</td>\n",
       "      <td>1.49</td>\n",
       "      <td>2.10</td>\n",
       "      <td>3.77</td>\n",
       "    </tr>\n",
       "    <tr>\n",
       "      <th>2015</th>\n",
       "      <td>1.21</td>\n",
       "      <td>1.84</td>\n",
       "      <td>1.06</td>\n",
       "      <td>0.85</td>\n",
       "      <td>2.40</td>\n",
       "      <td>1.99</td>\n",
       "      <td>1.08</td>\n",
       "      <td>2.23</td>\n",
       "      <td>0.77</td>\n",
       "      <td>1.23</td>\n",
       "      <td>0.69</td>\n",
       "      <td>0.64</td>\n",
       "      <td>4.07</td>\n",
       "      <td>12.84</td>\n",
       "      <td>0.83</td>\n",
       "      <td>2.87</td>\n",
       "      <td>1.46</td>\n",
       "      <td>2.01</td>\n",
       "      <td>3.59</td>\n",
       "    </tr>\n",
       "    <tr>\n",
       "      <th>2016</th>\n",
       "      <td>1.39</td>\n",
       "      <td>1.82</td>\n",
       "      <td>1.02</td>\n",
       "      <td>0.85</td>\n",
       "      <td>2.37</td>\n",
       "      <td>1.98</td>\n",
       "      <td>1.09</td>\n",
       "      <td>2.26</td>\n",
       "      <td>0.75</td>\n",
       "      <td>1.34</td>\n",
       "      <td>0.69</td>\n",
       "      <td>0.56</td>\n",
       "      <td>4.32</td>\n",
       "      <td>8.88</td>\n",
       "      <td>0.82</td>\n",
       "      <td>2.87</td>\n",
       "      <td>1.34</td>\n",
       "      <td>1.99</td>\n",
       "      <td>3.59</td>\n",
       "    </tr>\n",
       "  </tbody>\n",
       "</table>\n",
       "</div>"
      ],
      "text/plain": [
       "      Argentina  Australia  Brazil  Canada  China  France  Germany  India  \\\n",
       "year                                                                        \n",
       "2012       1.08       1.68    1.05    0.98   2.35    1.94     1.16   2.62   \n",
       "2013       1.18       1.62    1.03    0.88   2.38    1.93     1.08   2.45   \n",
       "2014       1.25       1.70    1.04    0.88   2.41    1.93     1.06   2.39   \n",
       "2015       1.21       1.84    1.06    0.85   2.40    1.99     1.08   2.23   \n",
       "2016       1.39       1.82    1.02    0.85   2.37    1.98     1.09   2.26   \n",
       "\n",
       "      Indonesia  Italy  Japan  Mexico  Russian Federation  Saudi Arabia  \\\n",
       "year                                                                      \n",
       "2012       0.65   1.42   0.71    0.56                3.32         10.02   \n",
       "2013       0.83   1.39   0.70    0.59                3.44         11.18   \n",
       "2014       0.69   1.29   0.70    0.63                3.67         12.66   \n",
       "2015       0.77   1.23   0.69    0.64                4.07         12.84   \n",
       "2016       0.75   1.34   0.69    0.56                4.32          8.88   \n",
       "\n",
       "      South Africa  South Korea  Turkey  United Kingdom  United States  \n",
       "year                                                                    \n",
       "2012          0.86         2.83    1.66            2.36           4.56  \n",
       "2013          0.85         2.85    1.57            2.21           4.12  \n",
       "2014          0.84         2.84    1.49            2.10           3.77  \n",
       "2015          0.83         2.87    1.46            2.01           3.59  \n",
       "2016          0.82         2.87    1.34            1.99           3.59  "
      ]
     },
     "execution_count": 126,
     "metadata": {},
     "output_type": "execute_result"
    }
   ],
   "source": [
    "percentage_MS_GDP0(GDP, MS)"
   ]
  },
  {
   "cell_type": "code",
   "execution_count": 180,
   "metadata": {
    "collapsed": true,
    "scrolled": true
   },
   "outputs": [],
   "source": [
    "###CHECK THIS OUT AND DECIDE WHICH ONE TO USE - maybe this one. \n",
    "percent1 = (GDP_MS.loc['Military', :] / GDP_MS.loc['GDP', :])*100 #### this is MS percent of GDP equivalent to percentage_MS_GDP0()"
   ]
  },
  {
   "cell_type": "code",
   "execution_count": 181,
   "metadata": {
    "scrolled": true
   },
   "outputs": [
    {
     "data": {
      "text/html": [
       "<div>\n",
       "<style>\n",
       "    .dataframe thead tr:only-child th {\n",
       "        text-align: right;\n",
       "    }\n",
       "\n",
       "    .dataframe thead th {\n",
       "        text-align: left;\n",
       "    }\n",
       "\n",
       "    .dataframe tbody tr th {\n",
       "        vertical-align: top;\n",
       "    }\n",
       "</style>\n",
       "<table border=\"1\" class=\"dataframe\">\n",
       "  <thead>\n",
       "    <tr style=\"text-align: right;\">\n",
       "      <th></th>\n",
       "      <th>Argentina</th>\n",
       "      <th>Australia</th>\n",
       "      <th>Brazil</th>\n",
       "      <th>Canada</th>\n",
       "      <th>China</th>\n",
       "      <th>France</th>\n",
       "      <th>Germany</th>\n",
       "      <th>India</th>\n",
       "      <th>Indonesia</th>\n",
       "      <th>Italy</th>\n",
       "      <th>Japan</th>\n",
       "      <th>Mexico</th>\n",
       "      <th>Russian Federation</th>\n",
       "      <th>Saudi Arabia</th>\n",
       "      <th>South Africa</th>\n",
       "      <th>South Korea</th>\n",
       "      <th>Turkey</th>\n",
       "      <th>United Kingdom</th>\n",
       "      <th>United States</th>\n",
       "    </tr>\n",
       "    <tr>\n",
       "      <th>year</th>\n",
       "      <th></th>\n",
       "      <th></th>\n",
       "      <th></th>\n",
       "      <th></th>\n",
       "      <th></th>\n",
       "      <th></th>\n",
       "      <th></th>\n",
       "      <th></th>\n",
       "      <th></th>\n",
       "      <th></th>\n",
       "      <th></th>\n",
       "      <th></th>\n",
       "      <th></th>\n",
       "      <th></th>\n",
       "      <th></th>\n",
       "      <th></th>\n",
       "      <th></th>\n",
       "      <th></th>\n",
       "      <th></th>\n",
       "    </tr>\n",
       "  </thead>\n",
       "  <tbody>\n",
       "    <tr>\n",
       "      <th>2012</th>\n",
       "      <td>1.08</td>\n",
       "      <td>1.68</td>\n",
       "      <td>1.05</td>\n",
       "      <td>0.98</td>\n",
       "      <td>2.35</td>\n",
       "      <td>1.94</td>\n",
       "      <td>1.16</td>\n",
       "      <td>2.62</td>\n",
       "      <td>0.65</td>\n",
       "      <td>1.42</td>\n",
       "      <td>0.71</td>\n",
       "      <td>0.56</td>\n",
       "      <td>3.32</td>\n",
       "      <td>10.02</td>\n",
       "      <td>0.86</td>\n",
       "      <td>2.83</td>\n",
       "      <td>1.66</td>\n",
       "      <td>2.36</td>\n",
       "      <td>4.56</td>\n",
       "    </tr>\n",
       "    <tr>\n",
       "      <th>2013</th>\n",
       "      <td>1.18</td>\n",
       "      <td>1.62</td>\n",
       "      <td>1.03</td>\n",
       "      <td>0.88</td>\n",
       "      <td>2.38</td>\n",
       "      <td>1.93</td>\n",
       "      <td>1.08</td>\n",
       "      <td>2.45</td>\n",
       "      <td>0.83</td>\n",
       "      <td>1.39</td>\n",
       "      <td>0.70</td>\n",
       "      <td>0.59</td>\n",
       "      <td>3.44</td>\n",
       "      <td>11.18</td>\n",
       "      <td>0.85</td>\n",
       "      <td>2.85</td>\n",
       "      <td>1.57</td>\n",
       "      <td>2.21</td>\n",
       "      <td>4.12</td>\n",
       "    </tr>\n",
       "    <tr>\n",
       "      <th>2014</th>\n",
       "      <td>1.25</td>\n",
       "      <td>1.70</td>\n",
       "      <td>1.04</td>\n",
       "      <td>0.88</td>\n",
       "      <td>2.41</td>\n",
       "      <td>1.93</td>\n",
       "      <td>1.06</td>\n",
       "      <td>2.39</td>\n",
       "      <td>0.69</td>\n",
       "      <td>1.29</td>\n",
       "      <td>0.70</td>\n",
       "      <td>0.63</td>\n",
       "      <td>3.67</td>\n",
       "      <td>12.66</td>\n",
       "      <td>0.84</td>\n",
       "      <td>2.84</td>\n",
       "      <td>1.49</td>\n",
       "      <td>2.10</td>\n",
       "      <td>3.77</td>\n",
       "    </tr>\n",
       "    <tr>\n",
       "      <th>2015</th>\n",
       "      <td>1.21</td>\n",
       "      <td>1.84</td>\n",
       "      <td>1.06</td>\n",
       "      <td>0.85</td>\n",
       "      <td>2.40</td>\n",
       "      <td>1.99</td>\n",
       "      <td>1.08</td>\n",
       "      <td>2.23</td>\n",
       "      <td>0.77</td>\n",
       "      <td>1.23</td>\n",
       "      <td>0.69</td>\n",
       "      <td>0.64</td>\n",
       "      <td>4.07</td>\n",
       "      <td>12.84</td>\n",
       "      <td>0.83</td>\n",
       "      <td>2.87</td>\n",
       "      <td>1.46</td>\n",
       "      <td>2.01</td>\n",
       "      <td>3.59</td>\n",
       "    </tr>\n",
       "    <tr>\n",
       "      <th>2016</th>\n",
       "      <td>1.39</td>\n",
       "      <td>1.82</td>\n",
       "      <td>1.02</td>\n",
       "      <td>0.85</td>\n",
       "      <td>2.37</td>\n",
       "      <td>1.98</td>\n",
       "      <td>1.09</td>\n",
       "      <td>2.26</td>\n",
       "      <td>0.75</td>\n",
       "      <td>1.34</td>\n",
       "      <td>0.69</td>\n",
       "      <td>0.56</td>\n",
       "      <td>4.32</td>\n",
       "      <td>8.88</td>\n",
       "      <td>0.82</td>\n",
       "      <td>2.87</td>\n",
       "      <td>1.34</td>\n",
       "      <td>1.99</td>\n",
       "      <td>3.59</td>\n",
       "    </tr>\n",
       "  </tbody>\n",
       "</table>\n",
       "</div>"
      ],
      "text/plain": [
       "      Argentina  Australia  Brazil  Canada  China  France  Germany  India  \\\n",
       "year                                                                        \n",
       "2012       1.08       1.68    1.05    0.98   2.35    1.94     1.16   2.62   \n",
       "2013       1.18       1.62    1.03    0.88   2.38    1.93     1.08   2.45   \n",
       "2014       1.25       1.70    1.04    0.88   2.41    1.93     1.06   2.39   \n",
       "2015       1.21       1.84    1.06    0.85   2.40    1.99     1.08   2.23   \n",
       "2016       1.39       1.82    1.02    0.85   2.37    1.98     1.09   2.26   \n",
       "\n",
       "      Indonesia  Italy  Japan  Mexico  Russian Federation  Saudi Arabia  \\\n",
       "year                                                                      \n",
       "2012       0.65   1.42   0.71    0.56                3.32         10.02   \n",
       "2013       0.83   1.39   0.70    0.59                3.44         11.18   \n",
       "2014       0.69   1.29   0.70    0.63                3.67         12.66   \n",
       "2015       0.77   1.23   0.69    0.64                4.07         12.84   \n",
       "2016       0.75   1.34   0.69    0.56                4.32          8.88   \n",
       "\n",
       "      South Africa  South Korea  Turkey  United Kingdom  United States  \n",
       "year                                                                    \n",
       "2012          0.86         2.83    1.66            2.36           4.56  \n",
       "2013          0.85         2.85    1.57            2.21           4.12  \n",
       "2014          0.84         2.84    1.49            2.10           3.77  \n",
       "2015          0.83         2.87    1.46            2.01           3.59  \n",
       "2016          0.82         2.87    1.34            1.99           3.59  "
      ]
     },
     "execution_count": 181,
     "metadata": {},
     "output_type": "execute_result"
    }
   ],
   "source": [
    "percent1"
   ]
  },
  {
   "cell_type": "code",
   "execution_count": 157,
   "metadata": {
    "scrolled": false
   },
   "outputs": [
    {
     "data": {
      "text/html": [
       "<div>\n",
       "<style>\n",
       "    .dataframe thead tr:only-child th {\n",
       "        text-align: right;\n",
       "    }\n",
       "\n",
       "    .dataframe thead th {\n",
       "        text-align: left;\n",
       "    }\n",
       "\n",
       "    .dataframe tbody tr th {\n",
       "        vertical-align: top;\n",
       "    }\n",
       "</style>\n",
       "<table border=\"1\" class=\"dataframe\">\n",
       "  <thead>\n",
       "    <tr style=\"text-align: right;\">\n",
       "      <th></th>\n",
       "      <th>variables</th>\n",
       "      <th>year</th>\n",
       "      <th>Argentina</th>\n",
       "      <th>Australia</th>\n",
       "      <th>Brazil</th>\n",
       "      <th>Canada</th>\n",
       "      <th>China</th>\n",
       "      <th>France</th>\n",
       "      <th>Germany</th>\n",
       "      <th>India</th>\n",
       "      <th>...</th>\n",
       "      <th>Italy</th>\n",
       "      <th>Japan</th>\n",
       "      <th>Mexico</th>\n",
       "      <th>Russian Federation</th>\n",
       "      <th>Saudi Arabia</th>\n",
       "      <th>South Africa</th>\n",
       "      <th>South Korea</th>\n",
       "      <th>Turkey</th>\n",
       "      <th>United Kingdom</th>\n",
       "      <th>United States</th>\n",
       "    </tr>\n",
       "  </thead>\n",
       "  <tbody>\n",
       "    <tr>\n",
       "      <th>0</th>\n",
       "      <td>GDP</td>\n",
       "      <td>2012</td>\n",
       "      <td>444000.0</td>\n",
       "      <td>1.21e+06</td>\n",
       "      <td>2.34e+06</td>\n",
       "      <td>1.69e+06</td>\n",
       "      <td>7.21e+06</td>\n",
       "      <td>2.71e+06</td>\n",
       "      <td>3.56e+06</td>\n",
       "      <td>1.86e+06</td>\n",
       "      <td>...</td>\n",
       "      <td>2.08e+06</td>\n",
       "      <td>5.78e+06</td>\n",
       "      <td>1.14e+06</td>\n",
       "      <td>1.65e+06</td>\n",
       "      <td>612000.0</td>\n",
       "      <td>396000.0</td>\n",
       "      <td>1.16e+06</td>\n",
       "      <td>8.99e+05</td>\n",
       "      <td>2.50e+06</td>\n",
       "      <td>1.55e+07</td>\n",
       "    </tr>\n",
       "    <tr>\n",
       "      <th>1</th>\n",
       "      <td>GDP</td>\n",
       "      <td>2013</td>\n",
       "      <td>455000.0</td>\n",
       "      <td>1.24e+06</td>\n",
       "      <td>2.41e+06</td>\n",
       "      <td>1.74e+06</td>\n",
       "      <td>7.77e+06</td>\n",
       "      <td>2.72e+06</td>\n",
       "      <td>3.58e+06</td>\n",
       "      <td>1.98e+06</td>\n",
       "      <td>...</td>\n",
       "      <td>2.04e+06</td>\n",
       "      <td>5.89e+06</td>\n",
       "      <td>1.15e+06</td>\n",
       "      <td>1.67e+06</td>\n",
       "      <td>629000.0</td>\n",
       "      <td>406000.0</td>\n",
       "      <td>1.19e+06</td>\n",
       "      <td>9.75e+05</td>\n",
       "      <td>2.55e+06</td>\n",
       "      <td>1.58e+07</td>\n",
       "    </tr>\n",
       "    <tr>\n",
       "      <th>2</th>\n",
       "      <td>GDP</td>\n",
       "      <td>2014</td>\n",
       "      <td>444000.0</td>\n",
       "      <td>1.28e+06</td>\n",
       "      <td>2.42e+06</td>\n",
       "      <td>1.78e+06</td>\n",
       "      <td>8.33e+06</td>\n",
       "      <td>2.75e+06</td>\n",
       "      <td>3.63e+06</td>\n",
       "      <td>2.13e+06</td>\n",
       "      <td>...</td>\n",
       "      <td>2.04e+06</td>\n",
       "      <td>5.91e+06</td>\n",
       "      <td>1.18e+06</td>\n",
       "      <td>1.68e+06</td>\n",
       "      <td>652000.0</td>\n",
       "      <td>413000.0</td>\n",
       "      <td>1.23e+06</td>\n",
       "      <td>1.03e+06</td>\n",
       "      <td>2.62e+06</td>\n",
       "      <td>1.62e+07</td>\n",
       "    </tr>\n",
       "    <tr>\n",
       "      <th>3</th>\n",
       "      <td>GDP</td>\n",
       "      <td>2015</td>\n",
       "      <td>455000.0</td>\n",
       "      <td>1.31e+06</td>\n",
       "      <td>2.33e+06</td>\n",
       "      <td>1.80e+06</td>\n",
       "      <td>8.91e+06</td>\n",
       "      <td>2.78e+06</td>\n",
       "      <td>3.70e+06</td>\n",
       "      <td>2.30e+06</td>\n",
       "      <td>...</td>\n",
       "      <td>2.06e+06</td>\n",
       "      <td>5.99e+06</td>\n",
       "      <td>1.21e+06</td>\n",
       "      <td>1.63e+06</td>\n",
       "      <td>679000.0</td>\n",
       "      <td>418000.0</td>\n",
       "      <td>1.27e+06</td>\n",
       "      <td>1.09e+06</td>\n",
       "      <td>2.68e+06</td>\n",
       "      <td>1.66e+07</td>\n",
       "    </tr>\n",
       "    <tr>\n",
       "      <th>4</th>\n",
       "      <td>GDP</td>\n",
       "      <td>2016</td>\n",
       "      <td>445000.0</td>\n",
       "      <td>1.34e+06</td>\n",
       "      <td>2.25e+06</td>\n",
       "      <td>1.82e+06</td>\n",
       "      <td>9.51e+06</td>\n",
       "      <td>2.81e+06</td>\n",
       "      <td>3.77e+06</td>\n",
       "      <td>2.46e+06</td>\n",
       "      <td>...</td>\n",
       "      <td>2.08e+06</td>\n",
       "      <td>6.05e+06</td>\n",
       "      <td>1.24e+06</td>\n",
       "      <td>1.63e+06</td>\n",
       "      <td>691000.0</td>\n",
       "      <td>420000.0</td>\n",
       "      <td>1.30e+06</td>\n",
       "      <td>1.12e+06</td>\n",
       "      <td>2.73e+06</td>\n",
       "      <td>1.69e+07</td>\n",
       "    </tr>\n",
       "    <tr>\n",
       "      <th>5</th>\n",
       "      <td>Military</td>\n",
       "      <td>2012</td>\n",
       "      <td>4776.0</td>\n",
       "      <td>2.03e+04</td>\n",
       "      <td>2.46e+04</td>\n",
       "      <td>1.66e+04</td>\n",
       "      <td>1.69e+05</td>\n",
       "      <td>5.26e+04</td>\n",
       "      <td>4.12e+04</td>\n",
       "      <td>4.88e+04</td>\n",
       "      <td>...</td>\n",
       "      <td>2.96e+04</td>\n",
       "      <td>4.11e+04</td>\n",
       "      <td>6.43e+03</td>\n",
       "      <td>5.48e+04</td>\n",
       "      <td>61352.0</td>\n",
       "      <td>3389.0</td>\n",
       "      <td>3.29e+04</td>\n",
       "      <td>1.49e+04</td>\n",
       "      <td>5.89e+04</td>\n",
       "      <td>7.07e+05</td>\n",
       "    </tr>\n",
       "    <tr>\n",
       "      <th>6</th>\n",
       "      <td>Military</td>\n",
       "      <td>2013</td>\n",
       "      <td>5351.0</td>\n",
       "      <td>2.01e+04</td>\n",
       "      <td>2.47e+04</td>\n",
       "      <td>1.54e+04</td>\n",
       "      <td>1.85e+05</td>\n",
       "      <td>5.24e+04</td>\n",
       "      <td>3.88e+04</td>\n",
       "      <td>4.84e+04</td>\n",
       "      <td>...</td>\n",
       "      <td>2.84e+04</td>\n",
       "      <td>4.09e+04</td>\n",
       "      <td>6.75e+03</td>\n",
       "      <td>5.75e+04</td>\n",
       "      <td>70313.0</td>\n",
       "      <td>3467.0</td>\n",
       "      <td>3.39e+04</td>\n",
       "      <td>1.53e+04</td>\n",
       "      <td>5.64e+04</td>\n",
       "      <td>6.51e+05</td>\n",
       "    </tr>\n",
       "    <tr>\n",
       "      <th>7</th>\n",
       "      <td>Military</td>\n",
       "      <td>2014</td>\n",
       "      <td>5536.0</td>\n",
       "      <td>2.18e+04</td>\n",
       "      <td>2.52e+04</td>\n",
       "      <td>1.56e+04</td>\n",
       "      <td>2.01e+05</td>\n",
       "      <td>5.32e+04</td>\n",
       "      <td>3.86e+04</td>\n",
       "      <td>5.08e+04</td>\n",
       "      <td>...</td>\n",
       "      <td>2.64e+04</td>\n",
       "      <td>4.12e+04</td>\n",
       "      <td>7.46e+03</td>\n",
       "      <td>6.16e+04</td>\n",
       "      <td>82527.0</td>\n",
       "      <td>3464.0</td>\n",
       "      <td>3.50e+04</td>\n",
       "      <td>1.54e+04</td>\n",
       "      <td>5.49e+04</td>\n",
       "      <td>6.11e+05</td>\n",
       "    </tr>\n",
       "    <tr>\n",
       "      <th>8</th>\n",
       "      <td>Military</td>\n",
       "      <td>2015</td>\n",
       "      <td>5483.0</td>\n",
       "      <td>2.40e+04</td>\n",
       "      <td>2.46e+04</td>\n",
       "      <td>1.53e+04</td>\n",
       "      <td>2.14e+05</td>\n",
       "      <td>5.53e+04</td>\n",
       "      <td>3.98e+04</td>\n",
       "      <td>5.13e+04</td>\n",
       "      <td>...</td>\n",
       "      <td>2.53e+04</td>\n",
       "      <td>4.11e+04</td>\n",
       "      <td>7.74e+03</td>\n",
       "      <td>6.64e+04</td>\n",
       "      <td>87186.0</td>\n",
       "      <td>3460.0</td>\n",
       "      <td>3.64e+04</td>\n",
       "      <td>1.59e+04</td>\n",
       "      <td>5.39e+04</td>\n",
       "      <td>5.96e+05</td>\n",
       "    </tr>\n",
       "    <tr>\n",
       "      <th>9</th>\n",
       "      <td>Military</td>\n",
       "      <td>2016</td>\n",
       "      <td>6164.0</td>\n",
       "      <td>2.44e+04</td>\n",
       "      <td>2.28e+04</td>\n",
       "      <td>1.55e+04</td>\n",
       "      <td>2.26e+05</td>\n",
       "      <td>5.57e+04</td>\n",
       "      <td>4.10e+04</td>\n",
       "      <td>5.56e+04</td>\n",
       "      <td>...</td>\n",
       "      <td>2.80e+04</td>\n",
       "      <td>4.16e+04</td>\n",
       "      <td>6.89e+03</td>\n",
       "      <td>7.03e+04</td>\n",
       "      <td>61358.0</td>\n",
       "      <td>3424.0</td>\n",
       "      <td>3.73e+04</td>\n",
       "      <td>1.50e+04</td>\n",
       "      <td>5.42e+04</td>\n",
       "      <td>6.06e+05</td>\n",
       "    </tr>\n",
       "  </tbody>\n",
       "</table>\n",
       "<p>10 rows × 21 columns</p>\n",
       "</div>"
      ],
      "text/plain": [
       "  variables  year  Argentina  Australia    Brazil    Canada     China  \\\n",
       "0       GDP  2012   444000.0   1.21e+06  2.34e+06  1.69e+06  7.21e+06   \n",
       "1       GDP  2013   455000.0   1.24e+06  2.41e+06  1.74e+06  7.77e+06   \n",
       "2       GDP  2014   444000.0   1.28e+06  2.42e+06  1.78e+06  8.33e+06   \n",
       "3       GDP  2015   455000.0   1.31e+06  2.33e+06  1.80e+06  8.91e+06   \n",
       "4       GDP  2016   445000.0   1.34e+06  2.25e+06  1.82e+06  9.51e+06   \n",
       "5  Military  2012     4776.0   2.03e+04  2.46e+04  1.66e+04  1.69e+05   \n",
       "6  Military  2013     5351.0   2.01e+04  2.47e+04  1.54e+04  1.85e+05   \n",
       "7  Military  2014     5536.0   2.18e+04  2.52e+04  1.56e+04  2.01e+05   \n",
       "8  Military  2015     5483.0   2.40e+04  2.46e+04  1.53e+04  2.14e+05   \n",
       "9  Military  2016     6164.0   2.44e+04  2.28e+04  1.55e+04  2.26e+05   \n",
       "\n",
       "     France   Germany     India      ...           Italy     Japan    Mexico  \\\n",
       "0  2.71e+06  3.56e+06  1.86e+06      ...        2.08e+06  5.78e+06  1.14e+06   \n",
       "1  2.72e+06  3.58e+06  1.98e+06      ...        2.04e+06  5.89e+06  1.15e+06   \n",
       "2  2.75e+06  3.63e+06  2.13e+06      ...        2.04e+06  5.91e+06  1.18e+06   \n",
       "3  2.78e+06  3.70e+06  2.30e+06      ...        2.06e+06  5.99e+06  1.21e+06   \n",
       "4  2.81e+06  3.77e+06  2.46e+06      ...        2.08e+06  6.05e+06  1.24e+06   \n",
       "5  5.26e+04  4.12e+04  4.88e+04      ...        2.96e+04  4.11e+04  6.43e+03   \n",
       "6  5.24e+04  3.88e+04  4.84e+04      ...        2.84e+04  4.09e+04  6.75e+03   \n",
       "7  5.32e+04  3.86e+04  5.08e+04      ...        2.64e+04  4.12e+04  7.46e+03   \n",
       "8  5.53e+04  3.98e+04  5.13e+04      ...        2.53e+04  4.11e+04  7.74e+03   \n",
       "9  5.57e+04  4.10e+04  5.56e+04      ...        2.80e+04  4.16e+04  6.89e+03   \n",
       "\n",
       "   Russian Federation  Saudi Arabia  South Africa  South Korea    Turkey  \\\n",
       "0            1.65e+06      612000.0      396000.0     1.16e+06  8.99e+05   \n",
       "1            1.67e+06      629000.0      406000.0     1.19e+06  9.75e+05   \n",
       "2            1.68e+06      652000.0      413000.0     1.23e+06  1.03e+06   \n",
       "3            1.63e+06      679000.0      418000.0     1.27e+06  1.09e+06   \n",
       "4            1.63e+06      691000.0      420000.0     1.30e+06  1.12e+06   \n",
       "5            5.48e+04       61352.0        3389.0     3.29e+04  1.49e+04   \n",
       "6            5.75e+04       70313.0        3467.0     3.39e+04  1.53e+04   \n",
       "7            6.16e+04       82527.0        3464.0     3.50e+04  1.54e+04   \n",
       "8            6.64e+04       87186.0        3460.0     3.64e+04  1.59e+04   \n",
       "9            7.03e+04       61358.0        3424.0     3.73e+04  1.50e+04   \n",
       "\n",
       "   United Kingdom  United States  \n",
       "0        2.50e+06       1.55e+07  \n",
       "1        2.55e+06       1.58e+07  \n",
       "2        2.62e+06       1.62e+07  \n",
       "3        2.68e+06       1.66e+07  \n",
       "4        2.73e+06       1.69e+07  \n",
       "5        5.89e+04       7.07e+05  \n",
       "6        5.64e+04       6.51e+05  \n",
       "7        5.49e+04       6.11e+05  \n",
       "8        5.39e+04       5.96e+05  \n",
       "9        5.42e+04       6.06e+05  \n",
       "\n",
       "[10 rows x 21 columns]"
      ]
     },
     "execution_count": 157,
     "metadata": {},
     "output_type": "execute_result"
    }
   ],
   "source": [
    "GDP_MS_reset"
   ]
  },
  {
   "cell_type": "code",
   "execution_count": 161,
   "metadata": {},
   "outputs": [
    {
     "data": {
      "text/html": [
       "<div>\n",
       "<style>\n",
       "    .dataframe thead tr:only-child th {\n",
       "        text-align: right;\n",
       "    }\n",
       "\n",
       "    .dataframe thead th {\n",
       "        text-align: left;\n",
       "    }\n",
       "\n",
       "    .dataframe tbody tr th {\n",
       "        vertical-align: top;\n",
       "    }\n",
       "</style>\n",
       "<table border=\"1\" class=\"dataframe\">\n",
       "  <thead>\n",
       "    <tr style=\"text-align: right;\">\n",
       "      <th></th>\n",
       "      <th>variables</th>\n",
       "      <th>year</th>\n",
       "    </tr>\n",
       "  </thead>\n",
       "  <tbody>\n",
       "    <tr>\n",
       "      <th>0</th>\n",
       "      <td>GDP</td>\n",
       "      <td>2012</td>\n",
       "    </tr>\n",
       "    <tr>\n",
       "      <th>1</th>\n",
       "      <td>GDP</td>\n",
       "      <td>2013</td>\n",
       "    </tr>\n",
       "    <tr>\n",
       "      <th>2</th>\n",
       "      <td>GDP</td>\n",
       "      <td>2014</td>\n",
       "    </tr>\n",
       "    <tr>\n",
       "      <th>3</th>\n",
       "      <td>GDP</td>\n",
       "      <td>2015</td>\n",
       "    </tr>\n",
       "    <tr>\n",
       "      <th>4</th>\n",
       "      <td>GDP</td>\n",
       "      <td>2016</td>\n",
       "    </tr>\n",
       "    <tr>\n",
       "      <th>5</th>\n",
       "      <td>Military</td>\n",
       "      <td>2012</td>\n",
       "    </tr>\n",
       "    <tr>\n",
       "      <th>6</th>\n",
       "      <td>Military</td>\n",
       "      <td>2013</td>\n",
       "    </tr>\n",
       "    <tr>\n",
       "      <th>7</th>\n",
       "      <td>Military</td>\n",
       "      <td>2014</td>\n",
       "    </tr>\n",
       "    <tr>\n",
       "      <th>8</th>\n",
       "      <td>Military</td>\n",
       "      <td>2015</td>\n",
       "    </tr>\n",
       "    <tr>\n",
       "      <th>9</th>\n",
       "      <td>Military</td>\n",
       "      <td>2016</td>\n",
       "    </tr>\n",
       "  </tbody>\n",
       "</table>\n",
       "</div>"
      ],
      "text/plain": [
       "  variables  year\n",
       "0       GDP  2012\n",
       "1       GDP  2013\n",
       "2       GDP  2014\n",
       "3       GDP  2015\n",
       "4       GDP  2016\n",
       "5  Military  2012\n",
       "6  Military  2013\n",
       "7  Military  2014\n",
       "8  Military  2015\n",
       "9  Military  2016"
      ]
     },
     "execution_count": 161,
     "metadata": {},
     "output_type": "execute_result"
    }
   ],
   "source": [
    "GDP_MS_reset[['variables', 'year']]"
   ]
  },
  {
   "cell_type": "code",
   "execution_count": 21,
   "metadata": {
    "collapsed": true
   },
   "outputs": [],
   "source": [
    "#I can group them by setting the index equal variables | think about that later \n",
    "GDP_grouped = GDP_MS_reset.set_index('variables')"
   ]
  },
  {
   "cell_type": "code",
   "execution_count": 22,
   "metadata": {},
   "outputs": [
    {
     "data": {
      "text/html": [
       "<div>\n",
       "<style>\n",
       "    .dataframe thead tr:only-child th {\n",
       "        text-align: right;\n",
       "    }\n",
       "\n",
       "    .dataframe thead th {\n",
       "        text-align: left;\n",
       "    }\n",
       "\n",
       "    .dataframe tbody tr th {\n",
       "        vertical-align: top;\n",
       "    }\n",
       "</style>\n",
       "<table border=\"1\" class=\"dataframe\">\n",
       "  <thead>\n",
       "    <tr style=\"text-align: right;\">\n",
       "      <th></th>\n",
       "      <th>year</th>\n",
       "      <th>Argentina</th>\n",
       "      <th>Australia</th>\n",
       "      <th>Brazil</th>\n",
       "      <th>Canada</th>\n",
       "      <th>China</th>\n",
       "      <th>France</th>\n",
       "      <th>Germany</th>\n",
       "      <th>India</th>\n",
       "      <th>Indonesia</th>\n",
       "      <th>Italy</th>\n",
       "      <th>Japan</th>\n",
       "      <th>Mexico</th>\n",
       "      <th>Russian Federation</th>\n",
       "      <th>Saudi Arabia</th>\n",
       "      <th>South Africa</th>\n",
       "      <th>South Korea</th>\n",
       "      <th>Turkey</th>\n",
       "      <th>United Kingdom</th>\n",
       "      <th>United States</th>\n",
       "    </tr>\n",
       "    <tr>\n",
       "      <th>variables</th>\n",
       "      <th></th>\n",
       "      <th></th>\n",
       "      <th></th>\n",
       "      <th></th>\n",
       "      <th></th>\n",
       "      <th></th>\n",
       "      <th></th>\n",
       "      <th></th>\n",
       "      <th></th>\n",
       "      <th></th>\n",
       "      <th></th>\n",
       "      <th></th>\n",
       "      <th></th>\n",
       "      <th></th>\n",
       "      <th></th>\n",
       "      <th></th>\n",
       "      <th></th>\n",
       "      <th></th>\n",
       "      <th></th>\n",
       "      <th></th>\n",
       "    </tr>\n",
       "  </thead>\n",
       "  <tbody>\n",
       "    <tr>\n",
       "      <th>GDP</th>\n",
       "      <td>2012</td>\n",
       "      <td>444000.0</td>\n",
       "      <td>1.21e+06</td>\n",
       "      <td>2.34e+06</td>\n",
       "      <td>1.69e+06</td>\n",
       "      <td>7.21e+06</td>\n",
       "      <td>2.71e+06</td>\n",
       "      <td>3.56e+06</td>\n",
       "      <td>1.86e+06</td>\n",
       "      <td>8.50e+05</td>\n",
       "      <td>2.08e+06</td>\n",
       "      <td>5.78e+06</td>\n",
       "      <td>1.14e+06</td>\n",
       "      <td>1.65e+06</td>\n",
       "      <td>612000.0</td>\n",
       "      <td>396000.0</td>\n",
       "      <td>1.16e+06</td>\n",
       "      <td>8.99e+05</td>\n",
       "      <td>2.50e+06</td>\n",
       "      <td>1.55e+07</td>\n",
       "    </tr>\n",
       "    <tr>\n",
       "      <th>GDP</th>\n",
       "      <td>2013</td>\n",
       "      <td>455000.0</td>\n",
       "      <td>1.24e+06</td>\n",
       "      <td>2.41e+06</td>\n",
       "      <td>1.74e+06</td>\n",
       "      <td>7.77e+06</td>\n",
       "      <td>2.72e+06</td>\n",
       "      <td>3.58e+06</td>\n",
       "      <td>1.98e+06</td>\n",
       "      <td>8.97e+05</td>\n",
       "      <td>2.04e+06</td>\n",
       "      <td>5.89e+06</td>\n",
       "      <td>1.15e+06</td>\n",
       "      <td>1.67e+06</td>\n",
       "      <td>629000.0</td>\n",
       "      <td>406000.0</td>\n",
       "      <td>1.19e+06</td>\n",
       "      <td>9.75e+05</td>\n",
       "      <td>2.55e+06</td>\n",
       "      <td>1.58e+07</td>\n",
       "    </tr>\n",
       "    <tr>\n",
       "      <th>GDP</th>\n",
       "      <td>2014</td>\n",
       "      <td>444000.0</td>\n",
       "      <td>1.28e+06</td>\n",
       "      <td>2.42e+06</td>\n",
       "      <td>1.78e+06</td>\n",
       "      <td>8.33e+06</td>\n",
       "      <td>2.75e+06</td>\n",
       "      <td>3.63e+06</td>\n",
       "      <td>2.13e+06</td>\n",
       "      <td>9.42e+05</td>\n",
       "      <td>2.04e+06</td>\n",
       "      <td>5.91e+06</td>\n",
       "      <td>1.18e+06</td>\n",
       "      <td>1.68e+06</td>\n",
       "      <td>652000.0</td>\n",
       "      <td>413000.0</td>\n",
       "      <td>1.23e+06</td>\n",
       "      <td>1.03e+06</td>\n",
       "      <td>2.62e+06</td>\n",
       "      <td>1.62e+07</td>\n",
       "    </tr>\n",
       "    <tr>\n",
       "      <th>GDP</th>\n",
       "      <td>2015</td>\n",
       "      <td>455000.0</td>\n",
       "      <td>1.31e+06</td>\n",
       "      <td>2.33e+06</td>\n",
       "      <td>1.80e+06</td>\n",
       "      <td>8.91e+06</td>\n",
       "      <td>2.78e+06</td>\n",
       "      <td>3.70e+06</td>\n",
       "      <td>2.30e+06</td>\n",
       "      <td>9.88e+05</td>\n",
       "      <td>2.06e+06</td>\n",
       "      <td>5.99e+06</td>\n",
       "      <td>1.21e+06</td>\n",
       "      <td>1.63e+06</td>\n",
       "      <td>679000.0</td>\n",
       "      <td>418000.0</td>\n",
       "      <td>1.27e+06</td>\n",
       "      <td>1.09e+06</td>\n",
       "      <td>2.68e+06</td>\n",
       "      <td>1.66e+07</td>\n",
       "    </tr>\n",
       "    <tr>\n",
       "      <th>GDP</th>\n",
       "      <td>2016</td>\n",
       "      <td>445000.0</td>\n",
       "      <td>1.34e+06</td>\n",
       "      <td>2.25e+06</td>\n",
       "      <td>1.82e+06</td>\n",
       "      <td>9.51e+06</td>\n",
       "      <td>2.81e+06</td>\n",
       "      <td>3.77e+06</td>\n",
       "      <td>2.46e+06</td>\n",
       "      <td>1.04e+06</td>\n",
       "      <td>2.08e+06</td>\n",
       "      <td>6.05e+06</td>\n",
       "      <td>1.24e+06</td>\n",
       "      <td>1.63e+06</td>\n",
       "      <td>691000.0</td>\n",
       "      <td>420000.0</td>\n",
       "      <td>1.30e+06</td>\n",
       "      <td>1.12e+06</td>\n",
       "      <td>2.73e+06</td>\n",
       "      <td>1.69e+07</td>\n",
       "    </tr>\n",
       "    <tr>\n",
       "      <th>Military</th>\n",
       "      <td>2012</td>\n",
       "      <td>4776.0</td>\n",
       "      <td>2.03e+04</td>\n",
       "      <td>2.46e+04</td>\n",
       "      <td>1.66e+04</td>\n",
       "      <td>1.69e+05</td>\n",
       "      <td>5.26e+04</td>\n",
       "      <td>4.12e+04</td>\n",
       "      <td>4.88e+04</td>\n",
       "      <td>5.51e+03</td>\n",
       "      <td>2.96e+04</td>\n",
       "      <td>4.11e+04</td>\n",
       "      <td>6.43e+03</td>\n",
       "      <td>5.48e+04</td>\n",
       "      <td>61352.0</td>\n",
       "      <td>3389.0</td>\n",
       "      <td>3.29e+04</td>\n",
       "      <td>1.49e+04</td>\n",
       "      <td>5.89e+04</td>\n",
       "      <td>7.07e+05</td>\n",
       "    </tr>\n",
       "    <tr>\n",
       "      <th>Military</th>\n",
       "      <td>2013</td>\n",
       "      <td>5351.0</td>\n",
       "      <td>2.01e+04</td>\n",
       "      <td>2.47e+04</td>\n",
       "      <td>1.54e+04</td>\n",
       "      <td>1.85e+05</td>\n",
       "      <td>5.24e+04</td>\n",
       "      <td>3.88e+04</td>\n",
       "      <td>4.84e+04</td>\n",
       "      <td>7.41e+03</td>\n",
       "      <td>2.84e+04</td>\n",
       "      <td>4.09e+04</td>\n",
       "      <td>6.75e+03</td>\n",
       "      <td>5.75e+04</td>\n",
       "      <td>70313.0</td>\n",
       "      <td>3467.0</td>\n",
       "      <td>3.39e+04</td>\n",
       "      <td>1.53e+04</td>\n",
       "      <td>5.64e+04</td>\n",
       "      <td>6.51e+05</td>\n",
       "    </tr>\n",
       "    <tr>\n",
       "      <th>Military</th>\n",
       "      <td>2014</td>\n",
       "      <td>5536.0</td>\n",
       "      <td>2.18e+04</td>\n",
       "      <td>2.52e+04</td>\n",
       "      <td>1.56e+04</td>\n",
       "      <td>2.01e+05</td>\n",
       "      <td>5.32e+04</td>\n",
       "      <td>3.86e+04</td>\n",
       "      <td>5.08e+04</td>\n",
       "      <td>6.53e+03</td>\n",
       "      <td>2.64e+04</td>\n",
       "      <td>4.12e+04</td>\n",
       "      <td>7.46e+03</td>\n",
       "      <td>6.16e+04</td>\n",
       "      <td>82527.0</td>\n",
       "      <td>3464.0</td>\n",
       "      <td>3.50e+04</td>\n",
       "      <td>1.54e+04</td>\n",
       "      <td>5.49e+04</td>\n",
       "      <td>6.11e+05</td>\n",
       "    </tr>\n",
       "    <tr>\n",
       "      <th>Military</th>\n",
       "      <td>2015</td>\n",
       "      <td>5483.0</td>\n",
       "      <td>2.40e+04</td>\n",
       "      <td>2.46e+04</td>\n",
       "      <td>1.53e+04</td>\n",
       "      <td>2.14e+05</td>\n",
       "      <td>5.53e+04</td>\n",
       "      <td>3.98e+04</td>\n",
       "      <td>5.13e+04</td>\n",
       "      <td>7.64e+03</td>\n",
       "      <td>2.53e+04</td>\n",
       "      <td>4.11e+04</td>\n",
       "      <td>7.74e+03</td>\n",
       "      <td>6.64e+04</td>\n",
       "      <td>87186.0</td>\n",
       "      <td>3460.0</td>\n",
       "      <td>3.64e+04</td>\n",
       "      <td>1.59e+04</td>\n",
       "      <td>5.39e+04</td>\n",
       "      <td>5.96e+05</td>\n",
       "    </tr>\n",
       "    <tr>\n",
       "      <th>Military</th>\n",
       "      <td>2016</td>\n",
       "      <td>6164.0</td>\n",
       "      <td>2.44e+04</td>\n",
       "      <td>2.28e+04</td>\n",
       "      <td>1.55e+04</td>\n",
       "      <td>2.26e+05</td>\n",
       "      <td>5.57e+04</td>\n",
       "      <td>4.10e+04</td>\n",
       "      <td>5.56e+04</td>\n",
       "      <td>7.78e+03</td>\n",
       "      <td>2.80e+04</td>\n",
       "      <td>4.16e+04</td>\n",
       "      <td>6.89e+03</td>\n",
       "      <td>7.03e+04</td>\n",
       "      <td>61358.0</td>\n",
       "      <td>3424.0</td>\n",
       "      <td>3.73e+04</td>\n",
       "      <td>1.50e+04</td>\n",
       "      <td>5.42e+04</td>\n",
       "      <td>6.06e+05</td>\n",
       "    </tr>\n",
       "  </tbody>\n",
       "</table>\n",
       "</div>"
      ],
      "text/plain": [
       "           year  Argentina  Australia    Brazil    Canada     China    France  \\\n",
       "variables                                                                       \n",
       "GDP        2012   444000.0   1.21e+06  2.34e+06  1.69e+06  7.21e+06  2.71e+06   \n",
       "GDP        2013   455000.0   1.24e+06  2.41e+06  1.74e+06  7.77e+06  2.72e+06   \n",
       "GDP        2014   444000.0   1.28e+06  2.42e+06  1.78e+06  8.33e+06  2.75e+06   \n",
       "GDP        2015   455000.0   1.31e+06  2.33e+06  1.80e+06  8.91e+06  2.78e+06   \n",
       "GDP        2016   445000.0   1.34e+06  2.25e+06  1.82e+06  9.51e+06  2.81e+06   \n",
       "Military   2012     4776.0   2.03e+04  2.46e+04  1.66e+04  1.69e+05  5.26e+04   \n",
       "Military   2013     5351.0   2.01e+04  2.47e+04  1.54e+04  1.85e+05  5.24e+04   \n",
       "Military   2014     5536.0   2.18e+04  2.52e+04  1.56e+04  2.01e+05  5.32e+04   \n",
       "Military   2015     5483.0   2.40e+04  2.46e+04  1.53e+04  2.14e+05  5.53e+04   \n",
       "Military   2016     6164.0   2.44e+04  2.28e+04  1.55e+04  2.26e+05  5.57e+04   \n",
       "\n",
       "            Germany     India  Indonesia     Italy     Japan    Mexico  \\\n",
       "variables                                                                \n",
       "GDP        3.56e+06  1.86e+06   8.50e+05  2.08e+06  5.78e+06  1.14e+06   \n",
       "GDP        3.58e+06  1.98e+06   8.97e+05  2.04e+06  5.89e+06  1.15e+06   \n",
       "GDP        3.63e+06  2.13e+06   9.42e+05  2.04e+06  5.91e+06  1.18e+06   \n",
       "GDP        3.70e+06  2.30e+06   9.88e+05  2.06e+06  5.99e+06  1.21e+06   \n",
       "GDP        3.77e+06  2.46e+06   1.04e+06  2.08e+06  6.05e+06  1.24e+06   \n",
       "Military   4.12e+04  4.88e+04   5.51e+03  2.96e+04  4.11e+04  6.43e+03   \n",
       "Military   3.88e+04  4.84e+04   7.41e+03  2.84e+04  4.09e+04  6.75e+03   \n",
       "Military   3.86e+04  5.08e+04   6.53e+03  2.64e+04  4.12e+04  7.46e+03   \n",
       "Military   3.98e+04  5.13e+04   7.64e+03  2.53e+04  4.11e+04  7.74e+03   \n",
       "Military   4.10e+04  5.56e+04   7.78e+03  2.80e+04  4.16e+04  6.89e+03   \n",
       "\n",
       "           Russian Federation  Saudi Arabia  South Africa  South Korea  \\\n",
       "variables                                                                \n",
       "GDP                  1.65e+06      612000.0      396000.0     1.16e+06   \n",
       "GDP                  1.67e+06      629000.0      406000.0     1.19e+06   \n",
       "GDP                  1.68e+06      652000.0      413000.0     1.23e+06   \n",
       "GDP                  1.63e+06      679000.0      418000.0     1.27e+06   \n",
       "GDP                  1.63e+06      691000.0      420000.0     1.30e+06   \n",
       "Military             5.48e+04       61352.0        3389.0     3.29e+04   \n",
       "Military             5.75e+04       70313.0        3467.0     3.39e+04   \n",
       "Military             6.16e+04       82527.0        3464.0     3.50e+04   \n",
       "Military             6.64e+04       87186.0        3460.0     3.64e+04   \n",
       "Military             7.03e+04       61358.0        3424.0     3.73e+04   \n",
       "\n",
       "             Turkey  United Kingdom  United States  \n",
       "variables                                           \n",
       "GDP        8.99e+05        2.50e+06       1.55e+07  \n",
       "GDP        9.75e+05        2.55e+06       1.58e+07  \n",
       "GDP        1.03e+06        2.62e+06       1.62e+07  \n",
       "GDP        1.09e+06        2.68e+06       1.66e+07  \n",
       "GDP        1.12e+06        2.73e+06       1.69e+07  \n",
       "Military   1.49e+04        5.89e+04       7.07e+05  \n",
       "Military   1.53e+04        5.64e+04       6.51e+05  \n",
       "Military   1.54e+04        5.49e+04       6.11e+05  \n",
       "Military   1.59e+04        5.39e+04       5.96e+05  \n",
       "Military   1.50e+04        5.42e+04       6.06e+05  "
      ]
     },
     "execution_count": 22,
     "metadata": {},
     "output_type": "execute_result"
    }
   ],
   "source": [
    "GDP_grouped"
   ]
  },
  {
   "cell_type": "code",
   "execution_count": 168,
   "metadata": {
    "collapsed": true
   },
   "outputs": [],
   "source": [
    "#GDP_grouped.unstack()"
   ]
  },
  {
   "cell_type": "code",
   "execution_count": 173,
   "metadata": {
    "collapsed": true
   },
   "outputs": [],
   "source": [
    "testgroup = GDP_grouped.groupby('variables')"
   ]
  },
  {
   "cell_type": "code",
   "execution_count": 178,
   "metadata": {},
   "outputs": [
    {
     "data": {
      "text/plain": [
       "pandas.core.groupby.SeriesGroupBy"
      ]
     },
     "execution_count": 178,
     "metadata": {},
     "output_type": "execute_result"
    }
   ],
   "source": [
    "####testgroup['China'] Will think about it later "
   ]
  },
  {
   "cell_type": "code",
   "execution_count": null,
   "metadata": {
    "collapsed": true
   },
   "outputs": [],
   "source": []
  },
  {
   "cell_type": "code",
   "execution_count": null,
   "metadata": {
    "collapsed": true
   },
   "outputs": [],
   "source": []
  },
  {
   "cell_type": "code",
   "execution_count": null,
   "metadata": {
    "collapsed": true
   },
   "outputs": [],
   "source": []
  },
  {
   "cell_type": "markdown",
   "metadata": {},
   "source": [
    "# WILL THINK ABOUT THE FUNCTION IF NECESSARY ???"
   ]
  },
  {
   "cell_type": "code",
   "execution_count": null,
   "metadata": {
    "collapsed": true
   },
   "outputs": [],
   "source": [
    "def percentage_MS_GDP10(country, year):\n",
    "    percent_MS_GDP = (GDP_MS_reset.loc['Military', 'year'] / GDP_MS_reset.loc[\"GDP\", 'year'])*100\n",
    "    \n",
    "    return ()"
   ]
  },
  {
   "cell_type": "code",
   "execution_count": null,
   "metadata": {
    "collapsed": true
   },
   "outputs": [],
   "source": [
    "def percentage_MS_GDP001(GDP, Military):\n",
    "    percent_MS_GDP = (GDP_MS.loc['Military', '2012'] / GDP_MS.loc[\"GDP\", '2012'])*100\n",
    "    return percent_MS_GDP"
   ]
  },
  {
   "cell_type": "code",
   "execution_count": null,
   "metadata": {
    "collapsed": true
   },
   "outputs": [],
   "source": []
  },
  {
   "cell_type": "code",
   "execution_count": null,
   "metadata": {
    "collapsed": true
   },
   "outputs": [],
   "source": []
  },
  {
   "cell_type": "code",
   "execution_count": null,
   "metadata": {
    "collapsed": true
   },
   "outputs": [],
   "source": []
  },
  {
   "cell_type": "code",
   "execution_count": 117,
   "metadata": {},
   "outputs": [
    {
     "data": {
      "text/plain": [
       "Argentina              1.08\n",
       "Australia              1.68\n",
       "Brazil                 1.05\n",
       "Canada                 0.98\n",
       "China                  2.35\n",
       "France                 1.94\n",
       "Germany                1.16\n",
       "India                  2.62\n",
       "Indonesia              0.65\n",
       "Italy                  1.42\n",
       "Japan                  0.71\n",
       "Mexico                 0.56\n",
       "Russian Federation     3.32\n",
       "Saudi Arabia          10.02\n",
       "South Africa           0.86\n",
       "South Korea            2.83\n",
       "Turkey                 1.66\n",
       "United Kingdom         2.36\n",
       "United States          4.56\n",
       "dtype: float64"
      ]
     },
     "execution_count": 117,
     "metadata": {},
     "output_type": "execute_result"
    }
   ],
   "source": [
    "percentage_MS_GDP(4776, 444000)"
   ]
  },
  {
   "cell_type": "code",
   "execution_count": null,
   "metadata": {
    "collapsed": true
   },
   "outputs": [],
   "source": []
  },
  {
   "cell_type": "markdown",
   "metadata": {},
   "source": [
    "# GRAPH"
   ]
  },
  {
   "cell_type": "code",
   "execution_count": 182,
   "metadata": {},
   "outputs": [
    {
     "data": {
      "text/html": [
       "<div>\n",
       "<style>\n",
       "    .dataframe thead tr:only-child th {\n",
       "        text-align: right;\n",
       "    }\n",
       "\n",
       "    .dataframe thead th {\n",
       "        text-align: left;\n",
       "    }\n",
       "\n",
       "    .dataframe tbody tr th {\n",
       "        vertical-align: top;\n",
       "    }\n",
       "</style>\n",
       "<table border=\"1\" class=\"dataframe\">\n",
       "  <thead>\n",
       "    <tr style=\"text-align: right;\">\n",
       "      <th></th>\n",
       "      <th>Argentina</th>\n",
       "      <th>Australia</th>\n",
       "      <th>Brazil</th>\n",
       "      <th>Canada</th>\n",
       "      <th>China</th>\n",
       "      <th>France</th>\n",
       "      <th>Germany</th>\n",
       "      <th>India</th>\n",
       "      <th>Indonesia</th>\n",
       "      <th>Italy</th>\n",
       "      <th>Japan</th>\n",
       "      <th>Mexico</th>\n",
       "      <th>Russian Federation</th>\n",
       "      <th>Saudi Arabia</th>\n",
       "      <th>South Africa</th>\n",
       "      <th>South Korea</th>\n",
       "      <th>Turkey</th>\n",
       "      <th>United Kingdom</th>\n",
       "      <th>United States</th>\n",
       "    </tr>\n",
       "    <tr>\n",
       "      <th>year</th>\n",
       "      <th></th>\n",
       "      <th></th>\n",
       "      <th></th>\n",
       "      <th></th>\n",
       "      <th></th>\n",
       "      <th></th>\n",
       "      <th></th>\n",
       "      <th></th>\n",
       "      <th></th>\n",
       "      <th></th>\n",
       "      <th></th>\n",
       "      <th></th>\n",
       "      <th></th>\n",
       "      <th></th>\n",
       "      <th></th>\n",
       "      <th></th>\n",
       "      <th></th>\n",
       "      <th></th>\n",
       "      <th></th>\n",
       "    </tr>\n",
       "  </thead>\n",
       "  <tbody>\n",
       "    <tr>\n",
       "      <th>2012</th>\n",
       "      <td>1.08</td>\n",
       "      <td>1.68</td>\n",
       "      <td>1.05</td>\n",
       "      <td>0.98</td>\n",
       "      <td>2.35</td>\n",
       "      <td>1.94</td>\n",
       "      <td>1.16</td>\n",
       "      <td>2.62</td>\n",
       "      <td>0.65</td>\n",
       "      <td>1.42</td>\n",
       "      <td>0.71</td>\n",
       "      <td>0.56</td>\n",
       "      <td>3.32</td>\n",
       "      <td>10.02</td>\n",
       "      <td>0.86</td>\n",
       "      <td>2.83</td>\n",
       "      <td>1.66</td>\n",
       "      <td>2.36</td>\n",
       "      <td>4.56</td>\n",
       "    </tr>\n",
       "    <tr>\n",
       "      <th>2013</th>\n",
       "      <td>1.18</td>\n",
       "      <td>1.62</td>\n",
       "      <td>1.03</td>\n",
       "      <td>0.88</td>\n",
       "      <td>2.38</td>\n",
       "      <td>1.93</td>\n",
       "      <td>1.08</td>\n",
       "      <td>2.45</td>\n",
       "      <td>0.83</td>\n",
       "      <td>1.39</td>\n",
       "      <td>0.70</td>\n",
       "      <td>0.59</td>\n",
       "      <td>3.44</td>\n",
       "      <td>11.18</td>\n",
       "      <td>0.85</td>\n",
       "      <td>2.85</td>\n",
       "      <td>1.57</td>\n",
       "      <td>2.21</td>\n",
       "      <td>4.12</td>\n",
       "    </tr>\n",
       "    <tr>\n",
       "      <th>2014</th>\n",
       "      <td>1.25</td>\n",
       "      <td>1.70</td>\n",
       "      <td>1.04</td>\n",
       "      <td>0.88</td>\n",
       "      <td>2.41</td>\n",
       "      <td>1.93</td>\n",
       "      <td>1.06</td>\n",
       "      <td>2.39</td>\n",
       "      <td>0.69</td>\n",
       "      <td>1.29</td>\n",
       "      <td>0.70</td>\n",
       "      <td>0.63</td>\n",
       "      <td>3.67</td>\n",
       "      <td>12.66</td>\n",
       "      <td>0.84</td>\n",
       "      <td>2.84</td>\n",
       "      <td>1.49</td>\n",
       "      <td>2.10</td>\n",
       "      <td>3.77</td>\n",
       "    </tr>\n",
       "    <tr>\n",
       "      <th>2015</th>\n",
       "      <td>1.21</td>\n",
       "      <td>1.84</td>\n",
       "      <td>1.06</td>\n",
       "      <td>0.85</td>\n",
       "      <td>2.40</td>\n",
       "      <td>1.99</td>\n",
       "      <td>1.08</td>\n",
       "      <td>2.23</td>\n",
       "      <td>0.77</td>\n",
       "      <td>1.23</td>\n",
       "      <td>0.69</td>\n",
       "      <td>0.64</td>\n",
       "      <td>4.07</td>\n",
       "      <td>12.84</td>\n",
       "      <td>0.83</td>\n",
       "      <td>2.87</td>\n",
       "      <td>1.46</td>\n",
       "      <td>2.01</td>\n",
       "      <td>3.59</td>\n",
       "    </tr>\n",
       "    <tr>\n",
       "      <th>2016</th>\n",
       "      <td>1.39</td>\n",
       "      <td>1.82</td>\n",
       "      <td>1.02</td>\n",
       "      <td>0.85</td>\n",
       "      <td>2.37</td>\n",
       "      <td>1.98</td>\n",
       "      <td>1.09</td>\n",
       "      <td>2.26</td>\n",
       "      <td>0.75</td>\n",
       "      <td>1.34</td>\n",
       "      <td>0.69</td>\n",
       "      <td>0.56</td>\n",
       "      <td>4.32</td>\n",
       "      <td>8.88</td>\n",
       "      <td>0.82</td>\n",
       "      <td>2.87</td>\n",
       "      <td>1.34</td>\n",
       "      <td>1.99</td>\n",
       "      <td>3.59</td>\n",
       "    </tr>\n",
       "  </tbody>\n",
       "</table>\n",
       "</div>"
      ],
      "text/plain": [
       "      Argentina  Australia  Brazil  Canada  China  France  Germany  India  \\\n",
       "year                                                                        \n",
       "2012       1.08       1.68    1.05    0.98   2.35    1.94     1.16   2.62   \n",
       "2013       1.18       1.62    1.03    0.88   2.38    1.93     1.08   2.45   \n",
       "2014       1.25       1.70    1.04    0.88   2.41    1.93     1.06   2.39   \n",
       "2015       1.21       1.84    1.06    0.85   2.40    1.99     1.08   2.23   \n",
       "2016       1.39       1.82    1.02    0.85   2.37    1.98     1.09   2.26   \n",
       "\n",
       "      Indonesia  Italy  Japan  Mexico  Russian Federation  Saudi Arabia  \\\n",
       "year                                                                      \n",
       "2012       0.65   1.42   0.71    0.56                3.32         10.02   \n",
       "2013       0.83   1.39   0.70    0.59                3.44         11.18   \n",
       "2014       0.69   1.29   0.70    0.63                3.67         12.66   \n",
       "2015       0.77   1.23   0.69    0.64                4.07         12.84   \n",
       "2016       0.75   1.34   0.69    0.56                4.32          8.88   \n",
       "\n",
       "      South Africa  South Korea  Turkey  United Kingdom  United States  \n",
       "year                                                                    \n",
       "2012          0.86         2.83    1.66            2.36           4.56  \n",
       "2013          0.85         2.85    1.57            2.21           4.12  \n",
       "2014          0.84         2.84    1.49            2.10           3.77  \n",
       "2015          0.83         2.87    1.46            2.01           3.59  \n",
       "2016          0.82         2.87    1.34            1.99           3.59  "
      ]
     },
     "execution_count": 182,
     "metadata": {},
     "output_type": "execute_result"
    }
   ],
   "source": [
    "percent1"
   ]
  },
  {
   "cell_type": "code",
   "execution_count": 188,
   "metadata": {},
   "outputs": [
    {
     "data": {
      "text/plain": [
       "<matplotlib.axes._subplots.AxesSubplot at 0x1bdac4ce320>"
      ]
     },
     "execution_count": 188,
     "metadata": {},
     "output_type": "execute_result"
    },
    {
     "data": {
      "image/png": "[encoded data removed]",
      "text/plain": [
       "<matplotlib.figure.Figure at 0x1bdac192048>"
      ]
     },
     "metadata": {},
     "output_type": "display_data"
    }
   ],
   "source": [
    "percent1[['Saudi Arabia', 'Brazil']].plot()"
   ]
  },
  {
   "cell_type": "code",
   "execution_count": null,
   "metadata": {
    "collapsed": true
   },
   "outputs": [],
   "source": [
    "#Write a function to compare countries !!!!!!"
   ]
  },
  {
   "cell_type": "code",
   "execution_count": 191,
   "metadata": {},
   "outputs": [
    {
     "data": {
      "text/plain": [
       "<matplotlib.axes._subplots.AxesSubplot at 0x1bdac925ac8>"
      ]
     },
     "execution_count": 191,
     "metadata": {},
     "output_type": "execute_result"
    },
    {
     "data": {
      "image/png": "[encoded data removed]",
      "text/plain": [
       "<matplotlib.figure.Figure at 0x1bdac8f2c50>"
      ]
     },
     "metadata": {},
     "output_type": "display_data"
    }
   ],
   "source": [
    "percent1[['Saudi Arabia', 'Brazil']].plot(kind='bar')\n"
   ]
  },
  {
   "cell_type": "code",
   "execution_count": null,
   "metadata": {
    "collapsed": true
   },
   "outputs": [],
   "source": [
    "## SEE THIS LINK TO DEFINE GGPLOT graphs \n",
    "##http://blog.yhat.com/posts/ggplot-for-python.html"
   ]
  },
  {
   "cell_type": "code",
   "execution_count": null,
   "metadata": {
    "collapsed": true
   },
   "outputs": [],
   "source": []
  },
  {
   "cell_type": "markdown",
   "metadata": {},
   "source": [
    "# COMPARISON OF THE DATA TO THE OVERALL MILITARY SPENDING "
   ]
  },
  {
   "cell_type": "code",
   "execution_count": null,
   "metadata": {
    "collapsed": true
   },
   "outputs": [],
   "source": [
    "#3 methods - average / z-score / graphs "
   ]
  },
  {
   "cell_type": "code",
   "execution_count": null,
   "metadata": {
    "collapsed": true
   },
   "outputs": [],
   "source": [
    "#1. Average "
   ]
  },
  {
   "cell_type": "code",
   "execution_count": 192,
   "metadata": {},
   "outputs": [
    {
     "data": {
      "text/html": [
       "<div>\n",
       "<style>\n",
       "    .dataframe thead tr:only-child th {\n",
       "        text-align: right;\n",
       "    }\n",
       "\n",
       "    .dataframe thead th {\n",
       "        text-align: left;\n",
       "    }\n",
       "\n",
       "    .dataframe tbody tr th {\n",
       "        vertical-align: top;\n",
       "    }\n",
       "</style>\n",
       "<table border=\"1\" class=\"dataframe\">\n",
       "  <thead>\n",
       "    <tr style=\"text-align: right;\">\n",
       "      <th>country</th>\n",
       "      <th>Argentina</th>\n",
       "      <th>Australia</th>\n",
       "      <th>Brazil</th>\n",
       "      <th>Canada</th>\n",
       "      <th>China</th>\n",
       "      <th>France</th>\n",
       "      <th>Germany</th>\n",
       "      <th>India</th>\n",
       "      <th>Indonesia</th>\n",
       "      <th>Italy</th>\n",
       "      <th>Japan</th>\n",
       "      <th>Mexico</th>\n",
       "      <th>Russian Federation</th>\n",
       "      <th>Saudi Arabia</th>\n",
       "      <th>South Africa</th>\n",
       "      <th>South Korea</th>\n",
       "      <th>Turkey</th>\n",
       "      <th>United Kingdom</th>\n",
       "      <th>United States</th>\n",
       "    </tr>\n",
       "  </thead>\n",
       "  <tbody>\n",
       "    <tr>\n",
       "      <th>2012</th>\n",
       "      <td>4776</td>\n",
       "      <td>20275</td>\n",
       "      <td>24574</td>\n",
       "      <td>16619</td>\n",
       "      <td>169382</td>\n",
       "      <td>52551</td>\n",
       "      <td>41180</td>\n",
       "      <td>48804</td>\n",
       "      <td>5514</td>\n",
       "      <td>29554</td>\n",
       "      <td>41114</td>\n",
       "      <td>6432</td>\n",
       "      <td>54832</td>\n",
       "      <td>61352</td>\n",
       "      <td>3389</td>\n",
       "      <td>32876</td>\n",
       "      <td>14939</td>\n",
       "      <td>58896</td>\n",
       "      <td>706918</td>\n",
       "    </tr>\n",
       "    <tr>\n",
       "      <th>2013</th>\n",
       "      <td>5351</td>\n",
       "      <td>20099</td>\n",
       "      <td>24708</td>\n",
       "      <td>15362</td>\n",
       "      <td>185152</td>\n",
       "      <td>52419</td>\n",
       "      <td>38803</td>\n",
       "      <td>48445</td>\n",
       "      <td>7413</td>\n",
       "      <td>28388</td>\n",
       "      <td>40940</td>\n",
       "      <td>6749</td>\n",
       "      <td>57500</td>\n",
       "      <td>70313</td>\n",
       "      <td>3467</td>\n",
       "      <td>33912</td>\n",
       "      <td>15310</td>\n",
       "      <td>56408</td>\n",
       "      <td>650851</td>\n",
       "    </tr>\n",
       "    <tr>\n",
       "      <th>2014</th>\n",
       "      <td>5536</td>\n",
       "      <td>21814</td>\n",
       "      <td>25201</td>\n",
       "      <td>15613</td>\n",
       "      <td>200915</td>\n",
       "      <td>53195</td>\n",
       "      <td>38628</td>\n",
       "      <td>50813</td>\n",
       "      <td>6531</td>\n",
       "      <td>26402</td>\n",
       "      <td>41159</td>\n",
       "      <td>7464</td>\n",
       "      <td>61622</td>\n",
       "      <td>82527</td>\n",
       "      <td>3464</td>\n",
       "      <td>34954</td>\n",
       "      <td>15397</td>\n",
       "      <td>54938</td>\n",
       "      <td>610636</td>\n",
       "    </tr>\n",
       "    <tr>\n",
       "      <th>2015</th>\n",
       "      <td>5483</td>\n",
       "      <td>24040</td>\n",
       "      <td>24618</td>\n",
       "      <td>15317</td>\n",
       "      <td>214093</td>\n",
       "      <td>55342</td>\n",
       "      <td>39813</td>\n",
       "      <td>51295</td>\n",
       "      <td>7639</td>\n",
       "      <td>25295</td>\n",
       "      <td>41103</td>\n",
       "      <td>7740</td>\n",
       "      <td>66419</td>\n",
       "      <td>87186</td>\n",
       "      <td>3460</td>\n",
       "      <td>36433</td>\n",
       "      <td>15881</td>\n",
       "      <td>53862</td>\n",
       "      <td>596010</td>\n",
       "    </tr>\n",
       "    <tr>\n",
       "      <th>2016</th>\n",
       "      <td>6164</td>\n",
       "      <td>24371</td>\n",
       "      <td>22839</td>\n",
       "      <td>15505</td>\n",
       "      <td>225713</td>\n",
       "      <td>55681</td>\n",
       "      <td>40985</td>\n",
       "      <td>55631</td>\n",
       "      <td>7783</td>\n",
       "      <td>27966</td>\n",
       "      <td>41569</td>\n",
       "      <td>6893</td>\n",
       "      <td>70345</td>\n",
       "      <td>61358</td>\n",
       "      <td>3424</td>\n",
       "      <td>37265</td>\n",
       "      <td>14974</td>\n",
       "      <td>54217</td>\n",
       "      <td>606233</td>\n",
       "    </tr>\n",
       "  </tbody>\n",
       "</table>\n",
       "</div>"
      ],
      "text/plain": [
       "country  Argentina  Australia  Brazil  Canada   China  France  Germany  India  \\\n",
       "2012          4776      20275   24574   16619  169382   52551    41180  48804   \n",
       "2013          5351      20099   24708   15362  185152   52419    38803  48445   \n",
       "2014          5536      21814   25201   15613  200915   53195    38628  50813   \n",
       "2015          5483      24040   24618   15317  214093   55342    39813  51295   \n",
       "2016          6164      24371   22839   15505  225713   55681    40985  55631   \n",
       "\n",
       "country  Indonesia  Italy  Japan  Mexico  Russian Federation  Saudi Arabia  \\\n",
       "2012          5514  29554  41114    6432               54832         61352   \n",
       "2013          7413  28388  40940    6749               57500         70313   \n",
       "2014          6531  26402  41159    7464               61622         82527   \n",
       "2015          7639  25295  41103    7740               66419         87186   \n",
       "2016          7783  27966  41569    6893               70345         61358   \n",
       "\n",
       "country  South Africa  South Korea  Turkey  United Kingdom  United States  \n",
       "2012             3389        32876   14939           58896         706918  \n",
       "2013             3467        33912   15310           56408         650851  \n",
       "2014             3464        34954   15397           54938         610636  \n",
       "2015             3460        36433   15881           53862         596010  \n",
       "2016             3424        37265   14974           54217         606233  "
      ]
     },
     "execution_count": 192,
     "metadata": {},
     "output_type": "execute_result"
    }
   ],
   "source": [
    "MS"
   ]
  },
  {
   "cell_type": "code",
   "execution_count": 195,
   "metadata": {
    "scrolled": true
   },
   "outputs": [
    {
     "data": {
      "text/plain": [
       "2012    73367.21\n",
       "2013    71662.63\n",
       "2014    71411.00\n",
       "2015    72159.42\n",
       "2016    72574.53\n",
       "dtype: float64"
      ]
     },
     "execution_count": 195,
     "metadata": {},
     "output_type": "execute_result"
    }
   ],
   "source": [
    "MS.mean(axis=1)"
   ]
  },
  {
   "cell_type": "code",
   "execution_count": 198,
   "metadata": {},
   "outputs": [
    {
     "data": {
      "text/plain": [
       "2012    706918\n",
       "2013    650851\n",
       "2014    610636\n",
       "2015    596010\n",
       "2016    606233\n",
       "dtype: int64"
      ]
     },
     "execution_count": 198,
     "metadata": {},
     "output_type": "execute_result"
    }
   ],
   "source": [
    "MS.max(axis=1)"
   ]
  },
  {
   "cell_type": "code",
   "execution_count": 197,
   "metadata": {},
   "outputs": [
    {
     "data": {
      "text/plain": [
       "2012    73367.21\n",
       "2013    71662.63\n",
       "2014    71411.00\n",
       "2015    72159.42\n",
       "2016    72574.53\n",
       "dtype: float64"
      ]
     },
     "execution_count": 197,
     "metadata": {},
     "output_type": "execute_result"
    }
   ],
   "source": [
    "MS.T.mean()"
   ]
  },
  {
   "cell_type": "code",
   "execution_count": null,
   "metadata": {
    "collapsed": true
   },
   "outputs": [],
   "source": []
  },
  {
   "cell_type": "code",
   "execution_count": 200,
   "metadata": {},
   "outputs": [
    {
     "data": {
      "text/plain": [
       "Index(['Argentina', 'Australia', 'Brazil', 'Canada', 'China', 'France',\n",
       "       'Germany', 'India', 'Indonesia', 'Italy', 'Japan', 'Mexico',\n",
       "       'Russian Federation', 'Saudi Arabia', 'South Africa', 'South Korea',\n",
       "       'Turkey', 'United Kingdom', 'United States'],\n",
       "      dtype='object', name='country')"
      ]
     },
     "execution_count": 200,
     "metadata": {},
     "output_type": "execute_result"
    }
   ],
   "source": [
    "MS.T.index"
   ]
  },
  {
   "cell_type": "code",
   "execution_count": 201,
   "metadata": {
    "collapsed": true
   },
   "outputs": [],
   "source": [
    "test=MS.reset_index()"
   ]
  },
  {
   "cell_type": "code",
   "execution_count": 202,
   "metadata": {},
   "outputs": [
    {
     "data": {
      "text/html": [
       "<div>\n",
       "<style>\n",
       "    .dataframe thead tr:only-child th {\n",
       "        text-align: right;\n",
       "    }\n",
       "\n",
       "    .dataframe thead th {\n",
       "        text-align: left;\n",
       "    }\n",
       "\n",
       "    .dataframe tbody tr th {\n",
       "        vertical-align: top;\n",
       "    }\n",
       "</style>\n",
       "<table border=\"1\" class=\"dataframe\">\n",
       "  <thead>\n",
       "    <tr style=\"text-align: right;\">\n",
       "      <th>country</th>\n",
       "      <th>index</th>\n",
       "      <th>Argentina</th>\n",
       "      <th>Australia</th>\n",
       "      <th>Brazil</th>\n",
       "      <th>Canada</th>\n",
       "      <th>China</th>\n",
       "      <th>France</th>\n",
       "      <th>Germany</th>\n",
       "      <th>India</th>\n",
       "      <th>Indonesia</th>\n",
       "      <th>Italy</th>\n",
       "      <th>Japan</th>\n",
       "      <th>Mexico</th>\n",
       "      <th>Russian Federation</th>\n",
       "      <th>Saudi Arabia</th>\n",
       "      <th>South Africa</th>\n",
       "      <th>South Korea</th>\n",
       "      <th>Turkey</th>\n",
       "      <th>United Kingdom</th>\n",
       "      <th>United States</th>\n",
       "    </tr>\n",
       "  </thead>\n",
       "  <tbody>\n",
       "    <tr>\n",
       "      <th>0</th>\n",
       "      <td>2012</td>\n",
       "      <td>4776</td>\n",
       "      <td>20275</td>\n",
       "      <td>24574</td>\n",
       "      <td>16619</td>\n",
       "      <td>169382</td>\n",
       "      <td>52551</td>\n",
       "      <td>41180</td>\n",
       "      <td>48804</td>\n",
       "      <td>5514</td>\n",
       "      <td>29554</td>\n",
       "      <td>41114</td>\n",
       "      <td>6432</td>\n",
       "      <td>54832</td>\n",
       "      <td>61352</td>\n",
       "      <td>3389</td>\n",
       "      <td>32876</td>\n",
       "      <td>14939</td>\n",
       "      <td>58896</td>\n",
       "      <td>706918</td>\n",
       "    </tr>\n",
       "    <tr>\n",
       "      <th>1</th>\n",
       "      <td>2013</td>\n",
       "      <td>5351</td>\n",
       "      <td>20099</td>\n",
       "      <td>24708</td>\n",
       "      <td>15362</td>\n",
       "      <td>185152</td>\n",
       "      <td>52419</td>\n",
       "      <td>38803</td>\n",
       "      <td>48445</td>\n",
       "      <td>7413</td>\n",
       "      <td>28388</td>\n",
       "      <td>40940</td>\n",
       "      <td>6749</td>\n",
       "      <td>57500</td>\n",
       "      <td>70313</td>\n",
       "      <td>3467</td>\n",
       "      <td>33912</td>\n",
       "      <td>15310</td>\n",
       "      <td>56408</td>\n",
       "      <td>650851</td>\n",
       "    </tr>\n",
       "    <tr>\n",
       "      <th>2</th>\n",
       "      <td>2014</td>\n",
       "      <td>5536</td>\n",
       "      <td>21814</td>\n",
       "      <td>25201</td>\n",
       "      <td>15613</td>\n",
       "      <td>200915</td>\n",
       "      <td>53195</td>\n",
       "      <td>38628</td>\n",
       "      <td>50813</td>\n",
       "      <td>6531</td>\n",
       "      <td>26402</td>\n",
       "      <td>41159</td>\n",
       "      <td>7464</td>\n",
       "      <td>61622</td>\n",
       "      <td>82527</td>\n",
       "      <td>3464</td>\n",
       "      <td>34954</td>\n",
       "      <td>15397</td>\n",
       "      <td>54938</td>\n",
       "      <td>610636</td>\n",
       "    </tr>\n",
       "    <tr>\n",
       "      <th>3</th>\n",
       "      <td>2015</td>\n",
       "      <td>5483</td>\n",
       "      <td>24040</td>\n",
       "      <td>24618</td>\n",
       "      <td>15317</td>\n",
       "      <td>214093</td>\n",
       "      <td>55342</td>\n",
       "      <td>39813</td>\n",
       "      <td>51295</td>\n",
       "      <td>7639</td>\n",
       "      <td>25295</td>\n",
       "      <td>41103</td>\n",
       "      <td>7740</td>\n",
       "      <td>66419</td>\n",
       "      <td>87186</td>\n",
       "      <td>3460</td>\n",
       "      <td>36433</td>\n",
       "      <td>15881</td>\n",
       "      <td>53862</td>\n",
       "      <td>596010</td>\n",
       "    </tr>\n",
       "    <tr>\n",
       "      <th>4</th>\n",
       "      <td>2016</td>\n",
       "      <td>6164</td>\n",
       "      <td>24371</td>\n",
       "      <td>22839</td>\n",
       "      <td>15505</td>\n",
       "      <td>225713</td>\n",
       "      <td>55681</td>\n",
       "      <td>40985</td>\n",
       "      <td>55631</td>\n",
       "      <td>7783</td>\n",
       "      <td>27966</td>\n",
       "      <td>41569</td>\n",
       "      <td>6893</td>\n",
       "      <td>70345</td>\n",
       "      <td>61358</td>\n",
       "      <td>3424</td>\n",
       "      <td>37265</td>\n",
       "      <td>14974</td>\n",
       "      <td>54217</td>\n",
       "      <td>606233</td>\n",
       "    </tr>\n",
       "  </tbody>\n",
       "</table>\n",
       "</div>"
      ],
      "text/plain": [
       "country index  Argentina  Australia  Brazil  Canada   China  France  Germany  \\\n",
       "0        2012       4776      20275   24574   16619  169382   52551    41180   \n",
       "1        2013       5351      20099   24708   15362  185152   52419    38803   \n",
       "2        2014       5536      21814   25201   15613  200915   53195    38628   \n",
       "3        2015       5483      24040   24618   15317  214093   55342    39813   \n",
       "4        2016       6164      24371   22839   15505  225713   55681    40985   \n",
       "\n",
       "country  India  Indonesia  Italy  Japan  Mexico  Russian Federation  \\\n",
       "0        48804       5514  29554  41114    6432               54832   \n",
       "1        48445       7413  28388  40940    6749               57500   \n",
       "2        50813       6531  26402  41159    7464               61622   \n",
       "3        51295       7639  25295  41103    7740               66419   \n",
       "4        55631       7783  27966  41569    6893               70345   \n",
       "\n",
       "country  Saudi Arabia  South Africa  South Korea  Turkey  United Kingdom  \\\n",
       "0               61352          3389        32876   14939           58896   \n",
       "1               70313          3467        33912   15310           56408   \n",
       "2               82527          3464        34954   15397           54938   \n",
       "3               87186          3460        36433   15881           53862   \n",
       "4               61358          3424        37265   14974           54217   \n",
       "\n",
       "country  United States  \n",
       "0               706918  \n",
       "1               650851  \n",
       "2               610636  \n",
       "3               596010  \n",
       "4               606233  "
      ]
     },
     "execution_count": 202,
     "metadata": {},
     "output_type": "execute_result"
    }
   ],
   "source": [
    "test"
   ]
  },
  {
   "cell_type": "code",
   "execution_count": 205,
   "metadata": {
    "collapsed": true
   },
   "outputs": [],
   "source": [
    "test2 = test.set_index('index')"
   ]
  },
  {
   "cell_type": "code",
   "execution_count": 206,
   "metadata": {},
   "outputs": [
    {
     "data": {
      "text/html": [
       "<div>\n",
       "<style>\n",
       "    .dataframe thead tr:only-child th {\n",
       "        text-align: right;\n",
       "    }\n",
       "\n",
       "    .dataframe thead th {\n",
       "        text-align: left;\n",
       "    }\n",
       "\n",
       "    .dataframe tbody tr th {\n",
       "        vertical-align: top;\n",
       "    }\n",
       "</style>\n",
       "<table border=\"1\" class=\"dataframe\">\n",
       "  <thead>\n",
       "    <tr style=\"text-align: right;\">\n",
       "      <th>country</th>\n",
       "      <th>Argentina</th>\n",
       "      <th>Australia</th>\n",
       "      <th>Brazil</th>\n",
       "      <th>Canada</th>\n",
       "      <th>China</th>\n",
       "      <th>France</th>\n",
       "      <th>Germany</th>\n",
       "      <th>India</th>\n",
       "      <th>Indonesia</th>\n",
       "      <th>Italy</th>\n",
       "      <th>Japan</th>\n",
       "      <th>Mexico</th>\n",
       "      <th>Russian Federation</th>\n",
       "      <th>Saudi Arabia</th>\n",
       "      <th>South Africa</th>\n",
       "      <th>South Korea</th>\n",
       "      <th>Turkey</th>\n",
       "      <th>United Kingdom</th>\n",
       "      <th>United States</th>\n",
       "    </tr>\n",
       "    <tr>\n",
       "      <th>index</th>\n",
       "      <th></th>\n",
       "      <th></th>\n",
       "      <th></th>\n",
       "      <th></th>\n",
       "      <th></th>\n",
       "      <th></th>\n",
       "      <th></th>\n",
       "      <th></th>\n",
       "      <th></th>\n",
       "      <th></th>\n",
       "      <th></th>\n",
       "      <th></th>\n",
       "      <th></th>\n",
       "      <th></th>\n",
       "      <th></th>\n",
       "      <th></th>\n",
       "      <th></th>\n",
       "      <th></th>\n",
       "      <th></th>\n",
       "    </tr>\n",
       "  </thead>\n",
       "  <tbody>\n",
       "    <tr>\n",
       "      <th>2012</th>\n",
       "      <td>4776</td>\n",
       "      <td>20275</td>\n",
       "      <td>24574</td>\n",
       "      <td>16619</td>\n",
       "      <td>169382</td>\n",
       "      <td>52551</td>\n",
       "      <td>41180</td>\n",
       "      <td>48804</td>\n",
       "      <td>5514</td>\n",
       "      <td>29554</td>\n",
       "      <td>41114</td>\n",
       "      <td>6432</td>\n",
       "      <td>54832</td>\n",
       "      <td>61352</td>\n",
       "      <td>3389</td>\n",
       "      <td>32876</td>\n",
       "      <td>14939</td>\n",
       "      <td>58896</td>\n",
       "      <td>706918</td>\n",
       "    </tr>\n",
       "    <tr>\n",
       "      <th>2013</th>\n",
       "      <td>5351</td>\n",
       "      <td>20099</td>\n",
       "      <td>24708</td>\n",
       "      <td>15362</td>\n",
       "      <td>185152</td>\n",
       "      <td>52419</td>\n",
       "      <td>38803</td>\n",
       "      <td>48445</td>\n",
       "      <td>7413</td>\n",
       "      <td>28388</td>\n",
       "      <td>40940</td>\n",
       "      <td>6749</td>\n",
       "      <td>57500</td>\n",
       "      <td>70313</td>\n",
       "      <td>3467</td>\n",
       "      <td>33912</td>\n",
       "      <td>15310</td>\n",
       "      <td>56408</td>\n",
       "      <td>650851</td>\n",
       "    </tr>\n",
       "    <tr>\n",
       "      <th>2014</th>\n",
       "      <td>5536</td>\n",
       "      <td>21814</td>\n",
       "      <td>25201</td>\n",
       "      <td>15613</td>\n",
       "      <td>200915</td>\n",
       "      <td>53195</td>\n",
       "      <td>38628</td>\n",
       "      <td>50813</td>\n",
       "      <td>6531</td>\n",
       "      <td>26402</td>\n",
       "      <td>41159</td>\n",
       "      <td>7464</td>\n",
       "      <td>61622</td>\n",
       "      <td>82527</td>\n",
       "      <td>3464</td>\n",
       "      <td>34954</td>\n",
       "      <td>15397</td>\n",
       "      <td>54938</td>\n",
       "      <td>610636</td>\n",
       "    </tr>\n",
       "    <tr>\n",
       "      <th>2015</th>\n",
       "      <td>5483</td>\n",
       "      <td>24040</td>\n",
       "      <td>24618</td>\n",
       "      <td>15317</td>\n",
       "      <td>214093</td>\n",
       "      <td>55342</td>\n",
       "      <td>39813</td>\n",
       "      <td>51295</td>\n",
       "      <td>7639</td>\n",
       "      <td>25295</td>\n",
       "      <td>41103</td>\n",
       "      <td>7740</td>\n",
       "      <td>66419</td>\n",
       "      <td>87186</td>\n",
       "      <td>3460</td>\n",
       "      <td>36433</td>\n",
       "      <td>15881</td>\n",
       "      <td>53862</td>\n",
       "      <td>596010</td>\n",
       "    </tr>\n",
       "    <tr>\n",
       "      <th>2016</th>\n",
       "      <td>6164</td>\n",
       "      <td>24371</td>\n",
       "      <td>22839</td>\n",
       "      <td>15505</td>\n",
       "      <td>225713</td>\n",
       "      <td>55681</td>\n",
       "      <td>40985</td>\n",
       "      <td>55631</td>\n",
       "      <td>7783</td>\n",
       "      <td>27966</td>\n",
       "      <td>41569</td>\n",
       "      <td>6893</td>\n",
       "      <td>70345</td>\n",
       "      <td>61358</td>\n",
       "      <td>3424</td>\n",
       "      <td>37265</td>\n",
       "      <td>14974</td>\n",
       "      <td>54217</td>\n",
       "      <td>606233</td>\n",
       "    </tr>\n",
       "  </tbody>\n",
       "</table>\n",
       "</div>"
      ],
      "text/plain": [
       "country  Argentina  Australia  Brazil  Canada   China  France  Germany  India  \\\n",
       "index                                                                           \n",
       "2012          4776      20275   24574   16619  169382   52551    41180  48804   \n",
       "2013          5351      20099   24708   15362  185152   52419    38803  48445   \n",
       "2014          5536      21814   25201   15613  200915   53195    38628  50813   \n",
       "2015          5483      24040   24618   15317  214093   55342    39813  51295   \n",
       "2016          6164      24371   22839   15505  225713   55681    40985  55631   \n",
       "\n",
       "country  Indonesia  Italy  Japan  Mexico  Russian Federation  Saudi Arabia  \\\n",
       "index                                                                        \n",
       "2012          5514  29554  41114    6432               54832         61352   \n",
       "2013          7413  28388  40940    6749               57500         70313   \n",
       "2014          6531  26402  41159    7464               61622         82527   \n",
       "2015          7639  25295  41103    7740               66419         87186   \n",
       "2016          7783  27966  41569    6893               70345         61358   \n",
       "\n",
       "country  South Africa  South Korea  Turkey  United Kingdom  United States  \n",
       "index                                                                      \n",
       "2012             3389        32876   14939           58896         706918  \n",
       "2013             3467        33912   15310           56408         650851  \n",
       "2014             3464        34954   15397           54938         610636  \n",
       "2015             3460        36433   15881           53862         596010  \n",
       "2016             3424        37265   14974           54217         606233  "
      ]
     },
     "execution_count": 206,
     "metadata": {},
     "output_type": "execute_result"
    }
   ],
   "source": [
    "test2"
   ]
  },
  {
   "cell_type": "code",
   "execution_count": 210,
   "metadata": {},
   "outputs": [
    {
     "data": {
      "text/plain": [
       "Index(['Argentina', 'Australia', 'Brazil', 'Canada', 'China', 'France',\n",
       "       'Germany', 'India', 'Indonesia', 'Italy', 'Japan', 'Mexico',\n",
       "       'Russian Federation', 'Saudi Arabia', 'South Africa', 'South Korea',\n",
       "       'Turkey', 'United Kingdom', 'United States'],\n",
       "      dtype='object', name='country')"
      ]
     },
     "execution_count": 210,
     "metadata": {},
     "output_type": "execute_result"
    }
   ],
   "source": [
    "test2.columns"
   ]
  },
  {
   "cell_type": "code",
   "execution_count": null,
   "metadata": {
    "collapsed": true
   },
   "outputs": [],
   "source": [
    "def plotmaxmean(sex, name):\n",
    "    \n",
    "    data = allyears_indexed.loc[sex, name]\n",
    "    pp.plot(data.index, data.values)\n",
    "    pp.show()\n",
    "    \n",
    "    percent1[['Saudi Arabia', 'Brazil']].plot(kind='bar')"
   ]
  },
  {
   "cell_type": "code",
   "execution_count": 213,
   "metadata": {},
   "outputs": [
    {
     "data": {
      "text/plain": [
       "706918"
      ]
     },
     "execution_count": 213,
     "metadata": {},
     "output_type": "execute_result"
    }
   ],
   "source": [
    "test2.max(axis=1)['2012']"
   ]
  },
  {
   "cell_type": "code",
   "execution_count": 225,
   "metadata": {
    "collapsed": true
   },
   "outputs": [],
   "source": [
    "test10 = MS.T.unstack() #equivalent to MS.stack()"
   ]
  },
  {
   "cell_type": "code",
   "execution_count": 231,
   "metadata": {},
   "outputs": [
    {
     "data": {
      "text/plain": [
       "MultiIndex(levels=[['2012', '2013', '2014', '2015', '2016'], ['Argentina', 'Australia', 'Brazil', 'Canada', 'China', 'France', 'Germany', 'India', 'Indonesia', 'Italy', 'Japan', 'Mexico', 'Russian Federation', 'Saudi Arabia', 'South Africa', 'South Korea', 'Turkey', 'United Kingdom', 'United States']],\n",
       "           labels=[[0, 0, 0, 0, 0, 0, 0, 0, 0, 0, 0, 0, 0, 0, 0, 0, 0, 0, 0, 1, 1, 1, 1, 1, 1, 1, 1, 1, 1, 1, 1, 1, 1, 1, 1, 1, 1, 1, 2, 2, 2, 2, 2, 2, 2, 2, 2, 2, 2, 2, 2, 2, 2, 2, 2, 2, 2, 3, 3, 3, 3, 3, 3, 3, 3, 3, 3, 3, 3, 3, 3, 3, 3, 3, 3, 3, 4, 4, 4, 4, 4, 4, 4, 4, 4, 4, 4, 4, 4, 4, 4, 4, 4, 4, 4], [0, 1, 2, 3, 4, 5, 6, 7, 8, 9, 10, 11, 12, 13, 14, 15, 16, 17, 18, 0, 1, 2, 3, 4, 5, 6, 7, 8, 9, 10, 11, 12, 13, 14, 15, 16, 17, 18, 0, 1, 2, 3, 4, 5, 6, 7, 8, 9, 10, 11, 12, 13, 14, 15, 16, 17, 18, 0, 1, 2, 3, 4, 5, 6, 7, 8, 9, 10, 11, 12, 13, 14, 15, 16, 17, 18, 0, 1, 2, 3, 4, 5, 6, 7, 8, 9, 10, 11, 12, 13, 14, 15, 16, 17, 18]],\n",
       "           names=[None, 'country'])"
      ]
     },
     "execution_count": 231,
     "metadata": {},
     "output_type": "execute_result"
    }
   ],
   "source": [
    "test10.index"
   ]
  },
  {
   "cell_type": "code",
   "execution_count": 230,
   "metadata": {},
   "outputs": [
    {
     "data": {
      "text/plain": [
       "      country           \n",
       "2012  Argentina               4776\n",
       "      Australia              20275\n",
       "      Brazil                 24574\n",
       "      Canada                 16619\n",
       "      China                 169382\n",
       "      France                 52551\n",
       "      Germany                41180\n",
       "      India                  48804\n",
       "      Indonesia               5514\n",
       "      Italy                  29554\n",
       "      Japan                  41114\n",
       "      Mexico                  6432\n",
       "      Russian Federation     54832\n",
       "      Saudi Arabia           61352\n",
       "      South Africa            3389\n",
       "      South Korea            32876\n",
       "      Turkey                 14939\n",
       "      United Kingdom         58896\n",
       "      United States         706918\n",
       "2013  Argentina               5351\n",
       "      Australia              20099\n",
       "      Brazil                 24708\n",
       "      Canada                 15362\n",
       "      China                 185152\n",
       "      France                 52419\n",
       "      Germany                38803\n",
       "      India                  48445\n",
       "      Indonesia               7413\n",
       "      Italy                  28388\n",
       "      Japan                  40940\n",
       "                             ...  \n",
       "2015  Indonesia               7639\n",
       "      Italy                  25295\n",
       "      Japan                  41103\n",
       "      Mexico                  7740\n",
       "      Russian Federation     66419\n",
       "      Saudi Arabia           87186\n",
       "      South Africa            3460\n",
       "      South Korea            36433\n",
       "      Turkey                 15881\n",
       "      United Kingdom         53862\n",
       "      United States         596010\n",
       "2016  Argentina               6164\n",
       "      Australia              24371\n",
       "      Brazil                 22839\n",
       "      Canada                 15505\n",
       "      China                 225713\n",
       "      France                 55681\n",
       "      Germany                40985\n",
       "      India                  55631\n",
       "      Indonesia               7783\n",
       "      Italy                  27966\n",
       "      Japan                  41569\n",
       "      Mexico                  6893\n",
       "      Russian Federation     70345\n",
       "      Saudi Arabia           61358\n",
       "      South Africa            3424\n",
       "      South Korea            37265\n",
       "      Turkey                 14974\n",
       "      United Kingdom         54217\n",
       "      United States         606233\n",
       "Length: 95, dtype: int64"
      ]
     },
     "execution_count": 230,
     "metadata": {},
     "output_type": "execute_result"
    }
   ],
   "source": [
    "test10['Argentina']"
   ]
  },
  {
   "cell_type": "code",
   "execution_count": 228,
   "metadata": {},
   "outputs": [
    {
     "data": {
      "text/plain": [
       "73367.21052631579"
      ]
     },
     "execution_count": 228,
     "metadata": {},
     "output_type": "execute_result"
    }
   ],
   "source": [
    "test10['2012'].mean()"
   ]
  },
  {
   "cell_type": "code",
   "execution_count": 236,
   "metadata": {},
   "outputs": [
    {
     "data": {
      "text/plain": [
       "country             \n",
       "Argentina       2012      4776\n",
       "                2013      5351\n",
       "                2014      5536\n",
       "                2015      5483\n",
       "                2016      6164\n",
       "Australia       2012     20275\n",
       "                2013     20099\n",
       "                2014     21814\n",
       "                2015     24040\n",
       "                2016     24371\n",
       "Brazil          2012     24574\n",
       "                2013     24708\n",
       "                2014     25201\n",
       "                2015     24618\n",
       "                2016     22839\n",
       "Canada          2012     16619\n",
       "                2013     15362\n",
       "                2014     15613\n",
       "                2015     15317\n",
       "                2016     15505\n",
       "China           2012    169382\n",
       "                2013    185152\n",
       "                2014    200915\n",
       "                2015    214093\n",
       "                2016    225713\n",
       "France          2012     52551\n",
       "                2013     52419\n",
       "                2014     53195\n",
       "                2015     55342\n",
       "                2016     55681\n",
       "                         ...  \n",
       "Saudi Arabia    2012     61352\n",
       "                2013     70313\n",
       "                2014     82527\n",
       "                2015     87186\n",
       "                2016     61358\n",
       "South Africa    2012      3389\n",
       "                2013      3467\n",
       "                2014      3464\n",
       "                2015      3460\n",
       "                2016      3424\n",
       "South Korea     2012     32876\n",
       "                2013     33912\n",
       "                2014     34954\n",
       "                2015     36433\n",
       "                2016     37265\n",
       "Turkey          2012     14939\n",
       "                2013     15310\n",
       "                2014     15397\n",
       "                2015     15881\n",
       "                2016     14974\n",
       "United Kingdom  2012     58896\n",
       "                2013     56408\n",
       "                2014     54938\n",
       "                2015     53862\n",
       "                2016     54217\n",
       "United States   2012    706918\n",
       "                2013    650851\n",
       "                2014    610636\n",
       "                2015    596010\n",
       "                2016    606233\n",
       "Length: 95, dtype: int64"
      ]
     },
     "execution_count": 236,
     "metadata": {},
     "output_type": "execute_result"
    }
   ],
   "source": [
    "MS.unstack()"
   ]
  },
  {
   "cell_type": "code",
   "execution_count": 238,
   "metadata": {
    "collapsed": true
   },
   "outputs": [],
   "source": [
    "df = MS.mean(axis=1)"
   ]
  },
  {
   "cell_type": "code",
   "execution_count": 239,
   "metadata": {
    "collapsed": true
   },
   "outputs": [],
   "source": [
    "df2 = MS['Argentina']"
   ]
  },
  {
   "cell_type": "code",
   "execution_count": 242,
   "metadata": {},
   "outputs": [
    {
     "data": {
      "text/plain": [
       "2012    4776\n",
       "2013    5351\n",
       "2014    5536\n",
       "2015    5483\n",
       "2016    6164\n",
       "Name: Argentina, dtype: int64"
      ]
     },
     "execution_count": 242,
     "metadata": {},
     "output_type": "execute_result"
    }
   ],
   "source": [
    "df2"
   ]
  },
  {
   "cell_type": "code",
   "execution_count": 243,
   "metadata": {
    "collapsed": true
   },
   "outputs": [],
   "source": [
    "dfcomb = pd.DataFrame(data=dict(df=df, df2=df2), index=df.index)"
   ]
  },
  {
   "cell_type": "code",
   "execution_count": 244,
   "metadata": {},
   "outputs": [
    {
     "data": {
      "text/html": [
       "<div>\n",
       "<style>\n",
       "    .dataframe thead tr:only-child th {\n",
       "        text-align: right;\n",
       "    }\n",
       "\n",
       "    .dataframe thead th {\n",
       "        text-align: left;\n",
       "    }\n",
       "\n",
       "    .dataframe tbody tr th {\n",
       "        vertical-align: top;\n",
       "    }\n",
       "</style>\n",
       "<table border=\"1\" class=\"dataframe\">\n",
       "  <thead>\n",
       "    <tr style=\"text-align: right;\">\n",
       "      <th></th>\n",
       "      <th>df</th>\n",
       "      <th>df2</th>\n",
       "    </tr>\n",
       "  </thead>\n",
       "  <tbody>\n",
       "    <tr>\n",
       "      <th>2012</th>\n",
       "      <td>73367.21</td>\n",
       "      <td>4776</td>\n",
       "    </tr>\n",
       "    <tr>\n",
       "      <th>2013</th>\n",
       "      <td>71662.63</td>\n",
       "      <td>5351</td>\n",
       "    </tr>\n",
       "    <tr>\n",
       "      <th>2014</th>\n",
       "      <td>71411.00</td>\n",
       "      <td>5536</td>\n",
       "    </tr>\n",
       "    <tr>\n",
       "      <th>2015</th>\n",
       "      <td>72159.42</td>\n",
       "      <td>5483</td>\n",
       "    </tr>\n",
       "    <tr>\n",
       "      <th>2016</th>\n",
       "      <td>72574.53</td>\n",
       "      <td>6164</td>\n",
       "    </tr>\n",
       "  </tbody>\n",
       "</table>\n",
       "</div>"
      ],
      "text/plain": [
       "            df   df2\n",
       "2012  73367.21  4776\n",
       "2013  71662.63  5351\n",
       "2014  71411.00  5536\n",
       "2015  72159.42  5483\n",
       "2016  72574.53  6164"
      ]
     },
     "execution_count": 244,
     "metadata": {},
     "output_type": "execute_result"
    }
   ],
   "source": [
    "dfcomb"
   ]
  },
  {
   "cell_type": "code",
   "execution_count": 246,
   "metadata": {},
   "outputs": [
    {
     "data": {
      "text/plain": [
       "<matplotlib.axes._subplots.AxesSubplot at 0x1bdac92dc18>"
      ]
     },
     "execution_count": 246,
     "metadata": {},
     "output_type": "execute_result"
    },
    {
     "data": {
      "image/png": "[encoded data removed]",
      "text/plain": [
       "<matplotlib.figure.Figure at 0x1bdaca46160>"
      ]
     },
     "metadata": {},
     "output_type": "display_data"
    }
   ],
   "source": [
    "dfcomb[['df2', 'df']].plot(kind='bar')"
   ]
  },
  {
   "cell_type": "code",
   "execution_count": 23,
   "metadata": {
    "collapsed": true
   },
   "outputs": [],
   "source": [
    "def plotmaxmean(country):\n",
    "    df = MS.mean(axis=1)\n",
    "    df2 = MS.unstack().loc[country]\n",
    "    dfcomb = pd.DataFrame(data=dict(df=df, df2=df2), index=df.index)\n",
    "    dfcomb[['df2', 'df']].plot(kind='bar')\n",
    "    \n",
    "    #data = allyears_indexed.loc[sex, name]\n",
    "    #pp.plot(data.index, data.values)  I CAN USE THE pp.plot methods - need to check on that\n",
    "    #pp.show()"
   ]
  },
  {
   "cell_type": "code",
   "execution_count": 26,
   "metadata": {},
   "outputs": [
    {
     "data": {
      "image/png": "[encoded data removed]",
      "text/plain": [
       "<matplotlib.figure.Figure at 0x237802b0550>"
      ]
     },
     "metadata": {},
     "output_type": "display_data"
    }
   ],
   "source": [
    "plotmaxmean(\"Brazil\")"
   ]
  },
  {
   "cell_type": "code",
   "execution_count": 291,
   "metadata": {},
   "outputs": [
    {
     "data": {
      "text/plain": [
       "2012    4776\n",
       "2013    5351\n",
       "2014    5536\n",
       "2015    5483\n",
       "2016    6164\n",
       "dtype: int64"
      ]
     },
     "execution_count": 291,
     "metadata": {},
     "output_type": "execute_result"
    }
   ],
   "source": [
    "MS.unstack().loc['Argentina']"
   ]
  },
  {
   "cell_type": "code",
   "execution_count": 289,
   "metadata": {},
   "outputs": [
    {
     "data": {
      "text/plain": [
       "Index(['Australia', 'Argentina', 'Brazil', 'Canada', 'China', 'France',\n",
       "       'Germany', 'India', 'Italy', 'Indonesia', 'Japan', 'Mexico',\n",
       "       'Russian Federation', 'Saudi Arabia', 'South Africa', 'United States',\n",
       "       'South Korea', 'Turkey', 'United Kingdom'],\n",
       "      dtype='object', name='country')"
      ]
     },
     "execution_count": 289,
     "metadata": {},
     "output_type": "execute_result"
    }
   ],
   "source": [
    "GDP_constant2.index  ### Might be better to use that in the function rather than the MS.unstack() ???? "
   ]
  },
  {
   "cell_type": "code",
   "execution_count": null,
   "metadata": {
    "collapsed": true
   },
   "outputs": [],
   "source": [
    "#STACKED BAR PLOT _ WILL CHOOSE ---- I WILL THINK ABOUT IT / SO MOVE ON"
   ]
  },
  {
   "cell_type": "code",
   "execution_count": null,
   "metadata": {
    "collapsed": true
   },
   "outputs": [],
   "source": [
    "def plot_percapita(df, limit=10):\n",
    "    df = df.ix[:,['Homicides', 'Gun Homicides']][:limit]\n",
    "    df['Total Homicides'] = df['Homicides'] - df['Gun Homicides']\n",
    "    del df['Homicides']\n",
    "    df.plot(kind='bar', stacked=True, sort_columns=True)\n",
    "    plt.ylabel('per 100k')\n",
    "    plt.show()"
   ]
  },
  {
   "cell_type": "code",
   "execution_count": 37,
   "metadata": {},
   "outputs": [
    {
     "data": {
      "text/plain": [
       "1393977"
      ]
     },
     "execution_count": 37,
     "metadata": {},
     "output_type": "execute_result"
    }
   ],
   "source": [
    "MS.T['2012'].sum()"
   ]
  },
  {
   "cell_type": "code",
   "execution_count": 46,
   "metadata": {},
   "outputs": [
    {
     "data": {
      "text/plain": [
       "0.50712314478646348"
      ]
     },
     "execution_count": 46,
     "metadata": {},
     "output_type": "execute_result"
    }
   ],
   "source": [
    "MS.T.loc['United States']['2012'] / MS.T['2012'].sum()"
   ]
  },
  {
   "cell_type": "code",
   "execution_count": null,
   "metadata": {
    "collapsed": true
   },
   "outputs": [],
   "source": [
    "#create a table of percentage - with apply "
   ]
  },
  {
   "cell_type": "code",
   "execution_count": 91,
   "metadata": {
    "collapsed": true
   },
   "outputs": [],
   "source": [
    "def percent_overall(x):\n",
    "    return (x / x.sum())*100"
   ]
  },
  {
   "cell_type": "code",
   "execution_count": 97,
   "metadata": {},
   "outputs": [],
   "source": [
    "dfd= MS.T.apply(percent_overall).sort_values(by='2012', ascending=False)"
   ]
  },
  {
   "cell_type": "code",
   "execution_count": 98,
   "metadata": {
    "collapsed": true
   },
   "outputs": [],
   "source": [
    "dfd['total'] = 100"
   ]
  },
  {
   "cell_type": "code",
   "execution_count": 100,
   "metadata": {},
   "outputs": [
    {
     "data": {
      "text/html": [
       "<div>\n",
       "<style>\n",
       "    .dataframe thead tr:only-child th {\n",
       "        text-align: right;\n",
       "    }\n",
       "\n",
       "    .dataframe thead th {\n",
       "        text-align: left;\n",
       "    }\n",
       "\n",
       "    .dataframe tbody tr th {\n",
       "        vertical-align: top;\n",
       "    }\n",
       "</style>\n",
       "<table border=\"1\" class=\"dataframe\">\n",
       "  <thead>\n",
       "    <tr style=\"text-align: right;\">\n",
       "      <th></th>\n",
       "      <th>2012</th>\n",
       "      <th>2013</th>\n",
       "      <th>2014</th>\n",
       "      <th>2015</th>\n",
       "      <th>2016</th>\n",
       "      <th>total</th>\n",
       "    </tr>\n",
       "    <tr>\n",
       "      <th>country</th>\n",
       "      <th></th>\n",
       "      <th></th>\n",
       "      <th></th>\n",
       "      <th></th>\n",
       "      <th></th>\n",
       "      <th></th>\n",
       "    </tr>\n",
       "  </thead>\n",
       "  <tbody>\n",
       "    <tr>\n",
       "      <th>United States</th>\n",
       "      <td>50.71</td>\n",
       "      <td>47.80</td>\n",
       "      <td>45.01</td>\n",
       "      <td>43.47</td>\n",
       "      <td>43.96</td>\n",
       "      <td>100</td>\n",
       "    </tr>\n",
       "    <tr>\n",
       "      <th>China</th>\n",
       "      <td>12.15</td>\n",
       "      <td>13.60</td>\n",
       "      <td>14.81</td>\n",
       "      <td>15.62</td>\n",
       "      <td>16.37</td>\n",
       "      <td>100</td>\n",
       "    </tr>\n",
       "    <tr>\n",
       "      <th>Saudi Arabia</th>\n",
       "      <td>4.40</td>\n",
       "      <td>5.16</td>\n",
       "      <td>6.08</td>\n",
       "      <td>6.36</td>\n",
       "      <td>4.45</td>\n",
       "      <td>100</td>\n",
       "    </tr>\n",
       "    <tr>\n",
       "      <th>United Kingdom</th>\n",
       "      <td>4.23</td>\n",
       "      <td>4.14</td>\n",
       "      <td>4.05</td>\n",
       "      <td>3.93</td>\n",
       "      <td>3.93</td>\n",
       "      <td>100</td>\n",
       "    </tr>\n",
       "    <tr>\n",
       "      <th>Russian Federation</th>\n",
       "      <td>3.93</td>\n",
       "      <td>4.22</td>\n",
       "      <td>4.54</td>\n",
       "      <td>4.84</td>\n",
       "      <td>5.10</td>\n",
       "      <td>100</td>\n",
       "    </tr>\n",
       "    <tr>\n",
       "      <th>France</th>\n",
       "      <td>3.77</td>\n",
       "      <td>3.85</td>\n",
       "      <td>3.92</td>\n",
       "      <td>4.04</td>\n",
       "      <td>4.04</td>\n",
       "      <td>100</td>\n",
       "    </tr>\n",
       "    <tr>\n",
       "      <th>India</th>\n",
       "      <td>3.50</td>\n",
       "      <td>3.56</td>\n",
       "      <td>3.75</td>\n",
       "      <td>3.74</td>\n",
       "      <td>4.03</td>\n",
       "      <td>100</td>\n",
       "    </tr>\n",
       "    <tr>\n",
       "      <th>Germany</th>\n",
       "      <td>2.95</td>\n",
       "      <td>2.85</td>\n",
       "      <td>2.85</td>\n",
       "      <td>2.90</td>\n",
       "      <td>2.97</td>\n",
       "      <td>100</td>\n",
       "    </tr>\n",
       "    <tr>\n",
       "      <th>Japan</th>\n",
       "      <td>2.95</td>\n",
       "      <td>3.01</td>\n",
       "      <td>3.03</td>\n",
       "      <td>3.00</td>\n",
       "      <td>3.01</td>\n",
       "      <td>100</td>\n",
       "    </tr>\n",
       "    <tr>\n",
       "      <th>South Korea</th>\n",
       "      <td>2.36</td>\n",
       "      <td>2.49</td>\n",
       "      <td>2.58</td>\n",
       "      <td>2.66</td>\n",
       "      <td>2.70</td>\n",
       "      <td>100</td>\n",
       "    </tr>\n",
       "    <tr>\n",
       "      <th>Italy</th>\n",
       "      <td>2.12</td>\n",
       "      <td>2.08</td>\n",
       "      <td>1.95</td>\n",
       "      <td>1.84</td>\n",
       "      <td>2.03</td>\n",
       "      <td>100</td>\n",
       "    </tr>\n",
       "    <tr>\n",
       "      <th>Brazil</th>\n",
       "      <td>1.76</td>\n",
       "      <td>1.81</td>\n",
       "      <td>1.86</td>\n",
       "      <td>1.80</td>\n",
       "      <td>1.66</td>\n",
       "      <td>100</td>\n",
       "    </tr>\n",
       "    <tr>\n",
       "      <th>Australia</th>\n",
       "      <td>1.45</td>\n",
       "      <td>1.48</td>\n",
       "      <td>1.61</td>\n",
       "      <td>1.75</td>\n",
       "      <td>1.77</td>\n",
       "      <td>100</td>\n",
       "    </tr>\n",
       "    <tr>\n",
       "      <th>Canada</th>\n",
       "      <td>1.19</td>\n",
       "      <td>1.13</td>\n",
       "      <td>1.15</td>\n",
       "      <td>1.12</td>\n",
       "      <td>1.12</td>\n",
       "      <td>100</td>\n",
       "    </tr>\n",
       "    <tr>\n",
       "      <th>Turkey</th>\n",
       "      <td>1.07</td>\n",
       "      <td>1.12</td>\n",
       "      <td>1.13</td>\n",
       "      <td>1.16</td>\n",
       "      <td>1.09</td>\n",
       "      <td>100</td>\n",
       "    </tr>\n",
       "    <tr>\n",
       "      <th>Mexico</th>\n",
       "      <td>0.46</td>\n",
       "      <td>0.50</td>\n",
       "      <td>0.55</td>\n",
       "      <td>0.56</td>\n",
       "      <td>0.50</td>\n",
       "      <td>100</td>\n",
       "    </tr>\n",
       "    <tr>\n",
       "      <th>Indonesia</th>\n",
       "      <td>0.40</td>\n",
       "      <td>0.54</td>\n",
       "      <td>0.48</td>\n",
       "      <td>0.56</td>\n",
       "      <td>0.56</td>\n",
       "      <td>100</td>\n",
       "    </tr>\n",
       "    <tr>\n",
       "      <th>Argentina</th>\n",
       "      <td>0.34</td>\n",
       "      <td>0.39</td>\n",
       "      <td>0.41</td>\n",
       "      <td>0.40</td>\n",
       "      <td>0.45</td>\n",
       "      <td>100</td>\n",
       "    </tr>\n",
       "    <tr>\n",
       "      <th>South Africa</th>\n",
       "      <td>0.24</td>\n",
       "      <td>0.25</td>\n",
       "      <td>0.26</td>\n",
       "      <td>0.25</td>\n",
       "      <td>0.25</td>\n",
       "      <td>100</td>\n",
       "    </tr>\n",
       "  </tbody>\n",
       "</table>\n",
       "</div>"
      ],
      "text/plain": [
       "                     2012   2013   2014   2015   2016  total\n",
       "country                                                     \n",
       "United States       50.71  47.80  45.01  43.47  43.96    100\n",
       "China               12.15  13.60  14.81  15.62  16.37    100\n",
       "Saudi Arabia         4.40   5.16   6.08   6.36   4.45    100\n",
       "United Kingdom       4.23   4.14   4.05   3.93   3.93    100\n",
       "Russian Federation   3.93   4.22   4.54   4.84   5.10    100\n",
       "France               3.77   3.85   3.92   4.04   4.04    100\n",
       "India                3.50   3.56   3.75   3.74   4.03    100\n",
       "Germany              2.95   2.85   2.85   2.90   2.97    100\n",
       "Japan                2.95   3.01   3.03   3.00   3.01    100\n",
       "South Korea          2.36   2.49   2.58   2.66   2.70    100\n",
       "Italy                2.12   2.08   1.95   1.84   2.03    100\n",
       "Brazil               1.76   1.81   1.86   1.80   1.66    100\n",
       "Australia            1.45   1.48   1.61   1.75   1.77    100\n",
       "Canada               1.19   1.13   1.15   1.12   1.12    100\n",
       "Turkey               1.07   1.12   1.13   1.16   1.09    100\n",
       "Mexico               0.46   0.50   0.55   0.56   0.50    100\n",
       "Indonesia            0.40   0.54   0.48   0.56   0.56    100\n",
       "Argentina            0.34   0.39   0.41   0.40   0.45    100\n",
       "South Africa         0.24   0.25   0.26   0.25   0.25    100"
      ]
     },
     "execution_count": 100,
     "metadata": {},
     "output_type": "execute_result"
    }
   ],
   "source": [
    "dfd #create a function to display the top spenders????!!!!"
   ]
  },
  {
   "cell_type": "code",
   "execution_count": 103,
   "metadata": {},
   "outputs": [],
   "source": [
    "dfd1 = dfd.loc['France']"
   ]
  },
  {
   "cell_type": "code",
   "execution_count": 104,
   "metadata": {},
   "outputs": [
    {
     "data": {
      "text/plain": [
       "2012       3.77\n",
       "2013       3.85\n",
       "2014       3.92\n",
       "2015       4.04\n",
       "2016       4.04\n",
       "total    100.00\n",
       "Name: France, dtype: float64"
      ]
     },
     "execution_count": 104,
     "metadata": {},
     "output_type": "execute_result"
    }
   ],
   "source": [
    "dfd1"
   ]
  },
  {
   "cell_type": "code",
   "execution_count": 107,
   "metadata": {},
   "outputs": [
    {
     "data": {
      "text/plain": [
       "2012                                                   -96\n",
       "2013                                                   -96\n",
       "2014                                                   -96\n",
       "2015                                                   -96\n",
       "2016                                                   -96\n",
       "total                                                    0\n",
       "Rest     2012    -196.23\n",
       "2013    -196.15\n",
       "2014    -196.0...\n",
       "Name: France, dtype: object"
      ]
     },
     "execution_count": 107,
     "metadata": {},
     "output_type": "execute_result"
    }
   ],
   "source": [
    "dfd1 - dfd1['total']"
   ]
  },
  {
   "cell_type": "code",
   "execution_count": 108,
   "metadata": {},
   "outputs": [
    {
     "data": {
      "text/plain": [
       "2012                                                   3.8\n",
       "2013                                                   3.8\n",
       "2014                                                   3.9\n",
       "2015                                                     4\n",
       "2016                                                     4\n",
       "total                                                1e+02\n",
       "Rest     2012    -96.23\n",
       "2013    -96.15\n",
       "2014    -96.08\n",
       "2...\n",
       "Name: France, dtype: object"
      ]
     },
     "execution_count": 108,
     "metadata": {},
     "output_type": "execute_result"
    }
   ],
   "source": [
    "dfd1"
   ]
  },
  {
   "cell_type": "code",
   "execution_count": null,
   "metadata": {
    "collapsed": true
   },
   "outputs": [],
   "source": []
  },
  {
   "cell_type": "code",
   "execution_count": null,
   "metadata": {
    "collapsed": true
   },
   "outputs": [],
   "source": []
  },
  {
   "cell_type": "code",
   "execution_count": null,
   "metadata": {
    "collapsed": true
   },
   "outputs": [],
   "source": []
  },
  {
   "cell_type": "code",
   "execution_count": null,
   "metadata": {
    "collapsed": true
   },
   "outputs": [],
   "source": []
  },
  {
   "cell_type": "code",
   "execution_count": null,
   "metadata": {
    "collapsed": true
   },
   "outputs": [],
   "source": []
  },
  {
   "cell_type": "code",
   "execution_count": null,
   "metadata": {
    "collapsed": true
   },
   "outputs": [],
   "source": []
  },
  {
   "cell_type": "code",
   "execution_count": 82,
   "metadata": {
    "collapsed": true
   },
   "outputs": [],
   "source": [
    "def percentage_overall_ms(country, year):\n",
    "    percent = (MS.T.loc[country][year] / MS.T[year].sum())*100\n",
    "    return percent\n",
    "    "
   ]
  },
  {
   "cell_type": "code",
   "execution_count": 83,
   "metadata": {},
   "outputs": [
    {
     "data": {
      "text/plain": [
       "7.4038983829088485"
      ]
     },
     "execution_count": 83,
     "metadata": {},
     "output_type": "execute_result"
    }
   ],
   "source": [
    "percentage_overall_ms(\"China\", '2014')"
   ]
  },
  {
   "cell_type": "code",
   "execution_count": 88,
   "metadata": {
    "collapsed": true
   },
   "outputs": [],
   "source": [
    "#def perc1(country, year):\n",
    "#    percent = (MS.T.loc[country][year] / MS.T[total])*100\n",
    "#    return percent\n",
    "    "
   ]
  },
  {
   "cell_type": "code",
   "execution_count": null,
   "metadata": {
    "collapsed": true
   },
   "outputs": [],
   "source": [
    "#def percentage_overall_ms_DF()"
   ]
  },
  {
   "cell_type": "code",
   "execution_count": null,
   "metadata": {
    "collapsed": true
   },
   "outputs": [],
   "source": []
  },
  {
   "cell_type": "code",
   "execution_count": null,
   "metadata": {},
   "outputs": [],
   "source": [
    "MS.T.apply(percentage_overall_ms)"
   ]
  },
  {
   "cell_type": "code",
   "execution_count": 65,
   "metadata": {},
   "outputs": [],
   "source": [
    "#newperc = MS.T.applymap(lambda x: (MS.T.loc[:][:] / MS.T[:].sum())*100 )"
   ]
  },
  {
   "cell_type": "code",
   "execution_count": 67,
   "metadata": {},
   "outputs": [],
   "source": [
    "#newperc"
   ]
  },
  {
   "cell_type": "code",
   "execution_count": null,
   "metadata": {
    "collapsed": true
   },
   "outputs": [],
   "source": []
  },
  {
   "cell_type": "code",
   "execution_count": null,
   "metadata": {
    "collapsed": true
   },
   "outputs": [],
   "source": [
    "new_list = list(filter(lambda x: (x%2 == 0) , my_list))"
   ]
  },
  {
   "cell_type": "code",
   "execution_count": 81,
   "metadata": {},
   "outputs": [
    {
     "data": {
      "text/html": [
       "<div>\n",
       "<style>\n",
       "    .dataframe thead tr:only-child th {\n",
       "        text-align: right;\n",
       "    }\n",
       "\n",
       "    .dataframe thead th {\n",
       "        text-align: left;\n",
       "    }\n",
       "\n",
       "    .dataframe tbody tr th {\n",
       "        vertical-align: top;\n",
       "    }\n",
       "</style>\n",
       "<table border=\"1\" class=\"dataframe\">\n",
       "  <thead>\n",
       "    <tr style=\"text-align: right;\">\n",
       "      <th></th>\n",
       "      <th>2012</th>\n",
       "      <th>2013</th>\n",
       "      <th>2014</th>\n",
       "      <th>2015</th>\n",
       "      <th>2016</th>\n",
       "    </tr>\n",
       "    <tr>\n",
       "      <th>country</th>\n",
       "      <th></th>\n",
       "      <th></th>\n",
       "      <th></th>\n",
       "      <th></th>\n",
       "      <th></th>\n",
       "    </tr>\n",
       "  </thead>\n",
       "  <tbody>\n",
       "    <tr>\n",
       "      <th>Argentina</th>\n",
       "      <td>4776</td>\n",
       "      <td>5351</td>\n",
       "      <td>5536</td>\n",
       "      <td>5483</td>\n",
       "      <td>6164</td>\n",
       "    </tr>\n",
       "    <tr>\n",
       "      <th>Australia</th>\n",
       "      <td>20275</td>\n",
       "      <td>20099</td>\n",
       "      <td>21814</td>\n",
       "      <td>24040</td>\n",
       "      <td>24371</td>\n",
       "    </tr>\n",
       "    <tr>\n",
       "      <th>Brazil</th>\n",
       "      <td>24574</td>\n",
       "      <td>24708</td>\n",
       "      <td>25201</td>\n",
       "      <td>24618</td>\n",
       "      <td>22839</td>\n",
       "    </tr>\n",
       "    <tr>\n",
       "      <th>Canada</th>\n",
       "      <td>16619</td>\n",
       "      <td>15362</td>\n",
       "      <td>15613</td>\n",
       "      <td>15317</td>\n",
       "      <td>15505</td>\n",
       "    </tr>\n",
       "    <tr>\n",
       "      <th>China</th>\n",
       "      <td>169382</td>\n",
       "      <td>185152</td>\n",
       "      <td>200915</td>\n",
       "      <td>214093</td>\n",
       "      <td>225713</td>\n",
       "    </tr>\n",
       "    <tr>\n",
       "      <th>France</th>\n",
       "      <td>52551</td>\n",
       "      <td>52419</td>\n",
       "      <td>53195</td>\n",
       "      <td>55342</td>\n",
       "      <td>55681</td>\n",
       "    </tr>\n",
       "    <tr>\n",
       "      <th>Germany</th>\n",
       "      <td>41180</td>\n",
       "      <td>38803</td>\n",
       "      <td>38628</td>\n",
       "      <td>39813</td>\n",
       "      <td>40985</td>\n",
       "    </tr>\n",
       "    <tr>\n",
       "      <th>India</th>\n",
       "      <td>48804</td>\n",
       "      <td>48445</td>\n",
       "      <td>50813</td>\n",
       "      <td>51295</td>\n",
       "      <td>55631</td>\n",
       "    </tr>\n",
       "    <tr>\n",
       "      <th>Indonesia</th>\n",
       "      <td>5514</td>\n",
       "      <td>7413</td>\n",
       "      <td>6531</td>\n",
       "      <td>7639</td>\n",
       "      <td>7783</td>\n",
       "    </tr>\n",
       "    <tr>\n",
       "      <th>Italy</th>\n",
       "      <td>29554</td>\n",
       "      <td>28388</td>\n",
       "      <td>26402</td>\n",
       "      <td>25295</td>\n",
       "      <td>27966</td>\n",
       "    </tr>\n",
       "    <tr>\n",
       "      <th>Japan</th>\n",
       "      <td>41114</td>\n",
       "      <td>40940</td>\n",
       "      <td>41159</td>\n",
       "      <td>41103</td>\n",
       "      <td>41569</td>\n",
       "    </tr>\n",
       "    <tr>\n",
       "      <th>Mexico</th>\n",
       "      <td>6432</td>\n",
       "      <td>6749</td>\n",
       "      <td>7464</td>\n",
       "      <td>7740</td>\n",
       "      <td>6893</td>\n",
       "    </tr>\n",
       "    <tr>\n",
       "      <th>Russian Federation</th>\n",
       "      <td>54832</td>\n",
       "      <td>57500</td>\n",
       "      <td>61622</td>\n",
       "      <td>66419</td>\n",
       "      <td>70345</td>\n",
       "    </tr>\n",
       "    <tr>\n",
       "      <th>Saudi Arabia</th>\n",
       "      <td>61352</td>\n",
       "      <td>70313</td>\n",
       "      <td>82527</td>\n",
       "      <td>87186</td>\n",
       "      <td>61358</td>\n",
       "    </tr>\n",
       "    <tr>\n",
       "      <th>South Africa</th>\n",
       "      <td>3389</td>\n",
       "      <td>3467</td>\n",
       "      <td>3464</td>\n",
       "      <td>3460</td>\n",
       "      <td>3424</td>\n",
       "    </tr>\n",
       "    <tr>\n",
       "      <th>South Korea</th>\n",
       "      <td>32876</td>\n",
       "      <td>33912</td>\n",
       "      <td>34954</td>\n",
       "      <td>36433</td>\n",
       "      <td>37265</td>\n",
       "    </tr>\n",
       "    <tr>\n",
       "      <th>Turkey</th>\n",
       "      <td>14939</td>\n",
       "      <td>15310</td>\n",
       "      <td>15397</td>\n",
       "      <td>15881</td>\n",
       "      <td>14974</td>\n",
       "    </tr>\n",
       "    <tr>\n",
       "      <th>United Kingdom</th>\n",
       "      <td>58896</td>\n",
       "      <td>56408</td>\n",
       "      <td>54938</td>\n",
       "      <td>53862</td>\n",
       "      <td>54217</td>\n",
       "    </tr>\n",
       "    <tr>\n",
       "      <th>United States</th>\n",
       "      <td>706918</td>\n",
       "      <td>650851</td>\n",
       "      <td>610636</td>\n",
       "      <td>596010</td>\n",
       "      <td>606233</td>\n",
       "    </tr>\n",
       "    <tr>\n",
       "      <th>total</th>\n",
       "      <td>1393997</td>\n",
       "      <td>1361610</td>\n",
       "      <td>1356829</td>\n",
       "      <td>1371049</td>\n",
       "      <td>1378936</td>\n",
       "    </tr>\n",
       "  </tbody>\n",
       "</table>\n",
       "</div>"
      ],
      "text/plain": [
       "                       2012     2013     2014     2015     2016\n",
       "country                                                        \n",
       "Argentina              4776     5351     5536     5483     6164\n",
       "Australia             20275    20099    21814    24040    24371\n",
       "Brazil                24574    24708    25201    24618    22839\n",
       "Canada                16619    15362    15613    15317    15505\n",
       "China                169382   185152   200915   214093   225713\n",
       "France                52551    52419    53195    55342    55681\n",
       "Germany               41180    38803    38628    39813    40985\n",
       "India                 48804    48445    50813    51295    55631\n",
       "Indonesia              5514     7413     6531     7639     7783\n",
       "Italy                 29554    28388    26402    25295    27966\n",
       "Japan                 41114    40940    41159    41103    41569\n",
       "Mexico                 6432     6749     7464     7740     6893\n",
       "Russian Federation    54832    57500    61622    66419    70345\n",
       "Saudi Arabia          61352    70313    82527    87186    61358\n",
       "South Africa           3389     3467     3464     3460     3424\n",
       "South Korea           32876    33912    34954    36433    37265\n",
       "Turkey                14939    15310    15397    15881    14974\n",
       "United Kingdom        58896    56408    54938    53862    54217\n",
       "United States        706918   650851   610636   596010   606233\n",
       "total               1393997  1361610  1356829  1371049  1378936"
      ]
     },
     "execution_count": 81,
     "metadata": {},
     "output_type": "execute_result"
    }
   ],
   "source": [
    "MS.T"
   ]
  },
  {
   "cell_type": "code",
   "execution_count": 77,
   "metadata": {},
   "outputs": [],
   "source": [
    "MS[\"total\"] = MS.sum(axis=1)  #redefine another dataframe or inside the function"
   ]
  },
  {
   "cell_type": "code",
   "execution_count": 89,
   "metadata": {},
   "outputs": [],
   "source": [
    "del MS['total']"
   ]
  },
  {
   "cell_type": "code",
   "execution_count": 90,
   "metadata": {},
   "outputs": [
    {
     "data": {
      "text/html": [
       "<div>\n",
       "<style>\n",
       "    .dataframe thead tr:only-child th {\n",
       "        text-align: right;\n",
       "    }\n",
       "\n",
       "    .dataframe thead th {\n",
       "        text-align: left;\n",
       "    }\n",
       "\n",
       "    .dataframe tbody tr th {\n",
       "        vertical-align: top;\n",
       "    }\n",
       "</style>\n",
       "<table border=\"1\" class=\"dataframe\">\n",
       "  <thead>\n",
       "    <tr style=\"text-align: right;\">\n",
       "      <th>country</th>\n",
       "      <th>Argentina</th>\n",
       "      <th>Australia</th>\n",
       "      <th>Brazil</th>\n",
       "      <th>Canada</th>\n",
       "      <th>China</th>\n",
       "      <th>France</th>\n",
       "      <th>Germany</th>\n",
       "      <th>India</th>\n",
       "      <th>Indonesia</th>\n",
       "      <th>Italy</th>\n",
       "      <th>Japan</th>\n",
       "      <th>Mexico</th>\n",
       "      <th>Russian Federation</th>\n",
       "      <th>Saudi Arabia</th>\n",
       "      <th>South Africa</th>\n",
       "      <th>South Korea</th>\n",
       "      <th>Turkey</th>\n",
       "      <th>United Kingdom</th>\n",
       "      <th>United States</th>\n",
       "    </tr>\n",
       "  </thead>\n",
       "  <tbody>\n",
       "    <tr>\n",
       "      <th>2012</th>\n",
       "      <td>4776</td>\n",
       "      <td>20275</td>\n",
       "      <td>24574</td>\n",
       "      <td>16619</td>\n",
       "      <td>169382</td>\n",
       "      <td>52551</td>\n",
       "      <td>41180</td>\n",
       "      <td>48804</td>\n",
       "      <td>5514</td>\n",
       "      <td>29554</td>\n",
       "      <td>41114</td>\n",
       "      <td>6432</td>\n",
       "      <td>54832</td>\n",
       "      <td>61352</td>\n",
       "      <td>3389</td>\n",
       "      <td>32876</td>\n",
       "      <td>14939</td>\n",
       "      <td>58896</td>\n",
       "      <td>706918</td>\n",
       "    </tr>\n",
       "    <tr>\n",
       "      <th>2013</th>\n",
       "      <td>5351</td>\n",
       "      <td>20099</td>\n",
       "      <td>24708</td>\n",
       "      <td>15362</td>\n",
       "      <td>185152</td>\n",
       "      <td>52419</td>\n",
       "      <td>38803</td>\n",
       "      <td>48445</td>\n",
       "      <td>7413</td>\n",
       "      <td>28388</td>\n",
       "      <td>40940</td>\n",
       "      <td>6749</td>\n",
       "      <td>57500</td>\n",
       "      <td>70313</td>\n",
       "      <td>3467</td>\n",
       "      <td>33912</td>\n",
       "      <td>15310</td>\n",
       "      <td>56408</td>\n",
       "      <td>650851</td>\n",
       "    </tr>\n",
       "    <tr>\n",
       "      <th>2014</th>\n",
       "      <td>5536</td>\n",
       "      <td>21814</td>\n",
       "      <td>25201</td>\n",
       "      <td>15613</td>\n",
       "      <td>200915</td>\n",
       "      <td>53195</td>\n",
       "      <td>38628</td>\n",
       "      <td>50813</td>\n",
       "      <td>6531</td>\n",
       "      <td>26402</td>\n",
       "      <td>41159</td>\n",
       "      <td>7464</td>\n",
       "      <td>61622</td>\n",
       "      <td>82527</td>\n",
       "      <td>3464</td>\n",
       "      <td>34954</td>\n",
       "      <td>15397</td>\n",
       "      <td>54938</td>\n",
       "      <td>610636</td>\n",
       "    </tr>\n",
       "    <tr>\n",
       "      <th>2015</th>\n",
       "      <td>5483</td>\n",
       "      <td>24040</td>\n",
       "      <td>24618</td>\n",
       "      <td>15317</td>\n",
       "      <td>214093</td>\n",
       "      <td>55342</td>\n",
       "      <td>39813</td>\n",
       "      <td>51295</td>\n",
       "      <td>7639</td>\n",
       "      <td>25295</td>\n",
       "      <td>41103</td>\n",
       "      <td>7740</td>\n",
       "      <td>66419</td>\n",
       "      <td>87186</td>\n",
       "      <td>3460</td>\n",
       "      <td>36433</td>\n",
       "      <td>15881</td>\n",
       "      <td>53862</td>\n",
       "      <td>596010</td>\n",
       "    </tr>\n",
       "    <tr>\n",
       "      <th>2016</th>\n",
       "      <td>6164</td>\n",
       "      <td>24371</td>\n",
       "      <td>22839</td>\n",
       "      <td>15505</td>\n",
       "      <td>225713</td>\n",
       "      <td>55681</td>\n",
       "      <td>40985</td>\n",
       "      <td>55631</td>\n",
       "      <td>7783</td>\n",
       "      <td>27966</td>\n",
       "      <td>41569</td>\n",
       "      <td>6893</td>\n",
       "      <td>70345</td>\n",
       "      <td>61358</td>\n",
       "      <td>3424</td>\n",
       "      <td>37265</td>\n",
       "      <td>14974</td>\n",
       "      <td>54217</td>\n",
       "      <td>606233</td>\n",
       "    </tr>\n",
       "  </tbody>\n",
       "</table>\n",
       "</div>"
      ],
      "text/plain": [
       "country  Argentina  Australia  Brazil  Canada   China  France  Germany  India  \\\n",
       "2012          4776      20275   24574   16619  169382   52551    41180  48804   \n",
       "2013          5351      20099   24708   15362  185152   52419    38803  48445   \n",
       "2014          5536      21814   25201   15613  200915   53195    38628  50813   \n",
       "2015          5483      24040   24618   15317  214093   55342    39813  51295   \n",
       "2016          6164      24371   22839   15505  225713   55681    40985  55631   \n",
       "\n",
       "country  Indonesia  Italy  Japan  Mexico  Russian Federation  Saudi Arabia  \\\n",
       "2012          5514  29554  41114    6432               54832         61352   \n",
       "2013          7413  28388  40940    6749               57500         70313   \n",
       "2014          6531  26402  41159    7464               61622         82527   \n",
       "2015          7639  25295  41103    7740               66419         87186   \n",
       "2016          7783  27966  41569    6893               70345         61358   \n",
       "\n",
       "country  South Africa  South Korea  Turkey  United Kingdom  United States  \n",
       "2012             3389        32876   14939           58896         706918  \n",
       "2013             3467        33912   15310           56408         650851  \n",
       "2014             3464        34954   15397           54938         610636  \n",
       "2015             3460        36433   15881           53862         596010  \n",
       "2016             3424        37265   14974           54217         606233  "
      ]
     },
     "execution_count": 90,
     "metadata": {},
     "output_type": "execute_result"
    }
   ],
   "source": [
    "MS"
   ]
  },
  {
   "cell_type": "code",
   "execution_count": null,
   "metadata": {
    "collapsed": true
   },
   "outputs": [],
   "source": []
  },
  {
   "cell_type": "code",
   "execution_count": null,
   "metadata": {
    "collapsed": true
   },
   "outputs": [],
   "source": []
  },
  {
   "cell_type": "code",
   "execution_count": null,
   "metadata": {
    "collapsed": true
   },
   "outputs": [],
   "source": []
  },
  {
   "cell_type": "markdown",
   "metadata": {},
   "source": [
    "# HISTOGRAM / Z-SCORE"
   ]
  },
  {
   "cell_type": "code",
   "execution_count": 312,
   "metadata": {},
   "outputs": [
    {
     "data": {
      "text/plain": [
       "<matplotlib.axes._subplots.AxesSubplot at 0x1bdacbd20f0>"
      ]
     },
     "execution_count": 312,
     "metadata": {},
     "output_type": "execute_result"
    },
    {
     "data": {
      "image/png": "[encoded data removed]",
      "text/plain": [
       "<matplotlib.figure.Figure at 0x1bdacd22f60>"
      ]
     },
     "metadata": {},
     "output_type": "display_data"
    }
   ],
   "source": [
    "MS.loc['2012'].hist(bins=50) # USE THE OTHER ONE WITH THE Z SCORE "
   ]
  },
  {
   "cell_type": "code",
   "execution_count": null,
   "metadata": {
    "collapsed": true
   },
   "outputs": [],
   "source": [
    "#extremely skewed"
   ]
  },
  {
   "cell_type": "code",
   "execution_count": 30,
   "metadata": {},
   "outputs": [
    {
     "data": {
      "text/plain": [
       "157849.21172666972"
      ]
     },
     "execution_count": 30,
     "metadata": {},
     "output_type": "execute_result"
    }
   ],
   "source": [
    "MS.T['2012'].std()"
   ]
  },
  {
   "cell_type": "code",
   "execution_count": 27,
   "metadata": {
    "collapsed": true
   },
   "outputs": [],
   "source": [
    "def standardize(x):\n",
    "    return (x - x.mean()) / x.std()\n"
   ]
  },
  {
   "cell_type": "code",
   "execution_count": 319,
   "metadata": {},
   "outputs": [
    {
     "data": {
      "text/html": [
       "<div>\n",
       "<style>\n",
       "    .dataframe thead tr:only-child th {\n",
       "        text-align: right;\n",
       "    }\n",
       "\n",
       "    .dataframe thead th {\n",
       "        text-align: left;\n",
       "    }\n",
       "\n",
       "    .dataframe tbody tr th {\n",
       "        vertical-align: top;\n",
       "    }\n",
       "</style>\n",
       "<table border=\"1\" class=\"dataframe\">\n",
       "  <thead>\n",
       "    <tr style=\"text-align: right;\">\n",
       "      <th></th>\n",
       "      <th>2012</th>\n",
       "      <th>2013</th>\n",
       "      <th>2014</th>\n",
       "      <th>2015</th>\n",
       "      <th>2016</th>\n",
       "    </tr>\n",
       "    <tr>\n",
       "      <th>country</th>\n",
       "      <th></th>\n",
       "      <th></th>\n",
       "      <th></th>\n",
       "      <th></th>\n",
       "      <th></th>\n",
       "    </tr>\n",
       "  </thead>\n",
       "  <tbody>\n",
       "    <tr>\n",
       "      <th>Argentina</th>\n",
       "      <td>-0.43</td>\n",
       "      <td>-4.54e-01</td>\n",
       "      <td>-0.48</td>\n",
       "      <td>-0.49</td>\n",
       "      <td>-0.48</td>\n",
       "    </tr>\n",
       "    <tr>\n",
       "      <th>Australia</th>\n",
       "      <td>-0.34</td>\n",
       "      <td>-3.53e-01</td>\n",
       "      <td>-0.36</td>\n",
       "      <td>-0.36</td>\n",
       "      <td>-0.35</td>\n",
       "    </tr>\n",
       "    <tr>\n",
       "      <th>Brazil</th>\n",
       "      <td>-0.31</td>\n",
       "      <td>-3.22e-01</td>\n",
       "      <td>-0.34</td>\n",
       "      <td>-0.35</td>\n",
       "      <td>-0.36</td>\n",
       "    </tr>\n",
       "    <tr>\n",
       "      <th>Canada</th>\n",
       "      <td>-0.36</td>\n",
       "      <td>-3.86e-01</td>\n",
       "      <td>-0.40</td>\n",
       "      <td>-0.42</td>\n",
       "      <td>-0.41</td>\n",
       "    </tr>\n",
       "    <tr>\n",
       "      <th>China</th>\n",
       "      <td>0.61</td>\n",
       "      <td>7.77e-01</td>\n",
       "      <td>0.94</td>\n",
       "      <td>1.05</td>\n",
       "      <td>1.11</td>\n",
       "    </tr>\n",
       "    <tr>\n",
       "      <th>France</th>\n",
       "      <td>-0.13</td>\n",
       "      <td>-1.32e-01</td>\n",
       "      <td>-0.13</td>\n",
       "      <td>-0.12</td>\n",
       "      <td>-0.12</td>\n",
       "    </tr>\n",
       "    <tr>\n",
       "      <th>Germany</th>\n",
       "      <td>-0.20</td>\n",
       "      <td>-2.25e-01</td>\n",
       "      <td>-0.24</td>\n",
       "      <td>-0.24</td>\n",
       "      <td>-0.23</td>\n",
       "    </tr>\n",
       "    <tr>\n",
       "      <th>India</th>\n",
       "      <td>-0.16</td>\n",
       "      <td>-1.59e-01</td>\n",
       "      <td>-0.15</td>\n",
       "      <td>-0.15</td>\n",
       "      <td>-0.12</td>\n",
       "    </tr>\n",
       "    <tr>\n",
       "      <th>Indonesia</th>\n",
       "      <td>-0.43</td>\n",
       "      <td>-4.40e-01</td>\n",
       "      <td>-0.47</td>\n",
       "      <td>-0.48</td>\n",
       "      <td>-0.47</td>\n",
       "    </tr>\n",
       "    <tr>\n",
       "      <th>Italy</th>\n",
       "      <td>-0.28</td>\n",
       "      <td>-2.96e-01</td>\n",
       "      <td>-0.33</td>\n",
       "      <td>-0.35</td>\n",
       "      <td>-0.32</td>\n",
       "    </tr>\n",
       "    <tr>\n",
       "      <th>Japan</th>\n",
       "      <td>-0.20</td>\n",
       "      <td>-2.10e-01</td>\n",
       "      <td>-0.22</td>\n",
       "      <td>-0.23</td>\n",
       "      <td>-0.22</td>\n",
       "    </tr>\n",
       "    <tr>\n",
       "      <th>Mexico</th>\n",
       "      <td>-0.42</td>\n",
       "      <td>-4.45e-01</td>\n",
       "      <td>-0.46</td>\n",
       "      <td>-0.48</td>\n",
       "      <td>-0.48</td>\n",
       "    </tr>\n",
       "    <tr>\n",
       "      <th>Russian Federation</th>\n",
       "      <td>-0.12</td>\n",
       "      <td>-9.70e-02</td>\n",
       "      <td>-0.07</td>\n",
       "      <td>-0.04</td>\n",
       "      <td>-0.02</td>\n",
       "    </tr>\n",
       "    <tr>\n",
       "      <th>Saudi Arabia</th>\n",
       "      <td>-0.08</td>\n",
       "      <td>-9.25e-03</td>\n",
       "      <td>0.08</td>\n",
       "      <td>0.11</td>\n",
       "      <td>-0.08</td>\n",
       "    </tr>\n",
       "    <tr>\n",
       "      <th>South Africa</th>\n",
       "      <td>-0.44</td>\n",
       "      <td>-4.67e-01</td>\n",
       "      <td>-0.49</td>\n",
       "      <td>-0.51</td>\n",
       "      <td>-0.50</td>\n",
       "    </tr>\n",
       "    <tr>\n",
       "      <th>South Korea</th>\n",
       "      <td>-0.26</td>\n",
       "      <td>-2.59e-01</td>\n",
       "      <td>-0.26</td>\n",
       "      <td>-0.26</td>\n",
       "      <td>-0.26</td>\n",
       "    </tr>\n",
       "    <tr>\n",
       "      <th>Turkey</th>\n",
       "      <td>-0.37</td>\n",
       "      <td>-3.86e-01</td>\n",
       "      <td>-0.41</td>\n",
       "      <td>-0.42</td>\n",
       "      <td>-0.42</td>\n",
       "    </tr>\n",
       "    <tr>\n",
       "      <th>United Kingdom</th>\n",
       "      <td>-0.09</td>\n",
       "      <td>-1.04e-01</td>\n",
       "      <td>-0.12</td>\n",
       "      <td>-0.14</td>\n",
       "      <td>-0.13</td>\n",
       "    </tr>\n",
       "    <tr>\n",
       "      <th>United States</th>\n",
       "      <td>4.01</td>\n",
       "      <td>3.97e+00</td>\n",
       "      <td>3.91</td>\n",
       "      <td>3.87</td>\n",
       "      <td>3.86</td>\n",
       "    </tr>\n",
       "  </tbody>\n",
       "</table>\n",
       "</div>"
      ],
      "text/plain": [
       "                    2012      2013  2014  2015  2016\n",
       "country                                             \n",
       "Argentina          -0.43 -4.54e-01 -0.48 -0.49 -0.48\n",
       "Australia          -0.34 -3.53e-01 -0.36 -0.36 -0.35\n",
       "Brazil             -0.31 -3.22e-01 -0.34 -0.35 -0.36\n",
       "Canada             -0.36 -3.86e-01 -0.40 -0.42 -0.41\n",
       "China               0.61  7.77e-01  0.94  1.05  1.11\n",
       "France             -0.13 -1.32e-01 -0.13 -0.12 -0.12\n",
       "Germany            -0.20 -2.25e-01 -0.24 -0.24 -0.23\n",
       "India              -0.16 -1.59e-01 -0.15 -0.15 -0.12\n",
       "Indonesia          -0.43 -4.40e-01 -0.47 -0.48 -0.47\n",
       "Italy              -0.28 -2.96e-01 -0.33 -0.35 -0.32\n",
       "Japan              -0.20 -2.10e-01 -0.22 -0.23 -0.22\n",
       "Mexico             -0.42 -4.45e-01 -0.46 -0.48 -0.48\n",
       "Russian Federation -0.12 -9.70e-02 -0.07 -0.04 -0.02\n",
       "Saudi Arabia       -0.08 -9.25e-03  0.08  0.11 -0.08\n",
       "South Africa       -0.44 -4.67e-01 -0.49 -0.51 -0.50\n",
       "South Korea        -0.26 -2.59e-01 -0.26 -0.26 -0.26\n",
       "Turkey             -0.37 -3.86e-01 -0.41 -0.42 -0.42\n",
       "United Kingdom     -0.09 -1.04e-01 -0.12 -0.14 -0.13\n",
       "United States       4.01  3.97e+00  3.91  3.87  3.86"
      ]
     },
     "execution_count": 319,
     "metadata": {},
     "output_type": "execute_result"
    }
   ],
   "source": [
    "MS.T.apply(standardize)"
   ]
  },
  {
   "cell_type": "code",
   "execution_count": 320,
   "metadata": {},
   "outputs": [
    {
     "data": {
      "text/plain": [
       "2012    4.01\n",
       "2013    3.97\n",
       "2014    3.91\n",
       "2015    3.87\n",
       "2016    3.86\n",
       "dtype: float64"
      ]
     },
     "execution_count": 320,
     "metadata": {},
     "output_type": "execute_result"
    }
   ],
   "source": [
    "MS.T.apply(standardize).max()"
   ]
  },
  {
   "cell_type": "code",
   "execution_count": 322,
   "metadata": {},
   "outputs": [
    {
     "data": {
      "text/plain": [
       "2012    United States\n",
       "2013    United States\n",
       "2014    United States\n",
       "2015    United States\n",
       "2016    United States\n",
       "dtype: object"
      ]
     },
     "execution_count": 322,
     "metadata": {},
     "output_type": "execute_result"
    }
   ],
   "source": [
    "MS.T.apply(standardize).idxmax()"
   ]
  },
  {
   "cell_type": "code",
   "execution_count": 327,
   "metadata": {
    "collapsed": true
   },
   "outputs": [],
   "source": [
    "#MS.apply(standardize, axis=1)"
   ]
  },
  {
   "cell_type": "code",
   "execution_count": 33,
   "metadata": {},
   "outputs": [
    {
     "data": {
      "text/plain": [
       "<matplotlib.axes._subplots.AxesSubplot at 0x237ffe6d518>"
      ]
     },
     "execution_count": 33,
     "metadata": {},
     "output_type": "execute_result"
    },
    {
     "data": {
      "image/png": "[encoded data removed]",
      "text/plain": [
       "<matplotlib.figure.Figure at 0x237ffe6d4e0>"
      ]
     },
     "metadata": {},
     "output_type": "display_data"
    }
   ],
   "source": [
    "##NOrmal curve \n",
    "\n",
    "plt.figure(figsize=(16,9))\n",
    "sns.distplot(MS.T.apply(standardize)['2012'])"
   ]
  },
  {
   "cell_type": "code",
   "execution_count": null,
   "metadata": {
    "collapsed": true
   },
   "outputs": [],
   "source": [
    "#it seems a trimodal distribution - for one year. \n",
    "#can create the graph for all years \n",
    "\n",
    "#I can look for the modes - 3 modes"
   ]
  },
  {
   "cell_type": "code",
   "execution_count": null,
   "metadata": {
    "collapsed": true
   },
   "outputs": [],
   "source": [
    "#USE THE TOP TEN FUNCTION - to find the max - BETTER TO USE IT IN QUESTION D"
   ]
  },
  {
   "cell_type": "code",
   "execution_count": null,
   "metadata": {
    "collapsed": true
   },
   "outputs": [],
   "source": []
  },
  {
   "cell_type": "code",
   "execution_count": null,
   "metadata": {
    "collapsed": true
   },
   "outputs": [],
   "source": [
    "###THINK ABOUT THE BOXPLOT _ BETTER TO USE IT IN QUESTION C "
   ]
  },
  {
   "cell_type": "code",
   "execution_count": 329,
   "metadata": {},
   "outputs": [
    {
     "data": {
      "text/plain": [
       "<matplotlib.axes._subplots.AxesSubplot at 0x1bdacc30470>"
      ]
     },
     "execution_count": 329,
     "metadata": {},
     "output_type": "execute_result"
    },
    {
     "data": {
      "image/png": "[encoded data removed]",
      "text/plain": [
       "<matplotlib.figure.Figure at 0x1bdacf40ba8>"
      ]
     },
     "metadata": {},
     "output_type": "display_data"
    }
   ],
   "source": [
    "sns.boxplot(MS)"
   ]
  },
  {
   "cell_type": "code",
   "execution_count": 330,
   "metadata": {},
   "outputs": [
    {
     "data": {
      "text/html": [
       "<div>\n",
       "<style>\n",
       "    .dataframe thead tr:only-child th {\n",
       "        text-align: right;\n",
       "    }\n",
       "\n",
       "    .dataframe thead th {\n",
       "        text-align: left;\n",
       "    }\n",
       "\n",
       "    .dataframe tbody tr th {\n",
       "        vertical-align: top;\n",
       "    }\n",
       "</style>\n",
       "<table border=\"1\" class=\"dataframe\">\n",
       "  <thead>\n",
       "    <tr style=\"text-align: right;\">\n",
       "      <th>country</th>\n",
       "      <th>Argentina</th>\n",
       "      <th>Australia</th>\n",
       "      <th>Brazil</th>\n",
       "      <th>Canada</th>\n",
       "      <th>China</th>\n",
       "      <th>France</th>\n",
       "      <th>Germany</th>\n",
       "      <th>India</th>\n",
       "      <th>Indonesia</th>\n",
       "      <th>Italy</th>\n",
       "      <th>Japan</th>\n",
       "      <th>Mexico</th>\n",
       "      <th>Russian Federation</th>\n",
       "      <th>Saudi Arabia</th>\n",
       "      <th>South Africa</th>\n",
       "      <th>South Korea</th>\n",
       "      <th>Turkey</th>\n",
       "      <th>United Kingdom</th>\n",
       "      <th>United States</th>\n",
       "    </tr>\n",
       "  </thead>\n",
       "  <tbody>\n",
       "    <tr>\n",
       "      <th>2012</th>\n",
       "      <td>4776</td>\n",
       "      <td>20275</td>\n",
       "      <td>24574</td>\n",
       "      <td>16619</td>\n",
       "      <td>169382</td>\n",
       "      <td>52551</td>\n",
       "      <td>41180</td>\n",
       "      <td>48804</td>\n",
       "      <td>5514</td>\n",
       "      <td>29554</td>\n",
       "      <td>41114</td>\n",
       "      <td>6432</td>\n",
       "      <td>54832</td>\n",
       "      <td>61352</td>\n",
       "      <td>3389</td>\n",
       "      <td>32876</td>\n",
       "      <td>14939</td>\n",
       "      <td>58896</td>\n",
       "      <td>706918</td>\n",
       "    </tr>\n",
       "    <tr>\n",
       "      <th>2013</th>\n",
       "      <td>5351</td>\n",
       "      <td>20099</td>\n",
       "      <td>24708</td>\n",
       "      <td>15362</td>\n",
       "      <td>185152</td>\n",
       "      <td>52419</td>\n",
       "      <td>38803</td>\n",
       "      <td>48445</td>\n",
       "      <td>7413</td>\n",
       "      <td>28388</td>\n",
       "      <td>40940</td>\n",
       "      <td>6749</td>\n",
       "      <td>57500</td>\n",
       "      <td>70313</td>\n",
       "      <td>3467</td>\n",
       "      <td>33912</td>\n",
       "      <td>15310</td>\n",
       "      <td>56408</td>\n",
       "      <td>650851</td>\n",
       "    </tr>\n",
       "    <tr>\n",
       "      <th>2014</th>\n",
       "      <td>5536</td>\n",
       "      <td>21814</td>\n",
       "      <td>25201</td>\n",
       "      <td>15613</td>\n",
       "      <td>200915</td>\n",
       "      <td>53195</td>\n",
       "      <td>38628</td>\n",
       "      <td>50813</td>\n",
       "      <td>6531</td>\n",
       "      <td>26402</td>\n",
       "      <td>41159</td>\n",
       "      <td>7464</td>\n",
       "      <td>61622</td>\n",
       "      <td>82527</td>\n",
       "      <td>3464</td>\n",
       "      <td>34954</td>\n",
       "      <td>15397</td>\n",
       "      <td>54938</td>\n",
       "      <td>610636</td>\n",
       "    </tr>\n",
       "    <tr>\n",
       "      <th>2015</th>\n",
       "      <td>5483</td>\n",
       "      <td>24040</td>\n",
       "      <td>24618</td>\n",
       "      <td>15317</td>\n",
       "      <td>214093</td>\n",
       "      <td>55342</td>\n",
       "      <td>39813</td>\n",
       "      <td>51295</td>\n",
       "      <td>7639</td>\n",
       "      <td>25295</td>\n",
       "      <td>41103</td>\n",
       "      <td>7740</td>\n",
       "      <td>66419</td>\n",
       "      <td>87186</td>\n",
       "      <td>3460</td>\n",
       "      <td>36433</td>\n",
       "      <td>15881</td>\n",
       "      <td>53862</td>\n",
       "      <td>596010</td>\n",
       "    </tr>\n",
       "    <tr>\n",
       "      <th>2016</th>\n",
       "      <td>6164</td>\n",
       "      <td>24371</td>\n",
       "      <td>22839</td>\n",
       "      <td>15505</td>\n",
       "      <td>225713</td>\n",
       "      <td>55681</td>\n",
       "      <td>40985</td>\n",
       "      <td>55631</td>\n",
       "      <td>7783</td>\n",
       "      <td>27966</td>\n",
       "      <td>41569</td>\n",
       "      <td>6893</td>\n",
       "      <td>70345</td>\n",
       "      <td>61358</td>\n",
       "      <td>3424</td>\n",
       "      <td>37265</td>\n",
       "      <td>14974</td>\n",
       "      <td>54217</td>\n",
       "      <td>606233</td>\n",
       "    </tr>\n",
       "  </tbody>\n",
       "</table>\n",
       "</div>"
      ],
      "text/plain": [
       "country  Argentina  Australia  Brazil  Canada   China  France  Germany  India  \\\n",
       "2012          4776      20275   24574   16619  169382   52551    41180  48804   \n",
       "2013          5351      20099   24708   15362  185152   52419    38803  48445   \n",
       "2014          5536      21814   25201   15613  200915   53195    38628  50813   \n",
       "2015          5483      24040   24618   15317  214093   55342    39813  51295   \n",
       "2016          6164      24371   22839   15505  225713   55681    40985  55631   \n",
       "\n",
       "country  Indonesia  Italy  Japan  Mexico  Russian Federation  Saudi Arabia  \\\n",
       "2012          5514  29554  41114    6432               54832         61352   \n",
       "2013          7413  28388  40940    6749               57500         70313   \n",
       "2014          6531  26402  41159    7464               61622         82527   \n",
       "2015          7639  25295  41103    7740               66419         87186   \n",
       "2016          7783  27966  41569    6893               70345         61358   \n",
       "\n",
       "country  South Africa  South Korea  Turkey  United Kingdom  United States  \n",
       "2012             3389        32876   14939           58896         706918  \n",
       "2013             3467        33912   15310           56408         650851  \n",
       "2014             3464        34954   15397           54938         610636  \n",
       "2015             3460        36433   15881           53862         596010  \n",
       "2016             3424        37265   14974           54217         606233  "
      ]
     },
     "execution_count": 330,
     "metadata": {},
     "output_type": "execute_result"
    }
   ],
   "source": [
    "MS"
   ]
  },
  {
   "cell_type": "code",
   "execution_count": null,
   "metadata": {
    "collapsed": true
   },
   "outputs": [],
   "source": [
    "    def standardize(xs):\n",
    "        return (xs - xs.mean()) / xs.std()\n",
    "    grouped_data = example_df.groupby('even')\n",
    "    print (grouped_data['value'].apply(standardize))"
   ]
  },
  {
   "cell_type": "code",
   "execution_count": null,
   "metadata": {
    "collapsed": true
   },
   "outputs": [],
   "source": []
  },
  {
   "cell_type": "markdown",
   "metadata": {
    "collapsed": true
   },
   "source": [
    "# COMPARE THE PER PERSON MS TO THE PER PERSON GDP"
   ]
  },
  {
   "cell_type": "code",
   "execution_count": null,
   "metadata": {
    "collapsed": true
   },
   "outputs": [],
   "source": [
    "#methods \n",
    "#1. Boxplot????? (percentage as in A instead), 2. COrrelation and scatteplot "
   ]
  },
  {
   "cell_type": "code",
   "execution_count": 127,
   "metadata": {},
   "outputs": [],
   "source": [
    "#GDP_per_capita2"
   ]
  },
  {
   "cell_type": "code",
   "execution_count": 128,
   "metadata": {},
   "outputs": [],
   "source": [
    "#military_spending_per_capita2"
   ]
  },
  {
   "cell_type": "code",
   "execution_count": 124,
   "metadata": {
    "collapsed": true
   },
   "outputs": [],
   "source": [
    "#MS_GDP_PC = pd.concat([GDP_per_capita2, military_spending_per_capita2], keys =['GDP_PC', 'Military_PC'], names = ['variables', 'country'])"
   ]
  },
  {
   "cell_type": "code",
   "execution_count": 129,
   "metadata": {},
   "outputs": [],
   "source": [
    "#MS_GDP_PC"
   ]
  },
  {
   "cell_type": "code",
   "execution_count": 123,
   "metadata": {},
   "outputs": [],
   "source": [
    "# MS_GDP_PC.stack()"
   ]
  },
  {
   "cell_type": "code",
   "execution_count": 130,
   "metadata": {},
   "outputs": [],
   "source": [
    "#MS_GDP_PC.unstack()"
   ]
  },
  {
   "cell_type": "code",
   "execution_count": 137,
   "metadata": {},
   "outputs": [],
   "source": [
    "MS_GDP_PC = pd.concat([GDP_per_capita2.T, military_spending_per_capita2.T], keys =['GDP_PC', 'Military_PC'], names = ['variables', 'year'])"
   ]
  },
  {
   "cell_type": "code",
   "execution_count": 184,
   "metadata": {},
   "outputs": [
    {
     "data": {
      "text/html": [
       "<div>\n",
       "<style>\n",
       "    .dataframe thead tr:only-child th {\n",
       "        text-align: right;\n",
       "    }\n",
       "\n",
       "    .dataframe thead th {\n",
       "        text-align: left;\n",
       "    }\n",
       "\n",
       "    .dataframe tbody tr th {\n",
       "        vertical-align: top;\n",
       "    }\n",
       "</style>\n",
       "<table border=\"1\" class=\"dataframe\">\n",
       "  <thead>\n",
       "    <tr style=\"text-align: right;\">\n",
       "      <th></th>\n",
       "      <th></th>\n",
       "      <th>Argentina</th>\n",
       "      <th>Australia</th>\n",
       "      <th>Brazil</th>\n",
       "      <th>Canada</th>\n",
       "      <th>China</th>\n",
       "      <th>France</th>\n",
       "      <th>Germany</th>\n",
       "      <th>India</th>\n",
       "      <th>Indonesia</th>\n",
       "      <th>Italy</th>\n",
       "      <th>Japan</th>\n",
       "      <th>Mexico</th>\n",
       "      <th>Russian Federation</th>\n",
       "      <th>Saudi Arabia</th>\n",
       "      <th>South Africa</th>\n",
       "      <th>South Korea</th>\n",
       "      <th>Turkey</th>\n",
       "      <th>United Kingdom</th>\n",
       "      <th>United States</th>\n",
       "    </tr>\n",
       "    <tr>\n",
       "      <th>variables</th>\n",
       "      <th>year</th>\n",
       "      <th></th>\n",
       "      <th></th>\n",
       "      <th></th>\n",
       "      <th></th>\n",
       "      <th></th>\n",
       "      <th></th>\n",
       "      <th></th>\n",
       "      <th></th>\n",
       "      <th></th>\n",
       "      <th></th>\n",
       "      <th></th>\n",
       "      <th></th>\n",
       "      <th></th>\n",
       "      <th></th>\n",
       "      <th></th>\n",
       "      <th></th>\n",
       "      <th></th>\n",
       "      <th></th>\n",
       "      <th></th>\n",
       "    </tr>\n",
       "  </thead>\n",
       "  <tbody>\n",
       "    <tr>\n",
       "      <th rowspan=\"5\" valign=\"top\">GDP_PC</th>\n",
       "      <th>2012</th>\n",
       "      <td>12969.71</td>\n",
       "      <td>67677.63</td>\n",
       "      <td>12291.47</td>\n",
       "      <td>52496.69</td>\n",
       "      <td>6337.88</td>\n",
       "      <td>40838.02</td>\n",
       "      <td>44065.25</td>\n",
       "      <td>1446.99</td>\n",
       "      <td>3687.95</td>\n",
       "      <td>34814.12</td>\n",
       "      <td>48603.48</td>\n",
       "      <td>9820.53</td>\n",
       "      <td>15154.46</td>\n",
       "      <td>25303.09</td>\n",
       "      <td>7548.16</td>\n",
       "      <td>24358.78</td>\n",
       "      <td>11720.31</td>\n",
       "      <td>41538.31</td>\n",
       "      <td>51450.12</td>\n",
       "    </tr>\n",
       "    <tr>\n",
       "      <th>2013</th>\n",
       "      <td>12976.64</td>\n",
       "      <td>67792.30</td>\n",
       "      <td>12216.90</td>\n",
       "      <td>52413.72</td>\n",
       "      <td>7077.77</td>\n",
       "      <td>42554.12</td>\n",
       "      <td>46530.91</td>\n",
       "      <td>1452.20</td>\n",
       "      <td>3620.66</td>\n",
       "      <td>35370.27</td>\n",
       "      <td>40454.45</td>\n",
       "      <td>10298.87</td>\n",
       "      <td>15543.68</td>\n",
       "      <td>24934.39</td>\n",
       "      <td>6876.95</td>\n",
       "      <td>25890.02</td>\n",
       "      <td>12542.94</td>\n",
       "      <td>42407.37</td>\n",
       "      <td>52787.03</td>\n",
       "    </tr>\n",
       "    <tr>\n",
       "      <th>2014</th>\n",
       "      <td>12245.26</td>\n",
       "      <td>62214.61</td>\n",
       "      <td>12026.62</td>\n",
       "      <td>50440.43</td>\n",
       "      <td>7683.50</td>\n",
       "      <td>42955.24</td>\n",
       "      <td>47902.65</td>\n",
       "      <td>1573.12</td>\n",
       "      <td>3491.60</td>\n",
       "      <td>35396.67</td>\n",
       "      <td>38096.21</td>\n",
       "      <td>10452.28</td>\n",
       "      <td>14125.91</td>\n",
       "      <td>24575.40</td>\n",
       "      <td>6479.63</td>\n",
       "      <td>27811.37</td>\n",
       "      <td>12127.23</td>\n",
       "      <td>46412.12</td>\n",
       "      <td>54598.55</td>\n",
       "    </tr>\n",
       "    <tr>\n",
       "      <th>2015</th>\n",
       "      <td>13467.10</td>\n",
       "      <td>56554.04</td>\n",
       "      <td>8757.21</td>\n",
       "      <td>43315.70</td>\n",
       "      <td>8069.21</td>\n",
       "      <td>36526.77</td>\n",
       "      <td>41176.88</td>\n",
       "      <td>1613.19</td>\n",
       "      <td>3336.11</td>\n",
       "      <td>30049.15</td>\n",
       "      <td>34474.14</td>\n",
       "      <td>9143.13</td>\n",
       "      <td>9329.30</td>\n",
       "      <td>20732.86</td>\n",
       "      <td>5769.77</td>\n",
       "      <td>27105.08</td>\n",
       "      <td>10979.53</td>\n",
       "      <td>43929.69</td>\n",
       "      <td>56207.04</td>\n",
       "    </tr>\n",
       "    <tr>\n",
       "      <th>2016</th>\n",
       "      <td>12449.22</td>\n",
       "      <td>49927.82</td>\n",
       "      <td>8649.95</td>\n",
       "      <td>42157.93</td>\n",
       "      <td>8123.18</td>\n",
       "      <td>36854.97</td>\n",
       "      <td>41936.06</td>\n",
       "      <td>1709.39</td>\n",
       "      <td>3570.29</td>\n",
       "      <td>30527.27</td>\n",
       "      <td>38894.47</td>\n",
       "      <td>8201.31</td>\n",
       "      <td>8748.36</td>\n",
       "      <td>20028.65</td>\n",
       "      <td>5273.59</td>\n",
       "      <td>27538.81</td>\n",
       "      <td>10787.61</td>\n",
       "      <td>39899.39</td>\n",
       "      <td>57466.79</td>\n",
       "    </tr>\n",
       "    <tr>\n",
       "      <th rowspan=\"5\" valign=\"top\">Military_PC</th>\n",
       "      <th>2012</th>\n",
       "      <td>108.40</td>\n",
       "      <td>1144.30</td>\n",
       "      <td>167.90</td>\n",
       "      <td>586.60</td>\n",
       "      <td>116.10</td>\n",
       "      <td>944.50</td>\n",
       "      <td>577.40</td>\n",
       "      <td>37.40</td>\n",
       "      <td>26.30</td>\n",
       "      <td>564.70</td>\n",
       "      <td>472.00</td>\n",
       "      <td>57.20</td>\n",
       "      <td>568.60</td>\n",
       "      <td>1915.40</td>\n",
       "      <td>85.00</td>\n",
       "      <td>644.10</td>\n",
       "      <td>239.90</td>\n",
       "      <td>920.10</td>\n",
       "      <td>2175.30</td>\n",
       "    </tr>\n",
       "    <tr>\n",
       "      <th>2013</th>\n",
       "      <td>120.80</td>\n",
       "      <td>1066.80</td>\n",
       "      <td>160.90</td>\n",
       "      <td>525.60</td>\n",
       "      <td>132.00</td>\n",
       "      <td>977.60</td>\n",
       "      <td>570.10</td>\n",
       "      <td>37.00</td>\n",
       "      <td>33.40</td>\n",
       "      <td>567.00</td>\n",
       "      <td>386.10</td>\n",
       "      <td>63.30</td>\n",
       "      <td>616.30</td>\n",
       "      <td>2219.10</td>\n",
       "      <td>77.10</td>\n",
       "      <td>689.20</td>\n",
       "      <td>244.80</td>\n",
       "      <td>889.10</td>\n",
       "      <td>2017.10</td>\n",
       "    </tr>\n",
       "    <tr>\n",
       "      <th>2014</th>\n",
       "      <td>115.90</td>\n",
       "      <td>1091.50</td>\n",
       "      <td>158.50</td>\n",
       "      <td>501.70</td>\n",
       "      <td>146.60</td>\n",
       "      <td>992.10</td>\n",
       "      <td>571.70</td>\n",
       "      <td>39.30</td>\n",
       "      <td>27.20</td>\n",
       "      <td>528.10</td>\n",
       "      <td>367.80</td>\n",
       "      <td>69.10</td>\n",
       "      <td>590.50</td>\n",
       "      <td>2614.80</td>\n",
       "      <td>72.10</td>\n",
       "      <td>744.60</td>\n",
       "      <td>229.20</td>\n",
       "      <td>920.00</td>\n",
       "      <td>1909.30</td>\n",
       "    </tr>\n",
       "    <tr>\n",
       "      <th>2015</th>\n",
       "      <td>126.30</td>\n",
       "      <td>1003.00</td>\n",
       "      <td>118.40</td>\n",
       "      <td>426.20</td>\n",
       "      <td>155.60</td>\n",
       "      <td>859.40</td>\n",
       "      <td>493.40</td>\n",
       "      <td>39.10</td>\n",
       "      <td>29.70</td>\n",
       "      <td>423.00</td>\n",
       "      <td>324.70</td>\n",
       "      <td>60.90</td>\n",
       "      <td>463.00</td>\n",
       "      <td>2764.30</td>\n",
       "      <td>63.50</td>\n",
       "      <td>724.40</td>\n",
       "      <td>201.90</td>\n",
       "      <td>832.30</td>\n",
       "      <td>1852.30</td>\n",
       "    </tr>\n",
       "    <tr>\n",
       "      <th>2016</th>\n",
       "      <td>118.80</td>\n",
       "      <td>1012.70</td>\n",
       "      <td>113.00</td>\n",
       "      <td>417.80</td>\n",
       "      <td>155.70</td>\n",
       "      <td>862.40</td>\n",
       "      <td>509.30</td>\n",
       "      <td>42.10</td>\n",
       "      <td>31.40</td>\n",
       "      <td>467.40</td>\n",
       "      <td>365.40</td>\n",
       "      <td>46.80</td>\n",
       "      <td>483.10</td>\n",
       "      <td>1978.20</td>\n",
       "      <td>57.50</td>\n",
       "      <td>728.80</td>\n",
       "      <td>185.90</td>\n",
       "      <td>741.30</td>\n",
       "      <td>1886.20</td>\n",
       "    </tr>\n",
       "  </tbody>\n",
       "</table>\n",
       "</div>"
      ],
      "text/plain": [
       "                  Argentina  Australia    Brazil    Canada    China    France  \\\n",
       "variables   year                                                                \n",
       "GDP_PC      2012   12969.71   67677.63  12291.47  52496.69  6337.88  40838.02   \n",
       "            2013   12976.64   67792.30  12216.90  52413.72  7077.77  42554.12   \n",
       "            2014   12245.26   62214.61  12026.62  50440.43  7683.50  42955.24   \n",
       "            2015   13467.10   56554.04   8757.21  43315.70  8069.21  36526.77   \n",
       "            2016   12449.22   49927.82   8649.95  42157.93  8123.18  36854.97   \n",
       "Military_PC 2012     108.40    1144.30    167.90    586.60   116.10    944.50   \n",
       "            2013     120.80    1066.80    160.90    525.60   132.00    977.60   \n",
       "            2014     115.90    1091.50    158.50    501.70   146.60    992.10   \n",
       "            2015     126.30    1003.00    118.40    426.20   155.60    859.40   \n",
       "            2016     118.80    1012.70    113.00    417.80   155.70    862.40   \n",
       "\n",
       "                   Germany    India  Indonesia     Italy     Japan    Mexico  \\\n",
       "variables   year                                                               \n",
       "GDP_PC      2012  44065.25  1446.99    3687.95  34814.12  48603.48   9820.53   \n",
       "            2013  46530.91  1452.20    3620.66  35370.27  40454.45  10298.87   \n",
       "            2014  47902.65  1573.12    3491.60  35396.67  38096.21  10452.28   \n",
       "            2015  41176.88  1613.19    3336.11  30049.15  34474.14   9143.13   \n",
       "            2016  41936.06  1709.39    3570.29  30527.27  38894.47   8201.31   \n",
       "Military_PC 2012    577.40    37.40      26.30    564.70    472.00     57.20   \n",
       "            2013    570.10    37.00      33.40    567.00    386.10     63.30   \n",
       "            2014    571.70    39.30      27.20    528.10    367.80     69.10   \n",
       "            2015    493.40    39.10      29.70    423.00    324.70     60.90   \n",
       "            2016    509.30    42.10      31.40    467.40    365.40     46.80   \n",
       "\n",
       "                  Russian Federation  Saudi Arabia  South Africa  South Korea  \\\n",
       "variables   year                                                                \n",
       "GDP_PC      2012            15154.46      25303.09       7548.16     24358.78   \n",
       "            2013            15543.68      24934.39       6876.95     25890.02   \n",
       "            2014            14125.91      24575.40       6479.63     27811.37   \n",
       "            2015             9329.30      20732.86       5769.77     27105.08   \n",
       "            2016             8748.36      20028.65       5273.59     27538.81   \n",
       "Military_PC 2012              568.60       1915.40         85.00       644.10   \n",
       "            2013              616.30       2219.10         77.10       689.20   \n",
       "            2014              590.50       2614.80         72.10       744.60   \n",
       "            2015              463.00       2764.30         63.50       724.40   \n",
       "            2016              483.10       1978.20         57.50       728.80   \n",
       "\n",
       "                    Turkey  United Kingdom  United States  \n",
       "variables   year                                           \n",
       "GDP_PC      2012  11720.31        41538.31       51450.12  \n",
       "            2013  12542.94        42407.37       52787.03  \n",
       "            2014  12127.23        46412.12       54598.55  \n",
       "            2015  10979.53        43929.69       56207.04  \n",
       "            2016  10787.61        39899.39       57466.79  \n",
       "Military_PC 2012    239.90          920.10        2175.30  \n",
       "            2013    244.80          889.10        2017.10  \n",
       "            2014    229.20          920.00        1909.30  \n",
       "            2015    201.90          832.30        1852.30  \n",
       "            2016    185.90          741.30        1886.20  "
      ]
     },
     "execution_count": 184,
     "metadata": {},
     "output_type": "execute_result"
    }
   ],
   "source": [
    "MS_GDP_PC"
   ]
  },
  {
   "cell_type": "code",
   "execution_count": 154,
   "metadata": {},
   "outputs": [],
   "source": [
    "#MS_GDP_PC.stack()"
   ]
  },
  {
   "cell_type": "code",
   "execution_count": 143,
   "metadata": {},
   "outputs": [
    {
     "data": {
      "text/plain": [
       "year\n",
       "2012    12969.71\n",
       "2013    12976.64\n",
       "2014    12245.26\n",
       "2015    13467.10\n",
       "2016    12449.22\n",
       "Name: Argentina, dtype: float64"
      ]
     },
     "execution_count": 143,
     "metadata": {},
     "output_type": "execute_result"
    }
   ],
   "source": [
    "MS_GDP_PC.loc['GDP_PC', :]['Argentina']"
   ]
  },
  {
   "cell_type": "code",
   "execution_count": 144,
   "metadata": {},
   "outputs": [
    {
     "data": {
      "text/plain": [
       "year\n",
       "2012    108.4\n",
       "2013    120.8\n",
       "2014    115.9\n",
       "2015    126.3\n",
       "2016    118.8\n",
       "Name: Argentina, dtype: float64"
      ]
     },
     "execution_count": 144,
     "metadata": {},
     "output_type": "execute_result"
    }
   ],
   "source": [
    "MS_GDP_PC.loc['Military_PC', :]['Argentina']"
   ]
  },
  {
   "cell_type": "code",
   "execution_count": null,
   "metadata": {},
   "outputs": [],
   "source": [
    "sns.boxplot(x=', data= MS_GDP_PC.loc[:, :]['Argentina'])"
   ]
  },
  {
   "cell_type": "code",
   "execution_count": 148,
   "metadata": {},
   "outputs": [
    {
     "data": {
      "text/plain": [
       "variables    year\n",
       "GDP_PC       2012    12969.71\n",
       "             2013    12976.64\n",
       "             2014    12245.26\n",
       "             2015    13467.10\n",
       "             2016    12449.22\n",
       "Military_PC  2012      108.40\n",
       "             2013      120.80\n",
       "             2014      115.90\n",
       "             2015      126.30\n",
       "             2016      118.80\n",
       "Name: Argentina, dtype: float64"
      ]
     },
     "execution_count": 148,
     "metadata": {},
     "output_type": "execute_result"
    }
   ],
   "source": [
    " MS_GDP_PC.loc[:, :]['Argentina']"
   ]
  },
  {
   "cell_type": "code",
   "execution_count": 155,
   "metadata": {},
   "outputs": [],
   "source": [
    "#MS_GDP_PC.boxplot(column='va', by='variables')"
   ]
  },
  {
   "cell_type": "code",
   "execution_count": null,
   "metadata": {
    "collapsed": true
   },
   "outputs": [],
   "source": []
  },
  {
   "cell_type": "code",
   "execution_count": 157,
   "metadata": {},
   "outputs": [],
   "source": [
    "#MS_GDP_PC.T"
   ]
  },
  {
   "cell_type": "code",
   "execution_count": null,
   "metadata": {
    "collapsed": true
   },
   "outputs": [],
   "source": []
  },
  {
   "cell_type": "code",
   "execution_count": null,
   "metadata": {
    "collapsed": true
   },
   "outputs": [],
   "source": []
  },
  {
   "cell_type": "code",
   "execution_count": null,
   "metadata": {
    "collapsed": true
   },
   "outputs": [],
   "source": []
  },
  {
   "cell_type": "code",
   "execution_count": null,
   "metadata": {
    "collapsed": true
   },
   "outputs": [],
   "source": []
  },
  {
   "cell_type": "raw",
   "metadata": {},
   "source": [
    "# 1. GDP and military spending \n",
    "GDP = GDP_constant2.T\n",
    "MS = military_spending2.T\n",
    "frames = [GDP, MS]\n",
    "GDP_MS = pd.concat(frames, keys=['GDP', 'Military'], names = ['variables', 'year'])"
   ]
  },
  {
   "cell_type": "code",
   "execution_count": null,
   "metadata": {
    "collapsed": true
   },
   "outputs": [],
   "source": []
  },
  {
   "cell_type": "code",
   "execution_count": null,
   "metadata": {
    "collapsed": true
   },
   "outputs": [],
   "source": [
    "###CORRELATION "
   ]
  },
  {
   "cell_type": "code",
   "execution_count": 158,
   "metadata": {
    "collapsed": true
   },
   "outputs": [],
   "source": [
    "def correlation(x, y):\n",
    "    '''\n",
    "    Fill in this function to compute the correlation between the two\n",
    "    input variables. Each input is either a NumPy array or a Pandas\n",
    "    Series.\n",
    "    \n",
    "    correlation = average of (x in standard units) times (y in standard units)\n",
    "    \n",
    "    Remember to pass the argument \"ddof=0\" to the Pandas std() function!\n",
    "    '''\n",
    "    std_x = (x-x.mean())/x.std(ddof=0)\n",
    "    std_y = (y-y.mean())/y.std(ddof=0)\n",
    "    return (std_x * std_y).mean()\n"
   ]
  },
  {
   "cell_type": "code",
   "execution_count": 159,
   "metadata": {},
   "outputs": [
    {
     "data": {
      "text/plain": [
       "year\n",
       "2012    12969.71\n",
       "2013    12976.64\n",
       "2014    12245.26\n",
       "2015    13467.10\n",
       "2016    12449.22\n",
       "Name: Argentina, dtype: float64"
      ]
     },
     "execution_count": 159,
     "metadata": {},
     "output_type": "execute_result"
    }
   ],
   "source": [
    "MS_GDP_PC.loc['GDP_PC']['Argentina']"
   ]
  },
  {
   "cell_type": "code",
   "execution_count": 160,
   "metadata": {},
   "outputs": [
    {
     "data": {
      "text/plain": [
       "year\n",
       "2012    108.4\n",
       "2013    120.8\n",
       "2014    115.9\n",
       "2015    126.3\n",
       "2016    118.8\n",
       "Name: Argentina, dtype: float64"
      ]
     },
     "execution_count": 160,
     "metadata": {},
     "output_type": "execute_result"
    }
   ],
   "source": [
    "MS_GDP_PC.loc['Military_PC']['Argentina']"
   ]
  },
  {
   "cell_type": "code",
   "execution_count": 161,
   "metadata": {},
   "outputs": [
    {
     "data": {
      "text/plain": [
       "0.414557107202736"
      ]
     },
     "execution_count": 161,
     "metadata": {},
     "output_type": "execute_result"
    }
   ],
   "source": [
    "correlation(MS_GDP_PC.loc['GDP_PC']['Argentina'], MS_GDP_PC.loc['Military_PC']['Argentina'])"
   ]
  },
  {
   "cell_type": "code",
   "execution_count": 166,
   "metadata": {},
   "outputs": [
    {
     "data": {
      "text/plain": [
       "0.69999999999999996"
      ]
     },
     "execution_count": 166,
     "metadata": {},
     "output_type": "execute_result"
    }
   ],
   "source": [
    "#Other method \n",
    "MS_GDP_PC.loc['GDP_PC']['Argentina'].corr(MS_GDP_PC.loc['Military_PC']['Argentina'], method=\"spearman\")"
   ]
  },
  {
   "cell_type": "code",
   "execution_count": 167,
   "metadata": {
    "collapsed": true
   },
   "outputs": [],
   "source": [
    "#correlation for a country \n",
    "def corr_country(country):\n",
    "    #spearman method as the distribution is not normal \n",
    "    corr = MS_GDP_PC.loc['GDP_PC'][country].corr(MS_GDP_PC.loc['Military_PC'][country], method=\"spearman\")\n",
    "    return corr\n",
    "    "
   ]
  },
  {
   "cell_type": "code",
   "execution_count": 168,
   "metadata": {},
   "outputs": [
    {
     "data": {
      "text/plain": [
       "-0.8999999999999998"
      ]
     },
     "execution_count": 168,
     "metadata": {},
     "output_type": "execute_result"
    }
   ],
   "source": [
    "corr_country('United States')"
   ]
  },
  {
   "cell_type": "code",
   "execution_count": 170,
   "metadata": {},
   "outputs": [
    {
     "data": {
      "text/plain": [
       "-0.90455488930522288"
      ]
     },
     "execution_count": 170,
     "metadata": {},
     "output_type": "execute_result"
    }
   ],
   "source": [
    "MS_GDP_PC.loc['GDP_PC']['United States'].corr(MS_GDP_PC.loc['Military_PC']['United States'], method=\"pearson\")"
   ]
  },
  {
   "cell_type": "code",
   "execution_count": 171,
   "metadata": {},
   "outputs": [
    {
     "data": {
      "text/plain": [
       "-0.904554889305223"
      ]
     },
     "execution_count": 171,
     "metadata": {},
     "output_type": "execute_result"
    }
   ],
   "source": [
    "correlation(MS_GDP_PC.loc['GDP_PC']['United States'], MS_GDP_PC.loc['Military_PC']['United States'])"
   ]
  },
  {
   "cell_type": "code",
   "execution_count": 172,
   "metadata": {},
   "outputs": [
    {
     "data": {
      "text/plain": [
       "0.8999999999999998"
      ]
     },
     "execution_count": 172,
     "metadata": {},
     "output_type": "execute_result"
    }
   ],
   "source": [
    "corr_country('Japan')"
   ]
  },
  {
   "cell_type": "code",
   "execution_count": 173,
   "metadata": {},
   "outputs": [
    {
     "data": {
      "text/plain": [
       "0.99999999999999989"
      ]
     },
     "execution_count": 173,
     "metadata": {},
     "output_type": "execute_result"
    }
   ],
   "source": [
    "corr_country('China')"
   ]
  },
  {
   "cell_type": "code",
   "execution_count": 180,
   "metadata": {},
   "outputs": [],
   "source": [
    "#MS_GDP_PC[:].apply(corr_country)"
   ]
  },
  {
   "cell_type": "code",
   "execution_count": null,
   "metadata": {
    "collapsed": true
   },
   "outputs": [],
   "source": [
    "#correlation for a country \n",
    "def corr_country1(df):\n",
    "    #spearman method as the distribution is not normal \n",
    "    corr = MS_GDP_PC.loc['GDP_PC'][country].corr(MS_GDP_PC.loc['Military_PC'][country], method=\"spearman\")\n",
    "    return corr"
   ]
  },
  {
   "cell_type": "code",
   "execution_count": 198,
   "metadata": {},
   "outputs": [],
   "source": [
    "\n",
    "countries = [\"Argentina\", \"Australia\", \"Brazil\", \"Canada\", \"China\", \"France\", 'Germany', \"India\", \"Indonesia\", \n",
    "             \"Italy\", \"Japan\", \"Mexico\", \"Russian Federation\", \"Saudi Arabia\", \"South Africa\", \"South Korea\",\n",
    "             \"Turkey\", \"United Kingdom\",\"United States\"]\n",
    "correl_coeff =[]\n",
    "for country in countries:\n",
    "    corr = corr_country(country)\n",
    "    correl_coeff.append(corr)\n",
    "df = pd.DataFrame([correl_coeff], columns=countries)\n",
    "\n",
    "#Need to define that in a function.\n"
   ]
  },
  {
   "cell_type": "code",
   "execution_count": 199,
   "metadata": {},
   "outputs": [
    {
     "data": {
      "text/html": [
       "<div>\n",
       "<style>\n",
       "    .dataframe thead tr:only-child th {\n",
       "        text-align: right;\n",
       "    }\n",
       "\n",
       "    .dataframe thead th {\n",
       "        text-align: left;\n",
       "    }\n",
       "\n",
       "    .dataframe tbody tr th {\n",
       "        vertical-align: top;\n",
       "    }\n",
       "</style>\n",
       "<table border=\"1\" class=\"dataframe\">\n",
       "  <thead>\n",
       "    <tr style=\"text-align: right;\">\n",
       "      <th></th>\n",
       "      <th>Argentina</th>\n",
       "      <th>Australia</th>\n",
       "      <th>Brazil</th>\n",
       "      <th>Canada</th>\n",
       "      <th>China</th>\n",
       "      <th>France</th>\n",
       "      <th>Germany</th>\n",
       "      <th>India</th>\n",
       "      <th>Indonesia</th>\n",
       "      <th>Italy</th>\n",
       "      <th>Japan</th>\n",
       "      <th>Mexico</th>\n",
       "      <th>Russian Federation</th>\n",
       "      <th>Saudi Arabia</th>\n",
       "      <th>South Africa</th>\n",
       "      <th>South Korea</th>\n",
       "      <th>Turkey</th>\n",
       "      <th>United Kingdom</th>\n",
       "      <th>United States</th>\n",
       "    </tr>\n",
       "  </thead>\n",
       "  <tbody>\n",
       "    <tr>\n",
       "      <th>0</th>\n",
       "      <td>0.7</td>\n",
       "      <td>0.6</td>\n",
       "      <td>1.0</td>\n",
       "      <td>1.0</td>\n",
       "      <td>1.0</td>\n",
       "      <td>1.0</td>\n",
       "      <td>0.7</td>\n",
       "      <td>0.8</td>\n",
       "      <td>-0.1</td>\n",
       "      <td>0.7</td>\n",
       "      <td>0.9</td>\n",
       "      <td>0.9</td>\n",
       "      <td>0.8</td>\n",
       "      <td>-0.4</td>\n",
       "      <td>1.0</td>\n",
       "      <td>1.0</td>\n",
       "      <td>0.9</td>\n",
       "      <td>0.3</td>\n",
       "      <td>-0.9</td>\n",
       "    </tr>\n",
       "  </tbody>\n",
       "</table>\n",
       "</div>"
      ],
      "text/plain": [
       "   Argentina  Australia  Brazil  Canada  China  France  Germany  India  \\\n",
       "0        0.7        0.6     1.0     1.0    1.0     1.0      0.7    0.8   \n",
       "\n",
       "   Indonesia  Italy  Japan  Mexico  Russian Federation  Saudi Arabia  \\\n",
       "0       -0.1    0.7    0.9     0.9                 0.8          -0.4   \n",
       "\n",
       "   South Africa  South Korea  Turkey  United Kingdom  United States  \n",
       "0           1.0          1.0     0.9             0.3           -0.9  "
      ]
     },
     "execution_count": 199,
     "metadata": {},
     "output_type": "execute_result"
    }
   ],
   "source": [
    "df"
   ]
  },
  {
   "cell_type": "code",
   "execution_count": 204,
   "metadata": {},
   "outputs": [
    {
     "data": {
      "text/plain": [
       "0.99999999999999989"
      ]
     },
     "execution_count": 204,
     "metadata": {},
     "output_type": "execute_result"
    }
   ],
   "source": [
    "corr_country(\"France\")"
   ]
  },
  {
   "cell_type": "code",
   "execution_count": null,
   "metadata": {
    "collapsed": true
   },
   "outputs": [],
   "source": [
    "## SO I CAN DEFINE THE DATAFRAME FOR CORRELATION BOTH IN A AND C / THEN DO THE SCATTERPLOT \n",
    "#CAN SPLIT THE MATRIX TO (POSITIVE CORRELATION BOTH  / NEGATIVE BOTH) / (DIFFERENT SENSE TOGETHER)"
   ]
  },
  {
   "cell_type": "code",
   "execution_count": null,
   "metadata": {
    "collapsed": true
   },
   "outputs": [],
   "source": []
  },
  {
   "cell_type": "code",
   "execution_count": null,
   "metadata": {
    "collapsed": true
   },
   "outputs": [],
   "source": [
    "####SCATTEPLOT "
   ]
  },
  {
   "cell_type": "code",
   "execution_count": 207,
   "metadata": {},
   "outputs": [
    {
     "data": {
      "text/plain": [
       "<matplotlib.legend.Legend at 0x237811b22e8>"
      ]
     },
     "execution_count": 207,
     "metadata": {},
     "output_type": "execute_result"
    },
    {
     "data": {
      "image/png": "[encoded data removed]",
      "text/plain": [
       "<matplotlib.figure.Figure at 0x237811b2278>"
      ]
     },
     "metadata": {},
     "output_type": "display_data"
    }
   ],
   "source": [
    "MS_GDP_PC.loc['GDP_PC']['United States'].corr(MS_GDP_PC.loc['Military_PC']['United States'], method=\"pearson\")\n",
    "\n",
    "plt.scatter(MS_GDP_PC.loc['GDP_PC']['United States'], MS_GDP_PC.loc['Military_PC']['United States'], s=120, c='b', label='United States')\n",
    "plt.scatter(MS_GDP_PC.loc['GDP_PC']['Canada'], MS_GDP_PC.loc['Military_PC']['Canada'], s=60, c='r', label='Canada') \n",
    "plt.legend()\n",
    "\n"
   ]
  },
  {
   "cell_type": "markdown",
   "metadata": {},
   "source": [
    "ond = df.col3 > 300\n",
    "subset_a = df[cond].dropna()\n",
    "subset_b = df[~cond].dropna()\n",
    "plt.scatter(subset_a.col1, subset_a.col2, s=120, c='b', label='col3 > 300')\n",
    "plt.scatter(subset_b.col1, subset_b.col2, s=60, c='r', label='col3 <= 300') \n",
    "plt.legend()\n"
   ]
  },
  {
   "cell_type": "code",
   "execution_count": null,
   "metadata": {
    "collapsed": true
   },
   "outputs": [],
   "source": []
  },
  {
   "cell_type": "markdown",
   "metadata": {},
   "source": [
    "# SINGLE OUT THE FASTEST GROWING COUNTRIES IN MS in fixed value and in percentage \n",
    "\n",
    "can merge that with B???"
   ]
  },
  {
   "cell_type": "code",
   "execution_count": null,
   "metadata": {
    "collapsed": true
   },
   "outputs": [],
   "source": [
    "#topten function \n",
    "def topten(sex, year, total=10):\n",
    "    simple = allyears_indexed.loc[sex,:,year].sort_values(by='number',ascending=False) #need to double check the sex,:,year\n",
    "    simple = simple.reset_index()\n",
    "    simple = simple.drop(['sex','year','number'],axis=1).head(total)\n",
    "    simple.columns = [year]\n",
    "    simple.index = simple.index + 1\n",
    "    return simple"
   ]
  },
  {
   "cell_type": "code",
   "execution_count": null,
   "metadata": {
    "collapsed": true
   },
   "outputs": [],
   "source": [
    "def toptens(sex, year_start, year_end):\n",
    "    years = [topten(sex,year) for year in range(year_start,year_end+1)]\n",
    "    return years[0].join(years[1:])"
   ]
  },
  {
   "cell_type": "code",
   "execution_count": 277,
   "metadata": {},
   "outputs": [],
   "source": [
    "hello = MS.T['2012'].sort_values(ascending=False)"
   ]
  },
  {
   "cell_type": "code",
   "execution_count": 278,
   "metadata": {
    "collapsed": true
   },
   "outputs": [],
   "source": [
    "hello = hello.reset_index()"
   ]
  },
  {
   "cell_type": "code",
   "execution_count": 281,
   "metadata": {},
   "outputs": [],
   "source": [
    "hello = hello.drop('2012', axis=1)"
   ]
  },
  {
   "cell_type": "code",
   "execution_count": 292,
   "metadata": {},
   "outputs": [],
   "source": [
    "hello.columns = ['2012']"
   ]
  },
  {
   "cell_type": "code",
   "execution_count": 293,
   "metadata": {},
   "outputs": [
    {
     "data": {
      "text/html": [
       "<div>\n",
       "<style>\n",
       "    .dataframe thead tr:only-child th {\n",
       "        text-align: right;\n",
       "    }\n",
       "\n",
       "    .dataframe thead th {\n",
       "        text-align: left;\n",
       "    }\n",
       "\n",
       "    .dataframe tbody tr th {\n",
       "        vertical-align: top;\n",
       "    }\n",
       "</style>\n",
       "<table border=\"1\" class=\"dataframe\">\n",
       "  <thead>\n",
       "    <tr style=\"text-align: right;\">\n",
       "      <th></th>\n",
       "      <th>2012</th>\n",
       "    </tr>\n",
       "  </thead>\n",
       "  <tbody>\n",
       "    <tr>\n",
       "      <th>0</th>\n",
       "      <td>United States</td>\n",
       "    </tr>\n",
       "    <tr>\n",
       "      <th>1</th>\n",
       "      <td>China</td>\n",
       "    </tr>\n",
       "    <tr>\n",
       "      <th>2</th>\n",
       "      <td>Saudi Arabia</td>\n",
       "    </tr>\n",
       "    <tr>\n",
       "      <th>3</th>\n",
       "      <td>United Kingdom</td>\n",
       "    </tr>\n",
       "    <tr>\n",
       "      <th>4</th>\n",
       "      <td>Russian Federation</td>\n",
       "    </tr>\n",
       "    <tr>\n",
       "      <th>5</th>\n",
       "      <td>France</td>\n",
       "    </tr>\n",
       "    <tr>\n",
       "      <th>6</th>\n",
       "      <td>India</td>\n",
       "    </tr>\n",
       "    <tr>\n",
       "      <th>7</th>\n",
       "      <td>Germany</td>\n",
       "    </tr>\n",
       "    <tr>\n",
       "      <th>8</th>\n",
       "      <td>Japan</td>\n",
       "    </tr>\n",
       "    <tr>\n",
       "      <th>9</th>\n",
       "      <td>South Korea</td>\n",
       "    </tr>\n",
       "    <tr>\n",
       "      <th>10</th>\n",
       "      <td>Italy</td>\n",
       "    </tr>\n",
       "    <tr>\n",
       "      <th>11</th>\n",
       "      <td>Brazil</td>\n",
       "    </tr>\n",
       "    <tr>\n",
       "      <th>12</th>\n",
       "      <td>Australia</td>\n",
       "    </tr>\n",
       "    <tr>\n",
       "      <th>13</th>\n",
       "      <td>Canada</td>\n",
       "    </tr>\n",
       "    <tr>\n",
       "      <th>14</th>\n",
       "      <td>Turkey</td>\n",
       "    </tr>\n",
       "    <tr>\n",
       "      <th>15</th>\n",
       "      <td>Mexico</td>\n",
       "    </tr>\n",
       "    <tr>\n",
       "      <th>16</th>\n",
       "      <td>Indonesia</td>\n",
       "    </tr>\n",
       "    <tr>\n",
       "      <th>17</th>\n",
       "      <td>Argentina</td>\n",
       "    </tr>\n",
       "    <tr>\n",
       "      <th>18</th>\n",
       "      <td>South Africa</td>\n",
       "    </tr>\n",
       "  </tbody>\n",
       "</table>\n",
       "</div>"
      ],
      "text/plain": [
       "                  2012\n",
       "0        United States\n",
       "1                China\n",
       "2         Saudi Arabia\n",
       "3       United Kingdom\n",
       "4   Russian Federation\n",
       "5               France\n",
       "6                India\n",
       "7              Germany\n",
       "8                Japan\n",
       "9          South Korea\n",
       "10               Italy\n",
       "11              Brazil\n",
       "12           Australia\n",
       "13              Canada\n",
       "14              Turkey\n",
       "15              Mexico\n",
       "16           Indonesia\n",
       "17           Argentina\n",
       "18        South Africa"
      ]
     },
     "execution_count": 293,
     "metadata": {},
     "output_type": "execute_result"
    }
   ],
   "source": [
    "hello"
   ]
  },
  {
   "cell_type": "code",
   "execution_count": 326,
   "metadata": {
    "collapsed": true
   },
   "outputs": [],
   "source": [
    "def topfive(year, total=5):\n",
    "    df = MS.T[year].sort_values(ascending=False).head(total)\n",
    "    df = df.reset_index()\n",
    "    df = df.drop(year, axis=1)\n",
    "    df.columns = [year]\n",
    "    df.index = df.index + 1 \n",
    "    return df"
   ]
  },
  {
   "cell_type": "markdown",
   "metadata": {},
   "source": [
    "def topfive1(x, total=5):\n",
    "    df = x.sort_values(ascending=False).head(total)\n",
    "    \n",
    "    #df.columns = [year]\n",
    "    #df.index = df.index + 1 \n",
    "    return df"
   ]
  },
  {
   "cell_type": "markdown",
   "metadata": {},
   "source": [
    "topfive1(MS.T['2012'])"
   ]
  },
  {
   "cell_type": "code",
   "execution_count": 327,
   "metadata": {},
   "outputs": [
    {
     "data": {
      "text/html": [
       "<div>\n",
       "<style>\n",
       "    .dataframe thead tr:only-child th {\n",
       "        text-align: right;\n",
       "    }\n",
       "\n",
       "    .dataframe thead th {\n",
       "        text-align: left;\n",
       "    }\n",
       "\n",
       "    .dataframe tbody tr th {\n",
       "        vertical-align: top;\n",
       "    }\n",
       "</style>\n",
       "<table border=\"1\" class=\"dataframe\">\n",
       "  <thead>\n",
       "    <tr style=\"text-align: right;\">\n",
       "      <th></th>\n",
       "      <th>2016</th>\n",
       "    </tr>\n",
       "  </thead>\n",
       "  <tbody>\n",
       "    <tr>\n",
       "      <th>1</th>\n",
       "      <td>United States</td>\n",
       "    </tr>\n",
       "    <tr>\n",
       "      <th>2</th>\n",
       "      <td>China</td>\n",
       "    </tr>\n",
       "    <tr>\n",
       "      <th>3</th>\n",
       "      <td>Russian Federation</td>\n",
       "    </tr>\n",
       "    <tr>\n",
       "      <th>4</th>\n",
       "      <td>Saudi Arabia</td>\n",
       "    </tr>\n",
       "    <tr>\n",
       "      <th>5</th>\n",
       "      <td>France</td>\n",
       "    </tr>\n",
       "  </tbody>\n",
       "</table>\n",
       "</div>"
      ],
      "text/plain": [
       "                 2016\n",
       "1       United States\n",
       "2               China\n",
       "3  Russian Federation\n",
       "4        Saudi Arabia\n",
       "5              France"
      ]
     },
     "execution_count": 327,
     "metadata": {},
     "output_type": "execute_result"
    }
   ],
   "source": [
    "topfive(\"2016\")"
   ]
  },
  {
   "cell_type": "markdown",
   "metadata": {},
   "source": [
    "MS.T.apply(topfive1)"
   ]
  },
  {
   "cell_type": "code",
   "execution_count": 345,
   "metadata": {},
   "outputs": [],
   "source": [
    "def topfives(year_start, year_end):\n",
    "    #for year in range(int(float(year_start)),int(float(year_end+1))):\n",
    "        #print(topfive(str(year)))\n",
    "    df =  [topfive(str(year)) for year in range(year_start,year_end+1)]\n",
    "    return df[0].join(df[1:])"
   ]
  },
  {
   "cell_type": "code",
   "execution_count": null,
   "metadata": {
    "collapsed": true
   },
   "outputs": [],
   "source": [
    "def toptens(sex, year_start, year_end):\n",
    "    years = [topten(sex,year) for year in range(year_start,year_end+1)]\n",
    "    return years[0].join(years[1:])"
   ]
  },
  {
   "cell_type": "code",
   "execution_count": 346,
   "metadata": {},
   "outputs": [
    {
     "data": {
      "text/html": [
       "<div>\n",
       "<style>\n",
       "    .dataframe thead tr:only-child th {\n",
       "        text-align: right;\n",
       "    }\n",
       "\n",
       "    .dataframe thead th {\n",
       "        text-align: left;\n",
       "    }\n",
       "\n",
       "    .dataframe tbody tr th {\n",
       "        vertical-align: top;\n",
       "    }\n",
       "</style>\n",
       "<table border=\"1\" class=\"dataframe\">\n",
       "  <thead>\n",
       "    <tr style=\"text-align: right;\">\n",
       "      <th></th>\n",
       "      <th>2012</th>\n",
       "      <th>2013</th>\n",
       "      <th>2014</th>\n",
       "      <th>2015</th>\n",
       "      <th>2016</th>\n",
       "    </tr>\n",
       "  </thead>\n",
       "  <tbody>\n",
       "    <tr>\n",
       "      <th>1</th>\n",
       "      <td>United States</td>\n",
       "      <td>United States</td>\n",
       "      <td>United States</td>\n",
       "      <td>United States</td>\n",
       "      <td>United States</td>\n",
       "    </tr>\n",
       "    <tr>\n",
       "      <th>2</th>\n",
       "      <td>China</td>\n",
       "      <td>China</td>\n",
       "      <td>China</td>\n",
       "      <td>China</td>\n",
       "      <td>China</td>\n",
       "    </tr>\n",
       "    <tr>\n",
       "      <th>3</th>\n",
       "      <td>Saudi Arabia</td>\n",
       "      <td>Saudi Arabia</td>\n",
       "      <td>Saudi Arabia</td>\n",
       "      <td>Saudi Arabia</td>\n",
       "      <td>Russian Federation</td>\n",
       "    </tr>\n",
       "    <tr>\n",
       "      <th>4</th>\n",
       "      <td>United Kingdom</td>\n",
       "      <td>Russian Federation</td>\n",
       "      <td>Russian Federation</td>\n",
       "      <td>Russian Federation</td>\n",
       "      <td>Saudi Arabia</td>\n",
       "    </tr>\n",
       "    <tr>\n",
       "      <th>5</th>\n",
       "      <td>Russian Federation</td>\n",
       "      <td>United Kingdom</td>\n",
       "      <td>United Kingdom</td>\n",
       "      <td>France</td>\n",
       "      <td>France</td>\n",
       "    </tr>\n",
       "  </tbody>\n",
       "</table>\n",
       "</div>"
      ],
      "text/plain": [
       "                 2012                2013                2014  \\\n",
       "1       United States       United States       United States   \n",
       "2               China               China               China   \n",
       "3        Saudi Arabia        Saudi Arabia        Saudi Arabia   \n",
       "4      United Kingdom  Russian Federation  Russian Federation   \n",
       "5  Russian Federation      United Kingdom      United Kingdom   \n",
       "\n",
       "                 2015                2016  \n",
       "1       United States       United States  \n",
       "2               China               China  \n",
       "3        Saudi Arabia  Russian Federation  \n",
       "4  Russian Federation        Saudi Arabia  \n",
       "5              France              France  "
      ]
     },
     "execution_count": 346,
     "metadata": {},
     "output_type": "execute_result"
    }
   ],
   "source": [
    "topfives(2012, 2016)"
   ]
  },
  {
   "cell_type": "code",
   "execution_count": 367,
   "metadata": {},
   "outputs": [
    {
     "data": {
      "text/plain": [
       "United States         5\n",
       "Saudi Arabia          5\n",
       "China                 5\n",
       "Russian Federation    5\n",
       "United Kingdom        3\n",
       "France                2\n",
       "dtype: int64"
      ]
     },
     "execution_count": 367,
     "metadata": {},
     "output_type": "execute_result"
    }
   ],
   "source": [
    "topfives(2012,2016).stack().value_counts()"
   ]
  },
  {
   "cell_type": "code",
   "execution_count": 369,
   "metadata": {},
   "outputs": [],
   "source": [
    "MS_high = topfives(2012,2016).stack().value_counts().index[:6]"
   ]
  },
  {
   "cell_type": "code",
   "execution_count": 372,
   "metadata": {},
   "outputs": [],
   "source": [
    "#### THEN PLOT THEM"
   ]
  },
  {
   "cell_type": "code",
   "execution_count": null,
   "metadata": {
    "collapsed": true
   },
   "outputs": [],
   "source": []
  },
  {
   "cell_type": "code",
   "execution_count": null,
   "metadata": {},
   "outputs": [],
   "source": []
  },
  {
   "cell_type": "code",
   "execution_count": null,
   "metadata": {
    "collapsed": true
   },
   "outputs": [],
   "source": [
    "#maybe reset index to use boxplot???"
   ]
  },
  {
   "cell_type": "code",
   "execution_count": null,
   "metadata": {
    "collapsed": true
   },
   "outputs": [],
   "source": []
  },
  {
   "cell_type": "code",
   "execution_count": null,
   "metadata": {
    "collapsed": true
   },
   "outputs": [],
   "source": []
  },
  {
   "cell_type": "code",
   "execution_count": null,
   "metadata": {
    "collapsed": true
   },
   "outputs": [],
   "source": []
  },
  {
   "cell_type": "code",
   "execution_count": null,
   "metadata": {
    "collapsed": true
   },
   "outputs": [],
   "source": []
  }
 ],
 "metadata": {
  "kernelspec": {
   "display_name": "Python 3",
   "language": "python",
   "name": "python3"
  },
  "language_info": {
   "codemirror_mode": {
    "name": "ipython",
    "version": 3
   },
   "file_extension": ".py",
   "mimetype": "text/x-python",
   "name": "python",
   "nbconvert_exporter": "python",
   "pygments_lexer": "ipython3",
   "version": "3.6.2"
  }
 },
 "nbformat": 4,
 "nbformat_minor": 2
}
